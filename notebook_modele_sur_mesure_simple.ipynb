{
 "cells": [
  {
   "cell_type": "code",
   "execution_count": 30,
   "id": "b06d5ddc-78da-4dbe-88a9-58fdad663665",
   "metadata": {},
   "outputs": [],
   "source": [
    "import pandas as pd\n",
    "import numpy as np\n",
    "import matplotlib.pyplot as plt\n",
    "import gensim.downloader as api\n",
    "import seaborn as sns\n",
    "import tensorflow as tf\n",
    "import string\n",
    "import nltk\n",
    "import mlflow\n",
    "import mlflow.sklearn\n",
    "import re\n",
    "import time\n",
    "import os\n",
    "import pickle\n",
    "\n",
    "\n",
    "from nltk.stem import WordNetLemmatizer\n",
    "from nltk.tokenize import word_tokenize\n",
    "\n",
    "from sklearn.model_selection import train_test_split, GridSearchCV\n",
    "from sklearn.feature_extraction.text import TfidfVectorizer\n",
    "from sklearn.linear_model import LogisticRegression\n",
    "from sklearn.metrics import classification_report, accuracy_score, roc_auc_score\n",
    "from sklearn.metrics import roc_curve\n",
    "\n",
    "from gensim.models import Word2Vec\n",
    "\n",
    "from tensorflow.keras.preprocessing.text import Tokenizer\n",
    "from tensorflow.keras.preprocessing.sequence import pad_sequences\n",
    "from tensorflow.keras.models import Sequential\n",
    "from tensorflow.keras.layers import Embedding, LSTM, Dense, Dropout, Bidirectional\n",
    "from tensorflow.keras.callbacks import EarlyStopping, ModelCheckpoint\n",
    "from tensorflow.keras.layers import BatchNormalization\n",
    "from tensorflow.keras.metrics import AUC\n",
    "from tensorflow.keras.optimizers import Adam\n",
    "from plot_keras_history import show_history, plot_history\n",
    "\n",
    "from transformers import DistilBertTokenizerFast, create_optimizer, TFDistilBertForSequenceClassification"
   ]
  },
  {
   "cell_type": "code",
   "execution_count": 31,
   "id": "7ab530e2-2c71-40c0-9a73-6beb9bc4c872",
   "metadata": {},
   "outputs": [],
   "source": [
    "sample_size = 0.01"
   ]
  },
  {
   "cell_type": "code",
   "execution_count": 32,
   "id": "8a6ac636-99bb-44e2-872c-99ffb5916c5f",
   "metadata": {},
   "outputs": [],
   "source": [
    "def log_experiment(model, params, metrics, artifacts, input_example, times):\n",
    "    \"\"\"\n",
    "    Enregistre un modèle et ses performances dans MLflow.\n",
    "\n",
    "    Cette fonction logge les hyperparamètres du modèle, les métriques fournies,\n",
    "    ainsi que les artefacts associés. Elle enregistre également le temps d'entraînement\n",
    "    (fit_time) et le temps de prédiction (predict_time) fournis dans le dictionnaire times.\n",
    "\n",
    "    Parameters :\n",
    "        model (sklearn.base.BaseEstimator): Le modèle entraîné à enregistrer.\n",
    "        params (dict): Dictionnaire des hyperparamètres du modèle.\n",
    "        metrics (dict): Dictionnaire des métriques à enregistrer (par exemple, \n",
    "                        \"train_accuracy\", \"test_accuracy\", \"test_auc\", etc.).\n",
    "        artifacts (dict): Dictionnaire des artefacts à enregistrer (par exemple, \n",
    "                          \"roc_curve\", \"cv_results\", etc.). Les artefacts peuvent \n",
    "                          être des fichiers à enregistrer.\n",
    "        input_example (pd.DataFrame ou np.ndarray): Exemple d'entrée pour la sérialisation du modèle.\n",
    "        times (dict): Dictionnaire contenant \"fit_time\" et \"predict_time\", les temps d'entraînement\n",
    "                      et de prédiction.\n",
    "\n",
    "    Returns '\n",
    "        None\n",
    "    \"\"\"\n",
    "    with mlflow.start_run() as run:\n",
    "\n",
    "        # Log des paramètres du modèle\n",
    "        mlflow.log_params(params)\n",
    "\n",
    "        # Log des métriques\n",
    "        for metric_name, metric_value in metrics.items():\n",
    "            mlflow.log_metric(metric_name, metric_value)\n",
    "\n",
    "        # Log des temps\n",
    "        for time_name, time_value in times.items():\n",
    "            mlflow.log_metric(time_name, time_value)\n",
    "\n",
    "        # Log du modèle\n",
    "        mlflow.sklearn.log_model(model, 'model', input_example=input_example)\n",
    "\n",
    "        # Enregistrement des artefacts\n",
    "        for artifact_name, artifact_value in artifacts.items():\n",
    "            mlflow.log_artifact(artifact_value)\n",
    "\n",
    "        print(f'Modèle et résultats enregistrés dans MLFlow sous le run ID: {run.info.run_id}')"
   ]
  },
  {
   "cell_type": "markdown",
   "id": "02e7ebbf-d086-48dd-bee6-141cdf9f3a50",
   "metadata": {},
   "source": [
    "# 1. Préparation des données"
   ]
  },
  {
   "cell_type": "code",
   "execution_count": 33,
   "id": "fd07a698-fe90-4339-bc2f-c3770496367e",
   "metadata": {},
   "outputs": [],
   "source": [
    "col_names = ['target', 'ids', 'date', 'flag', 'user','text']\n",
    "tweets = pd.read_csv('training.1600000.processed.noemoticon.csv',\n",
    "                     encoding='latin-1',\n",
    "                     header=None,\n",
    "                     names=col_names\n",
    "                    )"
   ]
  },
  {
   "cell_type": "code",
   "execution_count": 34,
   "id": "b70f354a-f70d-468d-bc1c-c8e9dab604c1",
   "metadata": {},
   "outputs": [
    {
     "data": {
      "text/html": [
       "<div>\n",
       "<style scoped>\n",
       "    .dataframe tbody tr th:only-of-type {\n",
       "        vertical-align: middle;\n",
       "    }\n",
       "\n",
       "    .dataframe tbody tr th {\n",
       "        vertical-align: top;\n",
       "    }\n",
       "\n",
       "    .dataframe thead th {\n",
       "        text-align: right;\n",
       "    }\n",
       "</style>\n",
       "<table border=\"1\" class=\"dataframe\">\n",
       "  <thead>\n",
       "    <tr style=\"text-align: right;\">\n",
       "      <th></th>\n",
       "      <th>target</th>\n",
       "      <th>ids</th>\n",
       "      <th>date</th>\n",
       "      <th>flag</th>\n",
       "      <th>user</th>\n",
       "      <th>text</th>\n",
       "    </tr>\n",
       "  </thead>\n",
       "  <tbody>\n",
       "    <tr>\n",
       "      <th>0</th>\n",
       "      <td>0</td>\n",
       "      <td>1467810369</td>\n",
       "      <td>Mon Apr 06 22:19:45 PDT 2009</td>\n",
       "      <td>NO_QUERY</td>\n",
       "      <td>_TheSpecialOne_</td>\n",
       "      <td>@switchfoot http://twitpic.com/2y1zl - Awww, t...</td>\n",
       "    </tr>\n",
       "    <tr>\n",
       "      <th>1</th>\n",
       "      <td>0</td>\n",
       "      <td>1467810672</td>\n",
       "      <td>Mon Apr 06 22:19:49 PDT 2009</td>\n",
       "      <td>NO_QUERY</td>\n",
       "      <td>scotthamilton</td>\n",
       "      <td>is upset that he can't update his Facebook by ...</td>\n",
       "    </tr>\n",
       "    <tr>\n",
       "      <th>2</th>\n",
       "      <td>0</td>\n",
       "      <td>1467810917</td>\n",
       "      <td>Mon Apr 06 22:19:53 PDT 2009</td>\n",
       "      <td>NO_QUERY</td>\n",
       "      <td>mattycus</td>\n",
       "      <td>@Kenichan I dived many times for the ball. Man...</td>\n",
       "    </tr>\n",
       "    <tr>\n",
       "      <th>3</th>\n",
       "      <td>0</td>\n",
       "      <td>1467811184</td>\n",
       "      <td>Mon Apr 06 22:19:57 PDT 2009</td>\n",
       "      <td>NO_QUERY</td>\n",
       "      <td>ElleCTF</td>\n",
       "      <td>my whole body feels itchy and like its on fire</td>\n",
       "    </tr>\n",
       "    <tr>\n",
       "      <th>4</th>\n",
       "      <td>0</td>\n",
       "      <td>1467811193</td>\n",
       "      <td>Mon Apr 06 22:19:57 PDT 2009</td>\n",
       "      <td>NO_QUERY</td>\n",
       "      <td>Karoli</td>\n",
       "      <td>@nationwideclass no, it's not behaving at all....</td>\n",
       "    </tr>\n",
       "    <tr>\n",
       "      <th>...</th>\n",
       "      <td>...</td>\n",
       "      <td>...</td>\n",
       "      <td>...</td>\n",
       "      <td>...</td>\n",
       "      <td>...</td>\n",
       "      <td>...</td>\n",
       "    </tr>\n",
       "    <tr>\n",
       "      <th>1599995</th>\n",
       "      <td>4</td>\n",
       "      <td>2193601966</td>\n",
       "      <td>Tue Jun 16 08:40:49 PDT 2009</td>\n",
       "      <td>NO_QUERY</td>\n",
       "      <td>AmandaMarie1028</td>\n",
       "      <td>Just woke up. Having no school is the best fee...</td>\n",
       "    </tr>\n",
       "    <tr>\n",
       "      <th>1599996</th>\n",
       "      <td>4</td>\n",
       "      <td>2193601969</td>\n",
       "      <td>Tue Jun 16 08:40:49 PDT 2009</td>\n",
       "      <td>NO_QUERY</td>\n",
       "      <td>TheWDBoards</td>\n",
       "      <td>TheWDB.com - Very cool to hear old Walt interv...</td>\n",
       "    </tr>\n",
       "    <tr>\n",
       "      <th>1599997</th>\n",
       "      <td>4</td>\n",
       "      <td>2193601991</td>\n",
       "      <td>Tue Jun 16 08:40:49 PDT 2009</td>\n",
       "      <td>NO_QUERY</td>\n",
       "      <td>bpbabe</td>\n",
       "      <td>Are you ready for your MoJo Makeover? Ask me f...</td>\n",
       "    </tr>\n",
       "    <tr>\n",
       "      <th>1599998</th>\n",
       "      <td>4</td>\n",
       "      <td>2193602064</td>\n",
       "      <td>Tue Jun 16 08:40:49 PDT 2009</td>\n",
       "      <td>NO_QUERY</td>\n",
       "      <td>tinydiamondz</td>\n",
       "      <td>Happy 38th Birthday to my boo of alll time!!! ...</td>\n",
       "    </tr>\n",
       "    <tr>\n",
       "      <th>1599999</th>\n",
       "      <td>4</td>\n",
       "      <td>2193602129</td>\n",
       "      <td>Tue Jun 16 08:40:50 PDT 2009</td>\n",
       "      <td>NO_QUERY</td>\n",
       "      <td>RyanTrevMorris</td>\n",
       "      <td>happy #charitytuesday @theNSPCC @SparksCharity...</td>\n",
       "    </tr>\n",
       "  </tbody>\n",
       "</table>\n",
       "<p>1600000 rows × 6 columns</p>\n",
       "</div>"
      ],
      "text/plain": [
       "         target         ids                          date      flag  \\\n",
       "0             0  1467810369  Mon Apr 06 22:19:45 PDT 2009  NO_QUERY   \n",
       "1             0  1467810672  Mon Apr 06 22:19:49 PDT 2009  NO_QUERY   \n",
       "2             0  1467810917  Mon Apr 06 22:19:53 PDT 2009  NO_QUERY   \n",
       "3             0  1467811184  Mon Apr 06 22:19:57 PDT 2009  NO_QUERY   \n",
       "4             0  1467811193  Mon Apr 06 22:19:57 PDT 2009  NO_QUERY   \n",
       "...         ...         ...                           ...       ...   \n",
       "1599995       4  2193601966  Tue Jun 16 08:40:49 PDT 2009  NO_QUERY   \n",
       "1599996       4  2193601969  Tue Jun 16 08:40:49 PDT 2009  NO_QUERY   \n",
       "1599997       4  2193601991  Tue Jun 16 08:40:49 PDT 2009  NO_QUERY   \n",
       "1599998       4  2193602064  Tue Jun 16 08:40:49 PDT 2009  NO_QUERY   \n",
       "1599999       4  2193602129  Tue Jun 16 08:40:50 PDT 2009  NO_QUERY   \n",
       "\n",
       "                    user                                               text  \n",
       "0        _TheSpecialOne_  @switchfoot http://twitpic.com/2y1zl - Awww, t...  \n",
       "1          scotthamilton  is upset that he can't update his Facebook by ...  \n",
       "2               mattycus  @Kenichan I dived many times for the ball. Man...  \n",
       "3                ElleCTF    my whole body feels itchy and like its on fire   \n",
       "4                 Karoli  @nationwideclass no, it's not behaving at all....  \n",
       "...                  ...                                                ...  \n",
       "1599995  AmandaMarie1028  Just woke up. Having no school is the best fee...  \n",
       "1599996      TheWDBoards  TheWDB.com - Very cool to hear old Walt interv...  \n",
       "1599997           bpbabe  Are you ready for your MoJo Makeover? Ask me f...  \n",
       "1599998     tinydiamondz  Happy 38th Birthday to my boo of alll time!!! ...  \n",
       "1599999   RyanTrevMorris  happy #charitytuesday @theNSPCC @SparksCharity...  \n",
       "\n",
       "[1600000 rows x 6 columns]"
      ]
     },
     "execution_count": 34,
     "metadata": {},
     "output_type": "execute_result"
    }
   ],
   "source": [
    "tweets"
   ]
  },
  {
   "cell_type": "code",
   "execution_count": 35,
   "id": "decaf428-ee97-422b-9596-247bd316170a",
   "metadata": {},
   "outputs": [
    {
     "data": {
      "text/plain": [
       "target\n",
       "0    800000\n",
       "4    800000\n",
       "Name: count, dtype: int64"
      ]
     },
     "execution_count": 35,
     "metadata": {},
     "output_type": "execute_result"
    }
   ],
   "source": [
    "tweets['target'].value_counts()"
   ]
  },
  {
   "cell_type": "code",
   "execution_count": 36,
   "id": "fe00dd21-ec75-41eb-8e7e-fbf4dd1b62c7",
   "metadata": {},
   "outputs": [
    {
     "data": {
      "text/plain": [
       "target          2\n",
       "ids       1598315\n",
       "date       774363\n",
       "flag            1\n",
       "user       659775\n",
       "text      1581466\n",
       "dtype: int64"
      ]
     },
     "execution_count": 36,
     "metadata": {},
     "output_type": "execute_result"
    }
   ],
   "source": [
    "tweets.nunique()"
   ]
  },
  {
   "cell_type": "code",
   "execution_count": 37,
   "id": "2d078559-5b60-4c3d-810c-ba5071278aa2",
   "metadata": {},
   "outputs": [],
   "source": [
    "def clean_tweet(tweet):\n",
    "    # 1. Convertir en minuscules\n",
    "    tweet = tweet.lower()\n",
    "\n",
    "    # 2. Supprimer les mentions (@user)\n",
    "    tweet = re.sub(r\"@\\w+\", \"\", tweet)\n",
    "\n",
    "    # 3. Remplacer les URLs par \"URL\"\n",
    "    tweet = re.sub(r\"http\\S+|www\\S+|https\\S+\", \"URL\", tweet, flags=re.MULTILINE)\n",
    "\n",
    "    # 4. Gérer les hashtags (#word → word)\n",
    "    tweet = re.sub(r\"#(\\w+)\", r\"\\1\", tweet)\n",
    "\n",
    "    # 5. Réduire les répétitions de lettres (ex: coooool → cool)\n",
    "    tweet = re.sub(r\"(.)\\1{2,}\", r\"\\1\\1\", tweet)\n",
    "\n",
    "    # 6. Supprimer la ponctuation excessive et les caractères spéciaux\n",
    "    tweet = re.sub(r\"[^a-zA-Z0-9\\s]\", \"\", tweet)\n",
    "\n",
    "    return tweet"
   ]
  },
  {
   "cell_type": "code",
   "execution_count": 38,
   "id": "9e784eb8-276d-4de5-950b-b7b34eed2b81",
   "metadata": {},
   "outputs": [],
   "source": [
    "# # Fonction de lemmatization\n",
    "# def lemmatize_text(text, lemmatizer):    \n",
    "#     tokens = word_tokenize(text)  # Tokenizer le texte en mots\n",
    "#     lemmatized_tokens = [lemmatizer.lemmatize(word) for word in tokens]\n",
    "#     return ' '.join(lemmatized_tokens) # reassemble les tokens en phrases"
   ]
  },
  {
   "cell_type": "code",
   "execution_count": 39,
   "id": "1fd42c56-2a66-4319-a892-933c2c646fc8",
   "metadata": {},
   "outputs": [],
   "source": [
    "# # Initialiser le lemmatizer\n",
    "# lemmatizer = WordNetLemmatizer()\n",
    "# # Appliquer la lemmatisation\n",
    "# tweets['text'] = tweets['text'].apply(lambda x: lemmatize_text(x, lemmatizer))"
   ]
  },
  {
   "cell_type": "code",
   "execution_count": 40,
   "id": "5c4f5d58-c1a9-4ffd-a2f7-f9f4e03c492e",
   "metadata": {},
   "outputs": [],
   "source": [
    "tweets.reset_index(drop=True, inplace=True)"
   ]
  },
  {
   "cell_type": "code",
   "execution_count": 41,
   "id": "495f98a4-ee4e-434c-9895-5eb1f1b49bf9",
   "metadata": {},
   "outputs": [],
   "source": [
    "# Nettoyer les tweets\n",
    "tweets[\"text\"] = tweets[\"text\"].apply(clean_tweet)"
   ]
  },
  {
   "cell_type": "code",
   "execution_count": 42,
   "id": "57510412-1d99-4fc6-979d-bf806afd72f4",
   "metadata": {},
   "outputs": [],
   "source": [
    "# on va utiliser un échantillion du jeu de données global\n",
    "tweets_sample, _ = train_test_split(tweets, test_size=(1-sample_size),\n",
    "                                    stratify=tweets['target'], random_state=42)"
   ]
  },
  {
   "cell_type": "code",
   "execution_count": 43,
   "id": "d78ca1cd-af77-4f58-97d2-f8bd7bac54a1",
   "metadata": {},
   "outputs": [],
   "source": [
    "tweets_sample = tweets_sample[['target', 'text']]"
   ]
  },
  {
   "cell_type": "code",
   "execution_count": 44,
   "id": "29f34c4d-9de8-4be7-9353-75ca2748ba3d",
   "metadata": {},
   "outputs": [],
   "source": [
    "# changer les valeurs de la target : 4 ==> 1\n",
    "tweets_sample['target'] = tweets_sample['target'].map({0: 0, 4: 1})"
   ]
  },
  {
   "cell_type": "code",
   "execution_count": 45,
   "id": "a12a43e7-e424-4906-a894-2787855e4dcf",
   "metadata": {},
   "outputs": [],
   "source": [
    "tweets_sample.reset_index(drop=True, inplace=True)"
   ]
  },
  {
   "cell_type": "code",
   "execution_count": 46,
   "id": "ce75ba69-4f6d-4304-b457-523b49b61c12",
   "metadata": {},
   "outputs": [
    {
     "data": {
      "text/html": [
       "<div>\n",
       "<style scoped>\n",
       "    .dataframe tbody tr th:only-of-type {\n",
       "        vertical-align: middle;\n",
       "    }\n",
       "\n",
       "    .dataframe tbody tr th {\n",
       "        vertical-align: top;\n",
       "    }\n",
       "\n",
       "    .dataframe thead th {\n",
       "        text-align: right;\n",
       "    }\n",
       "</style>\n",
       "<table border=\"1\" class=\"dataframe\">\n",
       "  <thead>\n",
       "    <tr style=\"text-align: right;\">\n",
       "      <th></th>\n",
       "      <th>target</th>\n",
       "      <th>text</th>\n",
       "    </tr>\n",
       "  </thead>\n",
       "  <tbody>\n",
       "    <tr>\n",
       "      <th>0</th>\n",
       "      <td>1</td>\n",
       "      <td>ugh studying today last final tomorrow then su...</td>\n",
       "    </tr>\n",
       "    <tr>\n",
       "      <th>1</th>\n",
       "      <td>0</td>\n",
       "      <td>some times the time stops moving it looks like...</td>\n",
       "    </tr>\n",
       "    <tr>\n",
       "      <th>2</th>\n",
       "      <td>1</td>\n",
       "      <td>lovin this sunshine  was amazingg last night i...</td>\n",
       "    </tr>\n",
       "    <tr>\n",
       "      <th>3</th>\n",
       "      <td>1</td>\n",
       "      <td>yeah we do actually i been dealn wit him almo...</td>\n",
       "    </tr>\n",
       "    <tr>\n",
       "      <th>4</th>\n",
       "      <td>1</td>\n",
       "      <td>reading the little prince thanks justina</td>\n",
       "    </tr>\n",
       "    <tr>\n",
       "      <th>...</th>\n",
       "      <td>...</td>\n",
       "      <td>...</td>\n",
       "    </tr>\n",
       "    <tr>\n",
       "      <th>15995</th>\n",
       "      <td>1</td>\n",
       "      <td>woohoo  more of us than i thought</td>\n",
       "    </tr>\n",
       "    <tr>\n",
       "      <th>15996</th>\n",
       "      <td>0</td>\n",
       "      <td>i need a hugand less cynicism its making me de...</td>\n",
       "    </tr>\n",
       "    <tr>\n",
       "      <th>15997</th>\n",
       "      <td>0</td>\n",
       "      <td>ugh i have an upset stomachugh  i no feel good</td>\n",
       "    </tr>\n",
       "    <tr>\n",
       "      <th>15998</th>\n",
       "      <td>0</td>\n",
       "      <td>i was shaving my beard and thought it would be...</td>\n",
       "    </tr>\n",
       "    <tr>\n",
       "      <th>15999</th>\n",
       "      <td>1</td>\n",
       "      <td>good morning i slept very well thanks</td>\n",
       "    </tr>\n",
       "  </tbody>\n",
       "</table>\n",
       "<p>16000 rows × 2 columns</p>\n",
       "</div>"
      ],
      "text/plain": [
       "       target                                               text\n",
       "0           1  ugh studying today last final tomorrow then su...\n",
       "1           0  some times the time stops moving it looks like...\n",
       "2           1  lovin this sunshine  was amazingg last night i...\n",
       "3           1   yeah we do actually i been dealn wit him almo...\n",
       "4           1          reading the little prince thanks justina \n",
       "...       ...                                                ...\n",
       "15995       1                  woohoo  more of us than i thought\n",
       "15996       0  i need a hugand less cynicism its making me de...\n",
       "15997       0    ugh i have an upset stomachugh  i no feel good \n",
       "15998       0  i was shaving my beard and thought it would be...\n",
       "15999       1             good morning i slept very well thanks \n",
       "\n",
       "[16000 rows x 2 columns]"
      ]
     },
     "execution_count": 46,
     "metadata": {},
     "output_type": "execute_result"
    }
   ],
   "source": [
    "tweets_sample"
   ]
  },
  {
   "cell_type": "code",
   "execution_count": 47,
   "id": "c51ee879-ec2b-4c3f-b8f0-34c4b461dd3a",
   "metadata": {},
   "outputs": [],
   "source": [
    "# Division des données\n",
    "X_train, X_test, y_train, y_test = train_test_split(tweets_sample['text'],\n",
    "                                                    tweets_sample['target'],\n",
    "                                                    test_size=0.2,\n",
    "                                                    random_state=42)"
   ]
  },
  {
   "cell_type": "markdown",
   "id": "cfc5021b-ef9b-4f7e-8399-6357844b9e89",
   "metadata": {},
   "source": [
    "# 2. Modèle sur mesure simple"
   ]
  },
  {
   "cell_type": "code",
   "execution_count": 48,
   "id": "13539fe8-c14d-4d1b-a99d-fece2cf73e25",
   "metadata": {},
   "outputs": [],
   "source": [
    "# Vectorisation TF-IDF\n",
    "vectorizer = TfidfVectorizer()\n",
    "X_train_tfidf = vectorizer.fit_transform(X_train)\n",
    "X_test_tfidf = vectorizer.transform(X_test)"
   ]
  },
  {
   "cell_type": "code",
   "execution_count": 49,
   "id": "58927653-73b7-41b7-85d8-e8fbc5fbf913",
   "metadata": {},
   "outputs": [],
   "source": [
    "model_log_reg = LogisticRegression(max_iter=1000, random_state=42)"
   ]
  },
  {
   "cell_type": "code",
   "execution_count": 50,
   "id": "9b5e511a-a7a3-4ae9-ad92-aeb0bfc4b13d",
   "metadata": {},
   "outputs": [],
   "source": [
    "# Choix des métriques\n",
    "scorers = {\n",
    "    'AUC':'roc_auc',\n",
    "    'Accuracy': 'accuracy',\n",
    "}"
   ]
  },
  {
   "cell_type": "code",
   "execution_count": 51,
   "id": "96818c21-2786-44aa-8e16-a7d481be3c9a",
   "metadata": {},
   "outputs": [],
   "source": [
    "param_grid = {\n",
    "    'C': [0.001, 0.01, 0.1, 1.0, 10.0]\n",
    "}"
   ]
  },
  {
   "cell_type": "code",
   "execution_count": 52,
   "id": "39b57200-2b5c-4d4e-87bd-1f08f866a282",
   "metadata": {},
   "outputs": [],
   "source": [
    "grid_search_log_reg = GridSearchCV(   \n",
    "    model_log_reg, \n",
    "    param_grid=param_grid, \n",
    "    scoring=scorers,          \n",
    "    cv=5,                     # 5-fold cross-validation\n",
    "    refit='Accuracy',         # Refit le meilleur modèle après optimisation\n",
    "    return_train_score=True,\n",
    "    n_jobs=1,\n",
    "    verbose=3\n",
    ")"
   ]
  },
  {
   "cell_type": "code",
   "execution_count": 53,
   "id": "d9c78717-d58a-401d-b6e2-dcd59c6cb018",
   "metadata": {},
   "outputs": [
    {
     "name": "stdout",
     "output_type": "stream",
     "text": [
      "Fitting 5 folds for each of 5 candidates, totalling 25 fits\n",
      "[CV 1/5] END C=0.001; AUC: (train=0.811, test=0.776) Accuracy: (train=0.555, test=0.551) total time=   0.0s\n",
      "[CV 2/5] END C=0.001; AUC: (train=0.808, test=0.789) Accuracy: (train=0.557, test=0.544) total time=   0.0s\n",
      "[CV 3/5] END C=0.001; AUC: (train=0.811, test=0.781) Accuracy: (train=0.554, test=0.555) total time=   0.0s\n",
      "[CV 4/5] END C=0.001; AUC: (train=0.810, test=0.776) Accuracy: (train=0.555, test=0.552) total time=   0.0s\n",
      "[CV 5/5] END C=0.001; AUC: (train=0.809, test=0.760) Accuracy: (train=0.557, test=0.554) total time=   0.0s\n",
      "[CV 1/5] END C=0.01; AUC: (train=0.818, test=0.781) Accuracy: (train=0.740, test=0.703) total time=   0.0s\n",
      "[CV 2/5] END C=0.01; AUC: (train=0.815, test=0.794) Accuracy: (train=0.737, test=0.716) total time=   0.0s\n",
      "[CV 3/5] END C=0.01; AUC: (train=0.819, test=0.786) Accuracy: (train=0.739, test=0.705) total time=   0.0s\n",
      "[CV 4/5] END C=0.01; AUC: (train=0.818, test=0.781) Accuracy: (train=0.739, test=0.703) total time=   0.0s\n",
      "[CV 5/5] END C=0.01; AUC: (train=0.816, test=0.766) Accuracy: (train=0.737, test=0.698) total time=   0.0s\n",
      "[CV 1/5] END C=0.1; AUC: (train=0.854, test=0.806) Accuracy: (train=0.776, test=0.731) total time=   0.0s\n",
      "[CV 2/5] END C=0.1; AUC: (train=0.853, test=0.817) Accuracy: (train=0.773, test=0.742) total time=   0.0s\n",
      "[CV 3/5] END C=0.1; AUC: (train=0.857, test=0.806) Accuracy: (train=0.780, test=0.730) total time=   0.0s\n",
      "[CV 4/5] END C=0.1; AUC: (train=0.856, test=0.803) Accuracy: (train=0.779, test=0.727) total time=   0.0s\n",
      "[CV 5/5] END C=0.1; AUC: (train=0.855, test=0.794) Accuracy: (train=0.772, test=0.721) total time=   0.0s\n",
      "[CV 1/5] END C=1.0; AUC: (train=0.930, test=0.833) Accuracy: (train=0.862, test=0.751) total time=   0.0s\n",
      "[CV 2/5] END C=1.0; AUC: (train=0.929, test=0.842) Accuracy: (train=0.858, test=0.766) total time=   0.0s\n",
      "[CV 3/5] END C=1.0; AUC: (train=0.932, test=0.825) Accuracy: (train=0.864, test=0.750) total time=   0.0s\n",
      "[CV 4/5] END C=1.0; AUC: (train=0.930, test=0.826) Accuracy: (train=0.860, test=0.744) total time=   0.0s\n",
      "[CV 5/5] END C=1.0; AUC: (train=0.929, test=0.825) Accuracy: (train=0.857, test=0.739) total time=   0.0s\n",
      "[CV 1/5] END C=10.0; AUC: (train=0.986, test=0.823) Accuracy: (train=0.955, test=0.739) total time=   0.0s\n",
      "[CV 2/5] END C=10.0; AUC: (train=0.987, test=0.831) Accuracy: (train=0.957, test=0.757) total time=   0.0s\n",
      "[CV 3/5] END C=10.0; AUC: (train=0.988, test=0.812) Accuracy: (train=0.956, test=0.733) total time=   0.0s\n",
      "[CV 4/5] END C=10.0; AUC: (train=0.987, test=0.820) Accuracy: (train=0.955, test=0.741) total time=   0.0s\n",
      "[CV 5/5] END C=10.0; AUC: (train=0.987, test=0.820) Accuracy: (train=0.956, test=0.739) total time=   0.0s\n"
     ]
    },
    {
     "data": {
      "text/html": [
       "<style>#sk-container-id-1 {\n",
       "  /* Definition of color scheme common for light and dark mode */\n",
       "  --sklearn-color-text: #000;\n",
       "  --sklearn-color-text-muted: #666;\n",
       "  --sklearn-color-line: gray;\n",
       "  /* Definition of color scheme for unfitted estimators */\n",
       "  --sklearn-color-unfitted-level-0: #fff5e6;\n",
       "  --sklearn-color-unfitted-level-1: #f6e4d2;\n",
       "  --sklearn-color-unfitted-level-2: #ffe0b3;\n",
       "  --sklearn-color-unfitted-level-3: chocolate;\n",
       "  /* Definition of color scheme for fitted estimators */\n",
       "  --sklearn-color-fitted-level-0: #f0f8ff;\n",
       "  --sklearn-color-fitted-level-1: #d4ebff;\n",
       "  --sklearn-color-fitted-level-2: #b3dbfd;\n",
       "  --sklearn-color-fitted-level-3: cornflowerblue;\n",
       "\n",
       "  /* Specific color for light theme */\n",
       "  --sklearn-color-text-on-default-background: var(--sg-text-color, var(--theme-code-foreground, var(--jp-content-font-color1, black)));\n",
       "  --sklearn-color-background: var(--sg-background-color, var(--theme-background, var(--jp-layout-color0, white)));\n",
       "  --sklearn-color-border-box: var(--sg-text-color, var(--theme-code-foreground, var(--jp-content-font-color1, black)));\n",
       "  --sklearn-color-icon: #696969;\n",
       "\n",
       "  @media (prefers-color-scheme: dark) {\n",
       "    /* Redefinition of color scheme for dark theme */\n",
       "    --sklearn-color-text-on-default-background: var(--sg-text-color, var(--theme-code-foreground, var(--jp-content-font-color1, white)));\n",
       "    --sklearn-color-background: var(--sg-background-color, var(--theme-background, var(--jp-layout-color0, #111)));\n",
       "    --sklearn-color-border-box: var(--sg-text-color, var(--theme-code-foreground, var(--jp-content-font-color1, white)));\n",
       "    --sklearn-color-icon: #878787;\n",
       "  }\n",
       "}\n",
       "\n",
       "#sk-container-id-1 {\n",
       "  color: var(--sklearn-color-text);\n",
       "}\n",
       "\n",
       "#sk-container-id-1 pre {\n",
       "  padding: 0;\n",
       "}\n",
       "\n",
       "#sk-container-id-1 input.sk-hidden--visually {\n",
       "  border: 0;\n",
       "  clip: rect(1px 1px 1px 1px);\n",
       "  clip: rect(1px, 1px, 1px, 1px);\n",
       "  height: 1px;\n",
       "  margin: -1px;\n",
       "  overflow: hidden;\n",
       "  padding: 0;\n",
       "  position: absolute;\n",
       "  width: 1px;\n",
       "}\n",
       "\n",
       "#sk-container-id-1 div.sk-dashed-wrapped {\n",
       "  border: 1px dashed var(--sklearn-color-line);\n",
       "  margin: 0 0.4em 0.5em 0.4em;\n",
       "  box-sizing: border-box;\n",
       "  padding-bottom: 0.4em;\n",
       "  background-color: var(--sklearn-color-background);\n",
       "}\n",
       "\n",
       "#sk-container-id-1 div.sk-container {\n",
       "  /* jupyter's `normalize.less` sets `[hidden] { display: none; }`\n",
       "     but bootstrap.min.css set `[hidden] { display: none !important; }`\n",
       "     so we also need the `!important` here to be able to override the\n",
       "     default hidden behavior on the sphinx rendered scikit-learn.org.\n",
       "     See: https://github.com/scikit-learn/scikit-learn/issues/21755 */\n",
       "  display: inline-block !important;\n",
       "  position: relative;\n",
       "}\n",
       "\n",
       "#sk-container-id-1 div.sk-text-repr-fallback {\n",
       "  display: none;\n",
       "}\n",
       "\n",
       "div.sk-parallel-item,\n",
       "div.sk-serial,\n",
       "div.sk-item {\n",
       "  /* draw centered vertical line to link estimators */\n",
       "  background-image: linear-gradient(var(--sklearn-color-text-on-default-background), var(--sklearn-color-text-on-default-background));\n",
       "  background-size: 2px 100%;\n",
       "  background-repeat: no-repeat;\n",
       "  background-position: center center;\n",
       "}\n",
       "\n",
       "/* Parallel-specific style estimator block */\n",
       "\n",
       "#sk-container-id-1 div.sk-parallel-item::after {\n",
       "  content: \"\";\n",
       "  width: 100%;\n",
       "  border-bottom: 2px solid var(--sklearn-color-text-on-default-background);\n",
       "  flex-grow: 1;\n",
       "}\n",
       "\n",
       "#sk-container-id-1 div.sk-parallel {\n",
       "  display: flex;\n",
       "  align-items: stretch;\n",
       "  justify-content: center;\n",
       "  background-color: var(--sklearn-color-background);\n",
       "  position: relative;\n",
       "}\n",
       "\n",
       "#sk-container-id-1 div.sk-parallel-item {\n",
       "  display: flex;\n",
       "  flex-direction: column;\n",
       "}\n",
       "\n",
       "#sk-container-id-1 div.sk-parallel-item:first-child::after {\n",
       "  align-self: flex-end;\n",
       "  width: 50%;\n",
       "}\n",
       "\n",
       "#sk-container-id-1 div.sk-parallel-item:last-child::after {\n",
       "  align-self: flex-start;\n",
       "  width: 50%;\n",
       "}\n",
       "\n",
       "#sk-container-id-1 div.sk-parallel-item:only-child::after {\n",
       "  width: 0;\n",
       "}\n",
       "\n",
       "/* Serial-specific style estimator block */\n",
       "\n",
       "#sk-container-id-1 div.sk-serial {\n",
       "  display: flex;\n",
       "  flex-direction: column;\n",
       "  align-items: center;\n",
       "  background-color: var(--sklearn-color-background);\n",
       "  padding-right: 1em;\n",
       "  padding-left: 1em;\n",
       "}\n",
       "\n",
       "\n",
       "/* Toggleable style: style used for estimator/Pipeline/ColumnTransformer box that is\n",
       "clickable and can be expanded/collapsed.\n",
       "- Pipeline and ColumnTransformer use this feature and define the default style\n",
       "- Estimators will overwrite some part of the style using the `sk-estimator` class\n",
       "*/\n",
       "\n",
       "/* Pipeline and ColumnTransformer style (default) */\n",
       "\n",
       "#sk-container-id-1 div.sk-toggleable {\n",
       "  /* Default theme specific background. It is overwritten whether we have a\n",
       "  specific estimator or a Pipeline/ColumnTransformer */\n",
       "  background-color: var(--sklearn-color-background);\n",
       "}\n",
       "\n",
       "/* Toggleable label */\n",
       "#sk-container-id-1 label.sk-toggleable__label {\n",
       "  cursor: pointer;\n",
       "  display: flex;\n",
       "  width: 100%;\n",
       "  margin-bottom: 0;\n",
       "  padding: 0.5em;\n",
       "  box-sizing: border-box;\n",
       "  text-align: center;\n",
       "  align-items: start;\n",
       "  justify-content: space-between;\n",
       "  gap: 0.5em;\n",
       "}\n",
       "\n",
       "#sk-container-id-1 label.sk-toggleable__label .caption {\n",
       "  font-size: 0.6rem;\n",
       "  font-weight: lighter;\n",
       "  color: var(--sklearn-color-text-muted);\n",
       "}\n",
       "\n",
       "#sk-container-id-1 label.sk-toggleable__label-arrow:before {\n",
       "  /* Arrow on the left of the label */\n",
       "  content: \"▸\";\n",
       "  float: left;\n",
       "  margin-right: 0.25em;\n",
       "  color: var(--sklearn-color-icon);\n",
       "}\n",
       "\n",
       "#sk-container-id-1 label.sk-toggleable__label-arrow:hover:before {\n",
       "  color: var(--sklearn-color-text);\n",
       "}\n",
       "\n",
       "/* Toggleable content - dropdown */\n",
       "\n",
       "#sk-container-id-1 div.sk-toggleable__content {\n",
       "  max-height: 0;\n",
       "  max-width: 0;\n",
       "  overflow: hidden;\n",
       "  text-align: left;\n",
       "  /* unfitted */\n",
       "  background-color: var(--sklearn-color-unfitted-level-0);\n",
       "}\n",
       "\n",
       "#sk-container-id-1 div.sk-toggleable__content.fitted {\n",
       "  /* fitted */\n",
       "  background-color: var(--sklearn-color-fitted-level-0);\n",
       "}\n",
       "\n",
       "#sk-container-id-1 div.sk-toggleable__content pre {\n",
       "  margin: 0.2em;\n",
       "  border-radius: 0.25em;\n",
       "  color: var(--sklearn-color-text);\n",
       "  /* unfitted */\n",
       "  background-color: var(--sklearn-color-unfitted-level-0);\n",
       "}\n",
       "\n",
       "#sk-container-id-1 div.sk-toggleable__content.fitted pre {\n",
       "  /* unfitted */\n",
       "  background-color: var(--sklearn-color-fitted-level-0);\n",
       "}\n",
       "\n",
       "#sk-container-id-1 input.sk-toggleable__control:checked~div.sk-toggleable__content {\n",
       "  /* Expand drop-down */\n",
       "  max-height: 200px;\n",
       "  max-width: 100%;\n",
       "  overflow: auto;\n",
       "}\n",
       "\n",
       "#sk-container-id-1 input.sk-toggleable__control:checked~label.sk-toggleable__label-arrow:before {\n",
       "  content: \"▾\";\n",
       "}\n",
       "\n",
       "/* Pipeline/ColumnTransformer-specific style */\n",
       "\n",
       "#sk-container-id-1 div.sk-label input.sk-toggleable__control:checked~label.sk-toggleable__label {\n",
       "  color: var(--sklearn-color-text);\n",
       "  background-color: var(--sklearn-color-unfitted-level-2);\n",
       "}\n",
       "\n",
       "#sk-container-id-1 div.sk-label.fitted input.sk-toggleable__control:checked~label.sk-toggleable__label {\n",
       "  background-color: var(--sklearn-color-fitted-level-2);\n",
       "}\n",
       "\n",
       "/* Estimator-specific style */\n",
       "\n",
       "/* Colorize estimator box */\n",
       "#sk-container-id-1 div.sk-estimator input.sk-toggleable__control:checked~label.sk-toggleable__label {\n",
       "  /* unfitted */\n",
       "  background-color: var(--sklearn-color-unfitted-level-2);\n",
       "}\n",
       "\n",
       "#sk-container-id-1 div.sk-estimator.fitted input.sk-toggleable__control:checked~label.sk-toggleable__label {\n",
       "  /* fitted */\n",
       "  background-color: var(--sklearn-color-fitted-level-2);\n",
       "}\n",
       "\n",
       "#sk-container-id-1 div.sk-label label.sk-toggleable__label,\n",
       "#sk-container-id-1 div.sk-label label {\n",
       "  /* The background is the default theme color */\n",
       "  color: var(--sklearn-color-text-on-default-background);\n",
       "}\n",
       "\n",
       "/* On hover, darken the color of the background */\n",
       "#sk-container-id-1 div.sk-label:hover label.sk-toggleable__label {\n",
       "  color: var(--sklearn-color-text);\n",
       "  background-color: var(--sklearn-color-unfitted-level-2);\n",
       "}\n",
       "\n",
       "/* Label box, darken color on hover, fitted */\n",
       "#sk-container-id-1 div.sk-label.fitted:hover label.sk-toggleable__label.fitted {\n",
       "  color: var(--sklearn-color-text);\n",
       "  background-color: var(--sklearn-color-fitted-level-2);\n",
       "}\n",
       "\n",
       "/* Estimator label */\n",
       "\n",
       "#sk-container-id-1 div.sk-label label {\n",
       "  font-family: monospace;\n",
       "  font-weight: bold;\n",
       "  display: inline-block;\n",
       "  line-height: 1.2em;\n",
       "}\n",
       "\n",
       "#sk-container-id-1 div.sk-label-container {\n",
       "  text-align: center;\n",
       "}\n",
       "\n",
       "/* Estimator-specific */\n",
       "#sk-container-id-1 div.sk-estimator {\n",
       "  font-family: monospace;\n",
       "  border: 1px dotted var(--sklearn-color-border-box);\n",
       "  border-radius: 0.25em;\n",
       "  box-sizing: border-box;\n",
       "  margin-bottom: 0.5em;\n",
       "  /* unfitted */\n",
       "  background-color: var(--sklearn-color-unfitted-level-0);\n",
       "}\n",
       "\n",
       "#sk-container-id-1 div.sk-estimator.fitted {\n",
       "  /* fitted */\n",
       "  background-color: var(--sklearn-color-fitted-level-0);\n",
       "}\n",
       "\n",
       "/* on hover */\n",
       "#sk-container-id-1 div.sk-estimator:hover {\n",
       "  /* unfitted */\n",
       "  background-color: var(--sklearn-color-unfitted-level-2);\n",
       "}\n",
       "\n",
       "#sk-container-id-1 div.sk-estimator.fitted:hover {\n",
       "  /* fitted */\n",
       "  background-color: var(--sklearn-color-fitted-level-2);\n",
       "}\n",
       "\n",
       "/* Specification for estimator info (e.g. \"i\" and \"?\") */\n",
       "\n",
       "/* Common style for \"i\" and \"?\" */\n",
       "\n",
       ".sk-estimator-doc-link,\n",
       "a:link.sk-estimator-doc-link,\n",
       "a:visited.sk-estimator-doc-link {\n",
       "  float: right;\n",
       "  font-size: smaller;\n",
       "  line-height: 1em;\n",
       "  font-family: monospace;\n",
       "  background-color: var(--sklearn-color-background);\n",
       "  border-radius: 1em;\n",
       "  height: 1em;\n",
       "  width: 1em;\n",
       "  text-decoration: none !important;\n",
       "  margin-left: 0.5em;\n",
       "  text-align: center;\n",
       "  /* unfitted */\n",
       "  border: var(--sklearn-color-unfitted-level-1) 1pt solid;\n",
       "  color: var(--sklearn-color-unfitted-level-1);\n",
       "}\n",
       "\n",
       ".sk-estimator-doc-link.fitted,\n",
       "a:link.sk-estimator-doc-link.fitted,\n",
       "a:visited.sk-estimator-doc-link.fitted {\n",
       "  /* fitted */\n",
       "  border: var(--sklearn-color-fitted-level-1) 1pt solid;\n",
       "  color: var(--sklearn-color-fitted-level-1);\n",
       "}\n",
       "\n",
       "/* On hover */\n",
       "div.sk-estimator:hover .sk-estimator-doc-link:hover,\n",
       ".sk-estimator-doc-link:hover,\n",
       "div.sk-label-container:hover .sk-estimator-doc-link:hover,\n",
       ".sk-estimator-doc-link:hover {\n",
       "  /* unfitted */\n",
       "  background-color: var(--sklearn-color-unfitted-level-3);\n",
       "  color: var(--sklearn-color-background);\n",
       "  text-decoration: none;\n",
       "}\n",
       "\n",
       "div.sk-estimator.fitted:hover .sk-estimator-doc-link.fitted:hover,\n",
       ".sk-estimator-doc-link.fitted:hover,\n",
       "div.sk-label-container:hover .sk-estimator-doc-link.fitted:hover,\n",
       ".sk-estimator-doc-link.fitted:hover {\n",
       "  /* fitted */\n",
       "  background-color: var(--sklearn-color-fitted-level-3);\n",
       "  color: var(--sklearn-color-background);\n",
       "  text-decoration: none;\n",
       "}\n",
       "\n",
       "/* Span, style for the box shown on hovering the info icon */\n",
       ".sk-estimator-doc-link span {\n",
       "  display: none;\n",
       "  z-index: 9999;\n",
       "  position: relative;\n",
       "  font-weight: normal;\n",
       "  right: .2ex;\n",
       "  padding: .5ex;\n",
       "  margin: .5ex;\n",
       "  width: min-content;\n",
       "  min-width: 20ex;\n",
       "  max-width: 50ex;\n",
       "  color: var(--sklearn-color-text);\n",
       "  box-shadow: 2pt 2pt 4pt #999;\n",
       "  /* unfitted */\n",
       "  background: var(--sklearn-color-unfitted-level-0);\n",
       "  border: .5pt solid var(--sklearn-color-unfitted-level-3);\n",
       "}\n",
       "\n",
       ".sk-estimator-doc-link.fitted span {\n",
       "  /* fitted */\n",
       "  background: var(--sklearn-color-fitted-level-0);\n",
       "  border: var(--sklearn-color-fitted-level-3);\n",
       "}\n",
       "\n",
       ".sk-estimator-doc-link:hover span {\n",
       "  display: block;\n",
       "}\n",
       "\n",
       "/* \"?\"-specific style due to the `<a>` HTML tag */\n",
       "\n",
       "#sk-container-id-1 a.estimator_doc_link {\n",
       "  float: right;\n",
       "  font-size: 1rem;\n",
       "  line-height: 1em;\n",
       "  font-family: monospace;\n",
       "  background-color: var(--sklearn-color-background);\n",
       "  border-radius: 1rem;\n",
       "  height: 1rem;\n",
       "  width: 1rem;\n",
       "  text-decoration: none;\n",
       "  /* unfitted */\n",
       "  color: var(--sklearn-color-unfitted-level-1);\n",
       "  border: var(--sklearn-color-unfitted-level-1) 1pt solid;\n",
       "}\n",
       "\n",
       "#sk-container-id-1 a.estimator_doc_link.fitted {\n",
       "  /* fitted */\n",
       "  border: var(--sklearn-color-fitted-level-1) 1pt solid;\n",
       "  color: var(--sklearn-color-fitted-level-1);\n",
       "}\n",
       "\n",
       "/* On hover */\n",
       "#sk-container-id-1 a.estimator_doc_link:hover {\n",
       "  /* unfitted */\n",
       "  background-color: var(--sklearn-color-unfitted-level-3);\n",
       "  color: var(--sklearn-color-background);\n",
       "  text-decoration: none;\n",
       "}\n",
       "\n",
       "#sk-container-id-1 a.estimator_doc_link.fitted:hover {\n",
       "  /* fitted */\n",
       "  background-color: var(--sklearn-color-fitted-level-3);\n",
       "}\n",
       "</style><div id=\"sk-container-id-1\" class=\"sk-top-container\"><div class=\"sk-text-repr-fallback\"><pre>GridSearchCV(cv=5, estimator=LogisticRegression(max_iter=1000, random_state=42),\n",
       "             n_jobs=1, param_grid={&#x27;C&#x27;: [0.001, 0.01, 0.1, 1.0, 10.0]},\n",
       "             refit=&#x27;Accuracy&#x27;, return_train_score=True,\n",
       "             scoring={&#x27;AUC&#x27;: &#x27;roc_auc&#x27;, &#x27;Accuracy&#x27;: &#x27;accuracy&#x27;}, verbose=3)</pre><b>In a Jupyter environment, please rerun this cell to show the HTML representation or trust the notebook. <br />On GitHub, the HTML representation is unable to render, please try loading this page with nbviewer.org.</b></div><div class=\"sk-container\" hidden><div class=\"sk-item sk-dashed-wrapped\"><div class=\"sk-label-container\"><div class=\"sk-label fitted sk-toggleable\"><input class=\"sk-toggleable__control sk-hidden--visually\" id=\"sk-estimator-id-1\" type=\"checkbox\" ><label for=\"sk-estimator-id-1\" class=\"sk-toggleable__label fitted sk-toggleable__label-arrow\"><div><div>GridSearchCV</div></div><div><a class=\"sk-estimator-doc-link fitted\" rel=\"noreferrer\" target=\"_blank\" href=\"https://scikit-learn.org/1.6/modules/generated/sklearn.model_selection.GridSearchCV.html\">?<span>Documentation for GridSearchCV</span></a><span class=\"sk-estimator-doc-link fitted\">i<span>Fitted</span></span></div></label><div class=\"sk-toggleable__content fitted\"><pre>GridSearchCV(cv=5, estimator=LogisticRegression(max_iter=1000, random_state=42),\n",
       "             n_jobs=1, param_grid={&#x27;C&#x27;: [0.001, 0.01, 0.1, 1.0, 10.0]},\n",
       "             refit=&#x27;Accuracy&#x27;, return_train_score=True,\n",
       "             scoring={&#x27;AUC&#x27;: &#x27;roc_auc&#x27;, &#x27;Accuracy&#x27;: &#x27;accuracy&#x27;}, verbose=3)</pre></div> </div></div><div class=\"sk-parallel\"><div class=\"sk-parallel-item\"><div class=\"sk-item\"><div class=\"sk-label-container\"><div class=\"sk-label fitted sk-toggleable\"><input class=\"sk-toggleable__control sk-hidden--visually\" id=\"sk-estimator-id-2\" type=\"checkbox\" ><label for=\"sk-estimator-id-2\" class=\"sk-toggleable__label fitted sk-toggleable__label-arrow\"><div><div>best_estimator_: LogisticRegression</div></div></label><div class=\"sk-toggleable__content fitted\"><pre>LogisticRegression(max_iter=1000, random_state=42)</pre></div> </div></div><div class=\"sk-serial\"><div class=\"sk-item\"><div class=\"sk-estimator fitted sk-toggleable\"><input class=\"sk-toggleable__control sk-hidden--visually\" id=\"sk-estimator-id-3\" type=\"checkbox\" ><label for=\"sk-estimator-id-3\" class=\"sk-toggleable__label fitted sk-toggleable__label-arrow\"><div><div>LogisticRegression</div></div><div><a class=\"sk-estimator-doc-link fitted\" rel=\"noreferrer\" target=\"_blank\" href=\"https://scikit-learn.org/1.6/modules/generated/sklearn.linear_model.LogisticRegression.html\">?<span>Documentation for LogisticRegression</span></a></div></label><div class=\"sk-toggleable__content fitted\"><pre>LogisticRegression(max_iter=1000, random_state=42)</pre></div> </div></div></div></div></div></div></div></div></div>"
      ],
      "text/plain": [
       "GridSearchCV(cv=5, estimator=LogisticRegression(max_iter=1000, random_state=42),\n",
       "             n_jobs=1, param_grid={'C': [0.001, 0.01, 0.1, 1.0, 10.0]},\n",
       "             refit='Accuracy', return_train_score=True,\n",
       "             scoring={'AUC': 'roc_auc', 'Accuracy': 'accuracy'}, verbose=3)"
      ]
     },
     "execution_count": 53,
     "metadata": {},
     "output_type": "execute_result"
    }
   ],
   "source": [
    "# Entraînement du modèle\n",
    "grid_search_log_reg.fit(X_train_tfidf, y_train)"
   ]
  },
  {
   "cell_type": "code",
   "execution_count": 54,
   "id": "8a15bae0-9c68-42da-9bc6-300b0caed5a2",
   "metadata": {},
   "outputs": [
    {
     "name": "stdout",
     "output_type": "stream",
     "text": [
      "Meilleur score : 0.75\n",
      "Meilleurs paramètres : {'C': 1.0}\n"
     ]
    }
   ],
   "source": [
    "# Récupérer le score métier et les paramètres du meilleur modèle sur le train\n",
    "print('Meilleur score :', grid_search_log_reg.best_score_.round(3))\n",
    "print('Meilleurs paramètres :', grid_search_log_reg.best_params_)"
   ]
  },
  {
   "cell_type": "code",
   "execution_count": 55,
   "id": "4b9e9fc2-d3c0-4b47-b276-6833ad4a411e",
   "metadata": {},
   "outputs": [],
   "source": [
    "def cv_results_tab(cv_results, n_folds):\n",
    "    \"\"\"\n",
    "    Créer un tableau synthétisant les résultats de la cross-validation\n",
    "\n",
    "    Parameters:\n",
    "        cv_results :  dict\n",
    "            Résultats de la cross-validation par gridsearch\n",
    "        \n",
    "        n_folds : int\n",
    "            Nombre de folds utilisés lors de la cross-validation\n",
    "\n",
    "    Returns:\n",
    "        DataFrame\n",
    "            Tableau contenant les principaux résultats de la cross-validation.\n",
    "    \"\"\"\n",
    "\n",
    "    results_df = pd.DataFrame(cv_results)\n",
    "    \n",
    "    # Sélection des colonnes \n",
    "    columns_of_interest = ['rank_test_Accuracy', 'params', 'mean_test_Accuracy',\n",
    "                           'mean_test_AUC', 'mean_fit_time', 'mean_score_time'\n",
    "                          ]\n",
    "    \n",
    "    results_df = results_df[columns_of_interest]\n",
    "    \n",
    "    # Trier les résultats du score métier le plus faible au plus élevé\n",
    "    return results_df.sort_values(by='rank_test_Accuracy')"
   ]
  },
  {
   "cell_type": "code",
   "execution_count": 56,
   "id": "f2ff30d3-98e2-4c97-afd4-b65122c6ee83",
   "metadata": {},
   "outputs": [
    {
     "data": {
      "text/html": [
       "<div>\n",
       "<style scoped>\n",
       "    .dataframe tbody tr th:only-of-type {\n",
       "        vertical-align: middle;\n",
       "    }\n",
       "\n",
       "    .dataframe tbody tr th {\n",
       "        vertical-align: top;\n",
       "    }\n",
       "\n",
       "    .dataframe thead th {\n",
       "        text-align: right;\n",
       "    }\n",
       "</style>\n",
       "<table border=\"1\" class=\"dataframe\">\n",
       "  <thead>\n",
       "    <tr style=\"text-align: right;\">\n",
       "      <th></th>\n",
       "      <th>rank_test_Accuracy</th>\n",
       "      <th>params</th>\n",
       "      <th>mean_test_Accuracy</th>\n",
       "      <th>mean_test_AUC</th>\n",
       "      <th>mean_fit_time</th>\n",
       "      <th>mean_score_time</th>\n",
       "    </tr>\n",
       "  </thead>\n",
       "  <tbody>\n",
       "    <tr>\n",
       "      <th>3</th>\n",
       "      <td>1</td>\n",
       "      <td>{'C': 1.0}</td>\n",
       "      <td>0.750000</td>\n",
       "      <td>0.830152</td>\n",
       "      <td>0.048455</td>\n",
       "      <td>0.000000</td>\n",
       "    </tr>\n",
       "    <tr>\n",
       "      <th>4</th>\n",
       "      <td>2</td>\n",
       "      <td>{'C': 10.0}</td>\n",
       "      <td>0.741797</td>\n",
       "      <td>0.821286</td>\n",
       "      <td>0.077200</td>\n",
       "      <td>0.004737</td>\n",
       "    </tr>\n",
       "    <tr>\n",
       "      <th>2</th>\n",
       "      <td>3</td>\n",
       "      <td>{'C': 0.1}</td>\n",
       "      <td>0.730156</td>\n",
       "      <td>0.805208</td>\n",
       "      <td>0.025864</td>\n",
       "      <td>0.001671</td>\n",
       "    </tr>\n",
       "    <tr>\n",
       "      <th>1</th>\n",
       "      <td>4</td>\n",
       "      <td>{'C': 0.01}</td>\n",
       "      <td>0.705000</td>\n",
       "      <td>0.781530</td>\n",
       "      <td>0.023193</td>\n",
       "      <td>0.003217</td>\n",
       "    </tr>\n",
       "    <tr>\n",
       "      <th>0</th>\n",
       "      <td>5</td>\n",
       "      <td>{'C': 0.001}</td>\n",
       "      <td>0.551250</td>\n",
       "      <td>0.776307</td>\n",
       "      <td>0.013937</td>\n",
       "      <td>0.004727</td>\n",
       "    </tr>\n",
       "  </tbody>\n",
       "</table>\n",
       "</div>"
      ],
      "text/plain": [
       "   rank_test_Accuracy        params  mean_test_Accuracy  mean_test_AUC  \\\n",
       "3                   1    {'C': 1.0}            0.750000       0.830152   \n",
       "4                   2   {'C': 10.0}            0.741797       0.821286   \n",
       "2                   3    {'C': 0.1}            0.730156       0.805208   \n",
       "1                   4   {'C': 0.01}            0.705000       0.781530   \n",
       "0                   5  {'C': 0.001}            0.551250       0.776307   \n",
       "\n",
       "   mean_fit_time  mean_score_time  \n",
       "3       0.048455         0.000000  \n",
       "4       0.077200         0.004737  \n",
       "2       0.025864         0.001671  \n",
       "1       0.023193         0.003217  \n",
       "0       0.013937         0.004727  "
      ]
     },
     "execution_count": 56,
     "metadata": {},
     "output_type": "execute_result"
    }
   ],
   "source": [
    "pd.set_option('display.max_colwidth', None)  # pour que tout le contenu des colonnes soit bien affiché\n",
    "cv_results = cv_results_tab(grid_search_log_reg.cv_results_, 5)\n",
    "cv_results"
   ]
  },
  {
   "cell_type": "code",
   "execution_count": null,
   "id": "982138e8-0541-48e1-99f8-db67d1e4a8c2",
   "metadata": {},
   "outputs": [],
   "source": []
  },
  {
   "cell_type": "code",
   "execution_count": 57,
   "id": "3fecc112-7f3e-4ebb-b1ac-de00464432ac",
   "metadata": {},
   "outputs": [],
   "source": [
    "# prédictions sur le jeu de test\n",
    "start_pred_time = time.time() \n",
    "y_pred_test = grid_search_log_reg.best_estimator_.predict(X_test_tfidf)\n",
    "test_pred_time = time.time() - start_pred_time\n",
    "\n",
    "y_proba_test = grid_search_log_reg.best_estimator_.predict_proba(X_test_tfidf)[:, 1]"
   ]
  },
  {
   "cell_type": "code",
   "execution_count": 58,
   "id": "a8053e4a-5411-471c-9252-5840ad379ad9",
   "metadata": {},
   "outputs": [
    {
     "name": "stdout",
     "output_type": "stream",
     "text": [
      "Train Accuracy: 0.750\n",
      "Train AUC: 0.830\n",
      "Test Accuracy: 0.756\n",
      "Test AUC: 0.841\n"
     ]
    }
   ],
   "source": [
    "# Récupère les métriques du jeu d'entrainement\n",
    "train_accuracy = grid_search_log_reg.best_score_\n",
    "train_AUC = cv_results['mean_test_AUC'].iloc[0]\n",
    "\n",
    "# Calcul des métriques sur le jeu de test\n",
    "test_accuracy = accuracy_score(y_test, y_pred_test)\n",
    "test_AUC = roc_auc_score(y_test, y_proba_test)\n",
    "\n",
    "print(f'Train Accuracy: {train_accuracy:.3f}')\n",
    "print(f'Train AUC: {train_AUC:.3f}')\n",
    "print(f'Test Accuracy: {test_accuracy:.3f}')\n",
    "print(f'Test AUC: {test_AUC:.3f}')"
   ]
  },
  {
   "cell_type": "code",
   "execution_count": 59,
   "id": "68971fc7-ea33-4c1e-89b8-db8aa44197d4",
   "metadata": {},
   "outputs": [],
   "source": [
    "metrics = {\n",
    "    'train_accuracy' : train_accuracy,\n",
    "    'test_accuracy' : test_accuracy,\n",
    "    'train_AUC' : train_AUC,\n",
    "    'test_AUC' : test_AUC    \n",
    "}"
   ]
  },
  {
   "cell_type": "code",
   "execution_count": 60,
   "id": "228667b0-d68f-43eb-894e-a65b89b08f1a",
   "metadata": {},
   "outputs": [],
   "source": [
    "cv_results.to_csv('cv_results.csv', index=False)"
   ]
  },
  {
   "cell_type": "code",
   "execution_count": 61,
   "id": "b06caf8e-a8f6-4a1a-b3ff-3ebe512c09dd",
   "metadata": {},
   "outputs": [],
   "source": [
    "fpr, tpr, _ = roc_curve(y_test, y_proba_test)\n",
    "sns.set()\n",
    "plt.figure()\n",
    "plt.plot(fpr, tpr, label='ROC curve')\n",
    "plt.xlabel('False Positive Rate', fontsize=12)\n",
    "plt.ylabel('True Positive Rate', fontsize=12)\n",
    "plt.title(f'ROC Curve (Test Data) - Régression Logistique - AUC = {test_AUC:.3f}',\n",
    "          fontweight='bold', fontsize=14)\n",
    "plt.savefig('roc_curve_log_reg.png')\n",
    "plt.close()"
   ]
  },
  {
   "cell_type": "code",
   "execution_count": 62,
   "id": "0b9212dd-4c22-480e-a50e-9562b93e152a",
   "metadata": {},
   "outputs": [],
   "source": [
    "artifacts = {\n",
    "    'roc_curve': 'roc_curve_log_reg.png',\n",
    "    'cv_results': 'cv_results.csv'\n",
    "}"
   ]
  },
  {
   "cell_type": "code",
   "execution_count": 63,
   "id": "1fe77c9a-3daa-4095-a023-82fd45b9b241",
   "metadata": {},
   "outputs": [],
   "source": [
    "fit_time = cv_results['mean_fit_time'].iloc[0]"
   ]
  },
  {
   "cell_type": "code",
   "execution_count": 64,
   "id": "9026ad95-de9a-4e54-ac51-ab26d1cc647e",
   "metadata": {},
   "outputs": [],
   "source": [
    "times = {\n",
    "    'fit_time': fit_time, \n",
    "    'test_predict_time': test_pred_time\n",
    "}"
   ]
  },
  {
   "cell_type": "code",
   "execution_count": 65,
   "id": "e1bcef73-a7ad-46da-bb98-a53c61caf961",
   "metadata": {},
   "outputs": [],
   "source": [
    "input_example = vectorizer.transform(['Exemple de texte pour signature modèle.'])"
   ]
  },
  {
   "cell_type": "code",
   "execution_count": 66,
   "id": "c6effcee-3154-4510-a112-c8a954a966ca",
   "metadata": {},
   "outputs": [
    {
     "data": {
      "application/vnd.jupyter.widget-view+json": {
       "model_id": "39c9ea67feda4e779c24e5783adb72ff",
       "version_major": 2,
       "version_minor": 0
      },
      "text/plain": [
       "Downloading artifacts:   0%|          | 0/7 [00:00<?, ?it/s]"
      ]
     },
     "metadata": {},
     "output_type": "display_data"
    },
    {
     "name": "stdout",
     "output_type": "stream",
     "text": [
      "Modèle et résultats enregistrés dans MLFlow sous le run ID: 1de4db48b2984f9c8dbc388e66942483\n"
     ]
    }
   ],
   "source": [
    "log_experiment(\n",
    "    grid_search_log_reg.best_estimator_,\n",
    "    grid_search_log_reg.best_params_,\n",
    "    metrics,\n",
    "    artifacts,\n",
    "    input_example,\n",
    "    times\n",
    ")"
   ]
  },
  {
   "cell_type": "code",
   "execution_count": 67,
   "id": "f45f8f19-008d-412f-92ea-5b284f4a3470",
   "metadata": {},
   "outputs": [],
   "source": [
    "# model = mlflow.pyfunc.load_model('models:/logistic_regression/1')\n",
    "# input_data = model.input_example\n",
    "# print(model.predict(input_data))"
   ]
  },
  {
   "cell_type": "markdown",
   "id": "1be8aa9c-136d-4099-beaa-d0d2c6fcb04d",
   "metadata": {},
   "source": [
    "# Modèles sur mesure avancés"
   ]
  },
  {
   "cell_type": "code",
   "execution_count": 68,
   "id": "b4cdfbac-bcaf-40bf-86d0-9d35b0a90052",
   "metadata": {},
   "outputs": [],
   "source": [
    "def tokenize_and_pad(texts, max_words=5000, max_len=100):\n",
    "    \"\"\"\n",
    "    Transforme une liste de textes en séquences d'entiers paddées,\n",
    "    prêtes à être utilisées dans un modèle de deep learning.\n",
    "\n",
    "    :param texts: Liste ou série de textes à transformer.\n",
    "    :param max_words: Nombre maximum de mots à garder dans le vocabulaire.\n",
    "    :param max_len: Longueur maximale des séquences (avec padding).\n",
    "    :return: Tuple (X, tokenizer)\n",
    "             - X : tableau numpy de séquences d'entiers, shape (nb_exemples, max_len)\n",
    "             - tokenizer : objet Tokenizer entraîné sur les textes\n",
    "    \"\"\"\n",
    "    tokenizer = Tokenizer(num_words=max_words, lower=True, split=' ')\n",
    "    tokenizer.fit_on_texts(texts)\n",
    "    sequences = tokenizer.texts_to_sequences(texts)\n",
    "    X = pad_sequences(sequences, maxlen=max_len)\n",
    "    \n",
    "    return X, tokenizer"
   ]
  },
  {
   "cell_type": "code",
   "execution_count": 69,
   "id": "98473994-9d03-4e63-aed7-cfc5ef057373",
   "metadata": {},
   "outputs": [],
   "source": [
    "def tokenize_and_pad(corpus, X_train, X_test, max_words=10000, max_len=100):\n",
    "    \"\"\"\n",
    "    Transforme les textes d'entraînement et de test en séquences d'entiers paddées,\n",
    "    en utilisant un tokenizer entraîné sur l'ensemble complet des textes.\n",
    "\n",
    "    :param full_texts: Liste ou série de tous les textes disponibles pour entraîner le tokenizer.\n",
    "    :param X_train: Liste ou série de textes d'entraînement.\n",
    "    :param X_test: Liste ou série de textes de test.\n",
    "    :param max_words: Nombre maximum de mots à garder dans le vocabulaire.\n",
    "    :param max_len: Longueur maximale des séquences (avec padding).\n",
    "    :return: Tuple (X_train_padded, X_test_padded, tokenizer)\n",
    "             - X_train_padded : tableau numpy de séquences d'entiers pour l'entraînement\n",
    "             - X_test_padded : tableau numpy de séquences d'entiers pour le test\n",
    "             - tokenizer : objet Tokenizer entraîné sur tous les textes\n",
    "    \"\"\"\n",
    "    # Entraîner le tokenizer sur tous les textes disponibles\n",
    "    tokenizer = Tokenizer(num_words=max_words, lower=True, split=' ')\n",
    "    tokenizer.fit_on_texts(corpus)\n",
    "\n",
    "    # Transformer les textes d'entraînement et de test en séquences d'entiers\n",
    "    sequences_train = tokenizer.texts_to_sequences(X_train)\n",
    "    sequences_test = tokenizer.texts_to_sequences(X_test)\n",
    "\n",
    "    # Appliquer le padding\n",
    "    X_train_padded = pad_sequences(sequences_train, maxlen=max_len)\n",
    "    X_test_padded = pad_sequences(sequences_test, maxlen=max_len)\n",
    "\n",
    "    return X_train_padded, X_test_padded, tokenizer"
   ]
  },
  {
   "cell_type": "code",
   "execution_count": 70,
   "id": "8604c0da-2ed5-4457-bfa4-172ba2fb4e1c",
   "metadata": {},
   "outputs": [],
   "source": [
    "def build_LSTM_model(embedding_matrix):\n",
    "    max_words = embedding_matrix.shape[0]\n",
    "    embedding_dim = embedding_matrix.shape[1]\n",
    "    model = Sequential([\n",
    "    Embedding(input_dim=max_words,\n",
    "              output_dim=embedding_dim,\n",
    "              weights=[embedding_matrix],\n",
    "              trainable=False),\n",
    "    Bidirectional(LSTM(64, dropout=0.4, recurrent_dropout=0.4)),\n",
    "    Dense(1, activation='sigmoid')\n",
    "    ])\n",
    "\n",
    "    model.compile(optimizer=Adam(learning_rate=0.0005),\n",
    "                   loss='binary_crossentropy',\n",
    "                   metrics=['accuracy', AUC(name=\"auc\")])\n",
    "\n",
    "    return model"
   ]
  },
  {
   "cell_type": "code",
   "execution_count": null,
   "id": "a5b71f29-393d-4eb8-8740-8aa41f103900",
   "metadata": {},
   "outputs": [],
   "source": []
  },
  {
   "cell_type": "code",
   "execution_count": 71,
   "id": "a3256c90-9a16-4553-ab48-4379190ca5b8",
   "metadata": {},
   "outputs": [],
   "source": [
    "def create_callbacks(model_name, patience):\n",
    "    # Définir le callback ModelCheckpoint\n",
    "    checkpoint_path = './checkpoints/' + model_name + '.keras'\n",
    "    checkpoint_callback = ModelCheckpoint(\n",
    "    filepath=checkpoint_path,\n",
    "    save_weights_only=False,  # Sauvegarder le modèle entier\n",
    "    monitor='val_loss',  # Surveiller la loss sur le jeu de validation\n",
    "    mode='min',  # Sauvegarder le modèle lorsque la loss diminue\n",
    "    save_best_only=True,  # Sauvegarder uniquement le meilleur modèle\n",
    "    verbose=1\n",
    "    )\n",
    "\n",
    "    # Définir le callback EarlyStopping\n",
    "    es = EarlyStopping(monitor='val_loss', mode='min', verbose=1,\n",
    "                       patience=patience, restore_best_weights=True)\n",
    "    \n",
    "    return [checkpoint_callback, es]"
   ]
  },
  {
   "cell_type": "code",
   "execution_count": 72,
   "id": "16c735f9-d787-4d1c-b820-8c3efa103218",
   "metadata": {},
   "outputs": [],
   "source": [
    "def evaluate_model(model, X_train, y_train, X_test, y_test):\n",
    "    # Évaluer le modèle sur les données d'entraînement\n",
    "    train_loss, train_accuracy, train_AUC = model.evaluate(X_train,\n",
    "                                                           y_train,\n",
    "                                                           verbose=0)\n",
    "\n",
    "    # Évaluer le modèle sur les données de test\n",
    "    start_pred_time = time.time()\n",
    "    test_loss, test_accuracy, test_AUC = model.evaluate(X_test,\n",
    "                                                        y_test,\n",
    "                                                        verbose=0)\n",
    "    test_pred_time = time.time() - start_pred_time\n",
    "    \n",
    "    print(f'Train Accuracy: {train_accuracy:.3f}')\n",
    "    print(f'Train AUC: {train_AUC:.3f}')\n",
    "    print(f'Test Accuracy: {test_accuracy:.3f}')\n",
    "    print(f'Test AUC: {test_AUC:.3f}')\n",
    "\n",
    "    return train_accuracy, train_AUC, test_accuracy, test_AUC, test_pred_time"
   ]
  },
  {
   "cell_type": "code",
   "execution_count": 73,
   "id": "39dd20c7-0649-4a3e-9cfc-5933ed66b270",
   "metadata": {},
   "outputs": [],
   "source": [
    "def log_model_params(model):\n",
    "    \"\"\" Extrait et logge les paramètres d'un modèle Keras dans MLflow \"\"\"\n",
    "    params = {}\n",
    "\n",
    "    # Extraire les couches et leurs détails\n",
    "    for i, layer in enumerate(model.layers):\n",
    "        layer_type = type(layer).__name__\n",
    "        params[f'layer_{i}_type'] = layer_type  # Type de couche (LSTM, Dense, etc.)\n",
    "\n",
    "        # Extraire le nombre d'unités si applicable\n",
    "        if hasattr(layer, 'units'):\n",
    "            params[f'layer_{i}_units'] = layer.units\n",
    "        \n",
    "        # Extraire le dropout si applicable\n",
    "        if hasattr(layer, 'rate'):\n",
    "            params[f'layer_{i}_dropout'] = layer.rate\n",
    "\n",
    "        # Extraire activation si applicable\n",
    "        if hasattr(layer, 'activation'):\n",
    "            params[f'layer_{i}_activation'] = layer.activation.__name__\n",
    "\n",
    "    return params"
   ]
  },
  {
   "cell_type": "code",
   "execution_count": 74,
   "id": "f32f2019-c623-4219-90e4-8d2fd4352a02",
   "metadata": {},
   "outputs": [],
   "source": [
    "max_words = 20000\n",
    "max_len = 100"
   ]
  },
  {
   "cell_type": "code",
   "execution_count": 75,
   "id": "64411fbd-d359-4a4a-9639-fb2cb4acafad",
   "metadata": {},
   "outputs": [],
   "source": [
    "# X, tokenizer = tokenize_and_pad(tweets_sample['text'], max_words, max_len)"
   ]
  },
  {
   "cell_type": "code",
   "execution_count": 76,
   "id": "b677dec0-3de3-47e3-80d8-8e8c469171a3",
   "metadata": {},
   "outputs": [],
   "source": [
    "X_train_padded, X_test_padded, tokenizer = tokenize_and_pad(tweets['text'], X_train, X_test, max_words, max_len)"
   ]
  },
  {
   "cell_type": "code",
   "execution_count": 77,
   "id": "446e54f3-712c-493d-acd1-b5be52ce5ab8",
   "metadata": {},
   "outputs": [],
   "source": [
    "with open('trained_tokenizer.pickle', 'wb') as handle:\n",
    "    pickle.dump(tokenizer, handle, protocol=pickle.HIGHEST_PROTOCOL)"
   ]
  },
  {
   "cell_type": "code",
   "execution_count": 78,
   "id": "d535800f-e3ba-4f2b-b212-d482f693338f",
   "metadata": {},
   "outputs": [],
   "source": [
    "# # Division des données\n",
    "# X_train, X_test, y_train, y_test = train_test_split(X,\n",
    "#                                                     tweets_sample['target'],\n",
    "#                                                     test_size=0.2,\n",
    "#                                                     random_state=42)"
   ]
  },
  {
   "cell_type": "markdown",
   "id": "1bfcfc91-f362-4763-92b5-a5f315a6e066",
   "metadata": {},
   "source": [
    "## LSTM avec embeddings Word2Vec"
   ]
  },
  {
   "cell_type": "code",
   "execution_count": 79,
   "id": "c50772d8-3810-4650-8cfe-357a93a076a5",
   "metadata": {},
   "outputs": [],
   "source": [
    "def w2v_embedding_matrix(tokenizer, word2vec_model, max_words, embedding_dim):\n",
    "    \"\"\"\n",
    "    Crée une matrice d'embedding à partir d'un modèle Word2Vec entraîné.\n",
    "\n",
    "    :param tokenizer: Tokenizer ajusté sur le texte.\n",
    "    :param word2vec_model: Modèle Word2Vec entraîné.\n",
    "    :param max_words: Nombre de mots dans le vocabulaire.\n",
    "    :param embedding_dim: Dimension des embeddings.\n",
    "    :return: Matrice d'embedding.\n",
    "    \"\"\"\n",
    "    # Créer une matrice d'embedding\n",
    "    embedding_matrix = np.zeros((max_words, embedding_dim))\n",
    "\n",
    "    for word, i in tokenizer.word_index.items():\n",
    "        if i < max_words:\n",
    "            if word in word2vec_model.wv:\n",
    "                embedding_matrix[i] = word2vec_model.wv[word]\n",
    "\n",
    "    return embedding_matrix"
   ]
  },
  {
   "cell_type": "code",
   "execution_count": 50,
   "id": "981a6299-759a-4976-bc6c-24de20395675",
   "metadata": {},
   "outputs": [
    {
     "name": "stdout",
     "output_type": "stream",
     "text": [
      "Chargement du modèle Word2Vec existant...\n"
     ]
    }
   ],
   "source": [
    "w2v_path = \"twitter_word2vec.model\"\n",
    "\n",
    "if os.path.exists(w2v_path):\n",
    "    print(\"Chargement du modèle Word2Vec existant...\")\n",
    "    word2vec_model = Word2Vec.load(w2v_path)\n",
    "else:\n",
    "    print(\"Entraînement d'un nouveau modèle Word2Vec...\")\n",
    "    # Nettoyer tous les tweets (pas seulement ceux du sample)\n",
    "    tokenized_text = tweets['text'].apply(word_tokenize)\n",
    "    word2vec_model = Word2Vec(sentences=tokenized_text, vector_size=100,\n",
    "                              window=4, min_count=2)\n",
    "    word2vec_model.save(w2v_path)\n",
    "    print(\"Modèle entraîné et sauvegardé.\")"
   ]
  },
  {
   "cell_type": "code",
   "execution_count": 51,
   "id": "11963b39-0c34-4b29-81a9-4e45fe64dfb7",
   "metadata": {},
   "outputs": [],
   "source": [
    "# embeddings word2vec\n",
    "embedding_matrix = w2v_embedding_matrix(tokenizer, word2vec_model, max_words,\n",
    "                                        embedding_dim=100)"
   ]
  },
  {
   "cell_type": "code",
   "execution_count": 52,
   "id": "45a4573b-0124-4511-9456-3276d6863a20",
   "metadata": {},
   "outputs": [
    {
     "name": "stdout",
     "output_type": "stream",
     "text": [
      "Model: \"sequential\"\n",
      "_________________________________________________________________\n",
      " Layer (type)                Output Shape              Param #   \n",
      "=================================================================\n",
      " embedding (Embedding)       (None, None, 100)         2000000   \n",
      "                                                                 \n",
      " bidirectional (Bidirection  (None, 128)               84480     \n",
      " al)                                                             \n",
      "                                                                 \n",
      " dense (Dense)               (None, 1)                 129       \n",
      "                                                                 \n",
      "=================================================================\n",
      "Total params: 2084609 (7.95 MB)\n",
      "Trainable params: 84609 (330.50 KB)\n",
      "Non-trainable params: 2000000 (7.63 MB)\n",
      "_________________________________________________________________\n"
     ]
    }
   ],
   "source": [
    "model_LSTM_w2v = build_LSTM_model(embedding_matrix)\n",
    "model_LSTM_w2v.summary()"
   ]
  },
  {
   "cell_type": "code",
   "execution_count": 53,
   "id": "5b91698c-dc00-4cff-a7b5-928ca5265a55",
   "metadata": {},
   "outputs": [],
   "source": [
    "callbacks_LSTM_w2v = create_callbacks(model_name=\"model_LSTM_w2v\", patience=5)"
   ]
  },
  {
   "cell_type": "code",
   "execution_count": 54,
   "id": "4d24f8d3-628b-4b61-a854-ad96ef540db5",
   "metadata": {},
   "outputs": [
    {
     "name": "stdout",
     "output_type": "stream",
     "text": [
      "Epoch 1/20\n",
      "320/320 [==============================] - ETA: 0s - loss: 0.6373 - accuracy: 0.6293 - auc: 0.6851\n",
      "Epoch 1: val_loss improved from inf to 0.57945, saving model to ./checkpoints\\model_LSTM_w2v.keras\n",
      "320/320 [==============================] - 66s 187ms/step - loss: 0.6373 - accuracy: 0.6293 - auc: 0.6851 - val_loss: 0.5794 - val_accuracy: 0.7020 - val_auc: 0.7733\n",
      "Epoch 2/20\n",
      "320/320 [==============================] - ETA: 0s - loss: 0.5735 - accuracy: 0.6976 - auc: 0.7707\n",
      "Epoch 2: val_loss improved from 0.57945 to 0.54205, saving model to ./checkpoints\\model_LSTM_w2v.keras\n",
      "320/320 [==============================] - 58s 180ms/step - loss: 0.5735 - accuracy: 0.6976 - auc: 0.7707 - val_loss: 0.5421 - val_accuracy: 0.7316 - val_auc: 0.8052\n",
      "Epoch 3/20\n",
      "320/320 [==============================] - ETA: 0s - loss: 0.5492 - accuracy: 0.7206 - auc: 0.7940\n",
      "Epoch 3: val_loss improved from 0.54205 to 0.51945, saving model to ./checkpoints\\model_LSTM_w2v.keras\n",
      "320/320 [==============================] - 58s 182ms/step - loss: 0.5492 - accuracy: 0.7206 - auc: 0.7940 - val_loss: 0.5194 - val_accuracy: 0.7465 - val_auc: 0.8225\n",
      "Epoch 4/20\n",
      "320/320 [==============================] - ETA: 0s - loss: 0.5246 - accuracy: 0.7383 - auc: 0.8154\n",
      "Epoch 4: val_loss improved from 0.51945 to 0.51457, saving model to ./checkpoints\\model_LSTM_w2v.keras\n",
      "320/320 [==============================] - 57s 179ms/step - loss: 0.5246 - accuracy: 0.7383 - auc: 0.8154 - val_loss: 0.5146 - val_accuracy: 0.7512 - val_auc: 0.8282\n",
      "Epoch 5/20\n",
      "320/320 [==============================] - ETA: 0s - loss: 0.5165 - accuracy: 0.7468 - auc: 0.8230\n",
      "Epoch 5: val_loss improved from 0.51457 to 0.50625, saving model to ./checkpoints\\model_LSTM_w2v.keras\n",
      "320/320 [==============================] - 52s 162ms/step - loss: 0.5165 - accuracy: 0.7468 - auc: 0.8230 - val_loss: 0.5062 - val_accuracy: 0.7602 - val_auc: 0.8358\n",
      "Epoch 6/20\n",
      "320/320 [==============================] - ETA: 0s - loss: 0.5041 - accuracy: 0.7555 - auc: 0.8327\n",
      "Epoch 6: val_loss improved from 0.50625 to 0.50317, saving model to ./checkpoints\\model_LSTM_w2v.keras\n",
      "320/320 [==============================] - 55s 172ms/step - loss: 0.5041 - accuracy: 0.7555 - auc: 0.8327 - val_loss: 0.5032 - val_accuracy: 0.7645 - val_auc: 0.8383\n",
      "Epoch 7/20\n",
      "320/320 [==============================] - ETA: 0s - loss: 0.4948 - accuracy: 0.7628 - auc: 0.8402\n",
      "Epoch 7: val_loss improved from 0.50317 to 0.50212, saving model to ./checkpoints\\model_LSTM_w2v.keras\n",
      "320/320 [==============================] - 59s 184ms/step - loss: 0.4948 - accuracy: 0.7628 - auc: 0.8402 - val_loss: 0.5021 - val_accuracy: 0.7652 - val_auc: 0.8421\n",
      "Epoch 8/20\n",
      "320/320 [==============================] - ETA: 0s - loss: 0.4889 - accuracy: 0.7666 - auc: 0.8438\n",
      "Epoch 8: val_loss improved from 0.50212 to 0.49392, saving model to ./checkpoints\\model_LSTM_w2v.keras\n",
      "320/320 [==============================] - 54s 170ms/step - loss: 0.4889 - accuracy: 0.7666 - auc: 0.8438 - val_loss: 0.4939 - val_accuracy: 0.7676 - val_auc: 0.8453\n",
      "Epoch 9/20\n",
      "320/320 [==============================] - ETA: 0s - loss: 0.4769 - accuracy: 0.7697 - auc: 0.8522\n",
      "Epoch 9: val_loss did not improve from 0.49392\n",
      "320/320 [==============================] - 58s 181ms/step - loss: 0.4769 - accuracy: 0.7697 - auc: 0.8522 - val_loss: 0.4948 - val_accuracy: 0.7707 - val_auc: 0.8472\n",
      "Epoch 10/20\n",
      "320/320 [==============================] - ETA: 0s - loss: 0.4718 - accuracy: 0.7738 - auc: 0.8562\n",
      "Epoch 10: val_loss did not improve from 0.49392\n",
      "320/320 [==============================] - 54s 170ms/step - loss: 0.4718 - accuracy: 0.7738 - auc: 0.8562 - val_loss: 0.5095 - val_accuracy: 0.7668 - val_auc: 0.8464\n",
      "Epoch 11/20\n",
      "320/320 [==============================] - ETA: 0s - loss: 0.4634 - accuracy: 0.7781 - auc: 0.8617\n",
      "Epoch 11: val_loss did not improve from 0.49392\n",
      "320/320 [==============================] - 54s 169ms/step - loss: 0.4634 - accuracy: 0.7781 - auc: 0.8617 - val_loss: 0.4947 - val_accuracy: 0.7738 - val_auc: 0.8480\n",
      "Epoch 12/20\n",
      "320/320 [==============================] - ETA: 0s - loss: 0.4608 - accuracy: 0.7794 - auc: 0.8635\n",
      "Epoch 12: val_loss improved from 0.49392 to 0.49136, saving model to ./checkpoints\\model_LSTM_w2v.keras\n",
      "320/320 [==============================] - 56s 174ms/step - loss: 0.4608 - accuracy: 0.7794 - auc: 0.8635 - val_loss: 0.4914 - val_accuracy: 0.7691 - val_auc: 0.8505\n",
      "Epoch 13/20\n",
      "320/320 [==============================] - ETA: 0s - loss: 0.4516 - accuracy: 0.7881 - auc: 0.8697\n",
      "Epoch 13: val_loss did not improve from 0.49136\n",
      "320/320 [==============================] - 55s 172ms/step - loss: 0.4516 - accuracy: 0.7881 - auc: 0.8697 - val_loss: 0.5033 - val_accuracy: 0.7723 - val_auc: 0.8507\n",
      "Epoch 14/20\n",
      "320/320 [==============================] - ETA: 0s - loss: 0.4478 - accuracy: 0.7877 - auc: 0.8720\n",
      "Epoch 14: val_loss did not improve from 0.49136\n",
      "320/320 [==============================] - 54s 168ms/step - loss: 0.4478 - accuracy: 0.7877 - auc: 0.8720 - val_loss: 0.4964 - val_accuracy: 0.7707 - val_auc: 0.8509\n",
      "Epoch 15/20\n",
      "320/320 [==============================] - ETA: 0s - loss: 0.4432 - accuracy: 0.7919 - auc: 0.8745\n",
      "Epoch 15: val_loss did not improve from 0.49136\n",
      "320/320 [==============================] - 55s 171ms/step - loss: 0.4432 - accuracy: 0.7919 - auc: 0.8745 - val_loss: 0.4953 - val_accuracy: 0.7734 - val_auc: 0.8513\n",
      "Epoch 16/20\n",
      "320/320 [==============================] - ETA: 0s - loss: 0.4351 - accuracy: 0.7933 - auc: 0.8796\n",
      "Epoch 16: val_loss did not improve from 0.49136\n",
      "320/320 [==============================] - 55s 172ms/step - loss: 0.4351 - accuracy: 0.7933 - auc: 0.8796 - val_loss: 0.4990 - val_accuracy: 0.7754 - val_auc: 0.8525\n",
      "Epoch 17/20\n",
      "320/320 [==============================] - ETA: 0s - loss: 0.4330 - accuracy: 0.7972 - auc: 0.8811\n",
      "Epoch 17: val_loss did not improve from 0.49136\n",
      "Restoring model weights from the end of the best epoch: 12.\n",
      "320/320 [==============================] - 54s 170ms/step - loss: 0.4330 - accuracy: 0.7972 - auc: 0.8811 - val_loss: 0.5046 - val_accuracy: 0.7746 - val_auc: 0.8521\n",
      "Epoch 17: early stopping\n"
     ]
    }
   ],
   "source": [
    "# Entrainement\n",
    "start_fit_time = time.time() \n",
    "history_LSTM_w2v = model_LSTM_w2v.fit(\n",
    "    X_train_padded, y_train,\n",
    "    epochs=20,\n",
    "    batch_size=32,\n",
    "    validation_split=0.2,\n",
    "    callbacks=callbacks_LSTM_w2v,\n",
    "    verbose=1\n",
    ")\n",
    "fit_time = time.time() - start_fit_time"
   ]
  },
  {
   "cell_type": "code",
   "execution_count": 55,
   "id": "1c3df03d-0dff-43ef-8920-b41fa743685d",
   "metadata": {},
   "outputs": [
    {
     "data": {
      "image/png": "[encoded data removed]",
      "text/plain": [
       "<Figure size 1500x500 with 3 Axes>"
      ]
     },
     "metadata": {},
     "output_type": "display_data"
    }
   ],
   "source": [
    "# Afficher evolution de l'accuracy et de la loss au cours des époques\n",
    "show_history(history_LSTM_w2v)\n",
    "plot_history(history_LSTM_w2v)\n",
    "plt.savefig('conv_history_LSTM_w2v.png')\n",
    "plt.close()"
   ]
  },
  {
   "cell_type": "code",
   "execution_count": 56,
   "id": "4ca9a231-474b-436b-bb8d-5f39afc48d61",
   "metadata": {},
   "outputs": [
    {
     "name": "stdout",
     "output_type": "stream",
     "text": [
      "Train Accuracy: 0.809\n",
      "Train AUC: 0.891\n",
      "Test Accuracy: 0.773\n",
      "Test AUC: 0.859\n"
     ]
    }
   ],
   "source": [
    "train_accu, train_AUC, test_accu, test_AUC, test_pred_time = evaluate_model(\n",
    "    model_LSTM_w2v,\n",
    "    X_train_padded,\n",
    "    y_train,\n",
    "    X_test_padded,\n",
    "    y_test\n",
    ")"
   ]
  },
  {
   "cell_type": "code",
   "execution_count": 57,
   "id": "3bf39539-265b-48c4-b351-005c860e9c28",
   "metadata": {},
   "outputs": [],
   "source": [
    "metrics = {\n",
    "    'Train Accuracy': train_accu,\n",
    "    'Test Accuracy': test_accu,\n",
    "    'Train AUC': train_AUC,\n",
    "    'Test AUC': test_AUC,\n",
    "}"
   ]
  },
  {
   "cell_type": "code",
   "execution_count": 58,
   "id": "60901c4f-2672-4ee4-8ce5-8f7900229cf5",
   "metadata": {},
   "outputs": [],
   "source": [
    "times = {\n",
    "    'fit_time': fit_time, \n",
    "    'test_predict_time': test_pred_time\n",
    "}"
   ]
  },
  {
   "cell_type": "code",
   "execution_count": 60,
   "id": "c427e29e-b2a6-41d5-b266-d053c2663a4a",
   "metadata": {},
   "outputs": [],
   "source": [
    "y_proba_test = model_LSTM_w2v.predict(X_test_padded, batch_size=32, verbose=0)\n",
    "fpr, tpr, _ = roc_curve(y_test, y_proba_test)\n",
    "sns.set()\n",
    "plt.figure()\n",
    "plt.plot(fpr, tpr, label='ROC curve')\n",
    "plt.xlabel('False Positive Rate', fontsize=12)\n",
    "plt.ylabel('True Positive Rate', fontsize=12)\n",
    "plt.title(f'ROC Curve (Test Data) - Modèle LSTM - AUC = {test_AUC:.3f}',\n",
    "          fontweight='bold', fontsize=14)\n",
    "plt.savefig('roc_curve_LSTM_w2v.png')\n",
    "plt.close()"
   ]
  },
  {
   "cell_type": "code",
   "execution_count": 61,
   "id": "d92a383b-7682-4afd-8d62-37b331f4ffb3",
   "metadata": {},
   "outputs": [],
   "source": [
    "artifacts = {\n",
    "    'roc_curve': 'roc_curve_LSTM_w2v.png',\n",
    "    'conv_history': 'conv_history_LSTM_w2v.png'\n",
    "}"
   ]
  },
  {
   "cell_type": "code",
   "execution_count": 62,
   "id": "42564eb8-f364-4fa1-9a83-cc6ff164b8c7",
   "metadata": {},
   "outputs": [],
   "source": [
    "params = log_model_params(model_LSTM_w2v)"
   ]
  },
  {
   "cell_type": "code",
   "execution_count": 63,
   "id": "1eefb5cb-b69f-4b2f-9401-539d5524e874",
   "metadata": {},
   "outputs": [
    {
     "name": "stdout",
     "output_type": "stream",
     "text": [
      "1/1 [==============================] - 0s 445ms/step\n"
     ]
    },
    {
     "data": {
      "application/vnd.jupyter.widget-view+json": {
       "model_id": "f2ec60d5ade846b4ba57708fa2faabc1",
       "version_major": 2,
       "version_minor": 0
      },
      "text/plain": [
       "Downloading artifacts:   0%|          | 0/7 [00:00<?, ?it/s]"
      ]
     },
     "metadata": {},
     "output_type": "display_data"
    },
    {
     "name": "stdout",
     "output_type": "stream",
     "text": [
      "1/1 [==============================] - 1s 737ms/step\n",
      "Modèle et résultats enregistrés dans MLFlow sous le run ID: 97b2ed07c15b4aa7b4fce169db322452\n"
     ]
    }
   ],
   "source": [
    "example_text = \"This is an example tweet for input serialization.\"\n",
    "\n",
    "# Tokeniser l'exemple avec le même tokenizer utilisé pour l'entraînement\n",
    "example_sequence = tokenizer.texts_to_sequences([example_text])\n",
    "\n",
    "# Appliquer le padding pour garantir que l'exemple a la bonne longueur\n",
    "input_example = pad_sequences(example_sequence, maxlen=max_len)\n",
    "\n",
    "log_experiment(\n",
    "    model_LSTM_w2v,\n",
    "    params,\n",
    "    metrics,\n",
    "    artifacts,\n",
    "    input_example,\n",
    "    times\n",
    ")"
   ]
  },
  {
   "cell_type": "markdown",
   "id": "75ea11f1-111b-43e7-8d2d-36db53cfa1b6",
   "metadata": {},
   "source": [
    "## LSTM avec embeddings Glove"
   ]
  },
  {
   "cell_type": "code",
   "execution_count": 80,
   "id": "246f4de8-5149-4cf7-84b6-6fccc82d2141",
   "metadata": {},
   "outputs": [],
   "source": [
    "def glove_embedding_matrix(tokenizer, max_words, embedding_dim=100):\n",
    "    \"\"\"\n",
    "    Crée une matrice d'embedding à partir des embeddings GloVe chargés via Gensim.\n",
    "\n",
    "    :param tokenizer: Tokenizer ajusté sur le texte.\n",
    "    :param max_words: Nombre de mots dans le vocabulaire.\n",
    "    :param embedding_dim: Dimension des embeddings GloVe.\n",
    "    :return: Matrice d'embedding.\n",
    "    \"\"\"\n",
    "    # Charger les embeddings GloVe via Gensim\n",
    "    # glove_model = api.load('glove-wiki-gigaword-100')\n",
    "    glove_model = api.load('glove-twitter-100')\n",
    "\n",
    "    # Créer une matrice d'embedding\n",
    "    embedding_matrix = np.zeros((max_words, embedding_dim))\n",
    "\n",
    "    for word, i in tokenizer.word_index.items():\n",
    "        if i < max_words:\n",
    "            if word in glove_model:\n",
    "                embedding_matrix[i] = glove_model[word]\n",
    "\n",
    "    return embedding_matrix"
   ]
  },
  {
   "cell_type": "code",
   "execution_count": 81,
   "id": "f0ef60ec-eaee-4e2b-bae8-80be2bd3d2d6",
   "metadata": {},
   "outputs": [],
   "source": [
    "# embeddings glove\n",
    "embedding_matrix = glove_embedding_matrix(tokenizer, max_words, \n",
    "                                          embedding_dim=100)"
   ]
  },
  {
   "cell_type": "code",
   "execution_count": 82,
   "id": "cdd04fd8-4161-4977-b219-7c27d985f2e6",
   "metadata": {},
   "outputs": [
    {
     "name": "stdout",
     "output_type": "stream",
     "text": [
      "Model: \"sequential\"\n",
      "_________________________________________________________________\n",
      " Layer (type)                Output Shape              Param #   \n",
      "=================================================================\n",
      " embedding (Embedding)       (None, None, 100)         2000000   \n",
      "                                                                 \n",
      " bidirectional (Bidirection  (None, 128)               84480     \n",
      " al)                                                             \n",
      "                                                                 \n",
      " dense (Dense)               (None, 1)                 129       \n",
      "                                                                 \n",
      "=================================================================\n",
      "Total params: 2084609 (7.95 MB)\n",
      "Trainable params: 84609 (330.50 KB)\n",
      "Non-trainable params: 2000000 (7.63 MB)\n",
      "_________________________________________________________________\n"
     ]
    }
   ],
   "source": [
    "model_LSTM_glove = build_LSTM_model(embedding_matrix)\n",
    "model_LSTM_glove.summary()"
   ]
  },
  {
   "cell_type": "code",
   "execution_count": 83,
   "id": "5e45ef3c-7bd1-4067-be38-46f33dd8d6e1",
   "metadata": {},
   "outputs": [],
   "source": [
    "callbacks_LSTM_glove = create_callbacks(model_name=\"model_LSTM_glove\",\n",
    "                                        patience=5)"
   ]
  },
  {
   "cell_type": "code",
   "execution_count": 84,
   "id": "77d9b8a0-432d-4785-9ed1-944b12869c4b",
   "metadata": {},
   "outputs": [
    {
     "name": "stdout",
     "output_type": "stream",
     "text": [
      "Epoch 1/20\n",
      "320/320 [==============================] - ETA: 0s - loss: 0.6112 - accuracy: 0.6597 - auc: 0.7259\n",
      "Epoch 1: val_loss improved from inf to 0.57673, saving model to ./checkpoints\\model_LSTM_glove.keras\n",
      "320/320 [==============================] - 57s 164ms/step - loss: 0.6112 - accuracy: 0.6597 - auc: 0.7259 - val_loss: 0.5767 - val_accuracy: 0.6945 - val_auc: 0.7885\n",
      "Epoch 2/20\n",
      "320/320 [==============================] - ETA: 0s - loss: 0.5557 - accuracy: 0.7142 - auc: 0.7878\n",
      "Epoch 2: val_loss improved from 0.57673 to 0.53132, saving model to ./checkpoints\\model_LSTM_glove.keras\n",
      "320/320 [==============================] - 55s 172ms/step - loss: 0.5557 - accuracy: 0.7142 - auc: 0.7878 - val_loss: 0.5313 - val_accuracy: 0.7316 - val_auc: 0.8102\n",
      "Epoch 3/20\n",
      "320/320 [==============================] - ETA: 0s - loss: 0.5429 - accuracy: 0.7247 - auc: 0.7995\n",
      "Epoch 3: val_loss did not improve from 0.53132\n",
      "320/320 [==============================] - 53s 166ms/step - loss: 0.5429 - accuracy: 0.7247 - auc: 0.7995 - val_loss: 0.5470 - val_accuracy: 0.7098 - val_auc: 0.8129\n",
      "Epoch 4/20\n",
      "320/320 [==============================] - ETA: 0s - loss: 0.5333 - accuracy: 0.7282 - auc: 0.8077\n",
      "Epoch 4: val_loss improved from 0.53132 to 0.51314, saving model to ./checkpoints\\model_LSTM_glove.keras\n",
      "320/320 [==============================] - 53s 167ms/step - loss: 0.5333 - accuracy: 0.7282 - auc: 0.8077 - val_loss: 0.5131 - val_accuracy: 0.7492 - val_auc: 0.8235\n",
      "Epoch 5/20\n",
      "320/320 [==============================] - ETA: 0s - loss: 0.5239 - accuracy: 0.7333 - auc: 0.8153\n",
      "Epoch 5: val_loss improved from 0.51314 to 0.50758, saving model to ./checkpoints\\model_LSTM_glove.keras\n",
      "320/320 [==============================] - 55s 171ms/step - loss: 0.5239 - accuracy: 0.7333 - auc: 0.8153 - val_loss: 0.5076 - val_accuracy: 0.7559 - val_auc: 0.8285\n",
      "Epoch 6/20\n",
      "320/320 [==============================] - ETA: 0s - loss: 0.5176 - accuracy: 0.7409 - auc: 0.8206\n",
      "Epoch 6: val_loss improved from 0.50758 to 0.50281, saving model to ./checkpoints\\model_LSTM_glove.keras\n",
      "320/320 [==============================] - 53s 166ms/step - loss: 0.5176 - accuracy: 0.7409 - auc: 0.8206 - val_loss: 0.5028 - val_accuracy: 0.7523 - val_auc: 0.8320\n",
      "Epoch 7/20\n",
      "320/320 [==============================] - ETA: 0s - loss: 0.5116 - accuracy: 0.7412 - auc: 0.8244\n",
      "Epoch 7: val_loss improved from 0.50281 to 0.49924, saving model to ./checkpoints\\model_LSTM_glove.keras\n",
      "320/320 [==============================] - 58s 180ms/step - loss: 0.5116 - accuracy: 0.7412 - auc: 0.8244 - val_loss: 0.4992 - val_accuracy: 0.7531 - val_auc: 0.8359\n",
      "Epoch 8/20\n",
      "320/320 [==============================] - ETA: 0s - loss: 0.5044 - accuracy: 0.7490 - auc: 0.8313\n",
      "Epoch 8: val_loss improved from 0.49924 to 0.49789, saving model to ./checkpoints\\model_LSTM_glove.keras\n",
      "320/320 [==============================] - 59s 186ms/step - loss: 0.5044 - accuracy: 0.7490 - auc: 0.8313 - val_loss: 0.4979 - val_accuracy: 0.7543 - val_auc: 0.8369\n",
      "Epoch 9/20\n",
      "320/320 [==============================] - ETA: 0s - loss: 0.4962 - accuracy: 0.7516 - auc: 0.8364\n",
      "Epoch 9: val_loss did not improve from 0.49789\n",
      "320/320 [==============================] - 57s 177ms/step - loss: 0.4962 - accuracy: 0.7516 - auc: 0.8364 - val_loss: 0.5133 - val_accuracy: 0.7453 - val_auc: 0.8352\n",
      "Epoch 10/20\n",
      "320/320 [==============================] - ETA: 0s - loss: 0.4971 - accuracy: 0.7529 - auc: 0.8359\n",
      "Epoch 10: val_loss improved from 0.49789 to 0.49106, saving model to ./checkpoints\\model_LSTM_glove.keras\n",
      "320/320 [==============================] - 59s 184ms/step - loss: 0.4971 - accuracy: 0.7529 - auc: 0.8359 - val_loss: 0.4911 - val_accuracy: 0.7582 - val_auc: 0.8424\n",
      "Epoch 11/20\n",
      "320/320 [==============================] - ETA: 0s - loss: 0.4860 - accuracy: 0.7600 - auc: 0.8444\n",
      "Epoch 11: val_loss improved from 0.49106 to 0.48895, saving model to ./checkpoints\\model_LSTM_glove.keras\n",
      "320/320 [==============================] - 55s 173ms/step - loss: 0.4860 - accuracy: 0.7600 - auc: 0.8444 - val_loss: 0.4889 - val_accuracy: 0.7594 - val_auc: 0.8441\n",
      "Epoch 12/20\n",
      "320/320 [==============================] - ETA: 0s - loss: 0.4863 - accuracy: 0.7571 - auc: 0.8442\n",
      "Epoch 12: val_loss improved from 0.48895 to 0.48831, saving model to ./checkpoints\\model_LSTM_glove.keras\n",
      "320/320 [==============================] - 52s 163ms/step - loss: 0.4863 - accuracy: 0.7571 - auc: 0.8442 - val_loss: 0.4883 - val_accuracy: 0.7531 - val_auc: 0.8447\n",
      "Epoch 13/20\n",
      "320/320 [==============================] - ETA: 0s - loss: 0.4762 - accuracy: 0.7656 - auc: 0.8511\n",
      "Epoch 13: val_loss did not improve from 0.48831\n",
      "320/320 [==============================] - 48s 149ms/step - loss: 0.4762 - accuracy: 0.7656 - auc: 0.8511 - val_loss: 0.5063 - val_accuracy: 0.7496 - val_auc: 0.8437\n",
      "Epoch 14/20\n",
      "320/320 [==============================] - ETA: 0s - loss: 0.4757 - accuracy: 0.7695 - auc: 0.8514\n",
      "Epoch 14: val_loss did not improve from 0.48831\n",
      "320/320 [==============================] - 52s 163ms/step - loss: 0.4757 - accuracy: 0.7695 - auc: 0.8514 - val_loss: 0.4907 - val_accuracy: 0.7633 - val_auc: 0.8468\n",
      "Epoch 15/20\n",
      "320/320 [==============================] - ETA: 0s - loss: 0.4756 - accuracy: 0.7662 - auc: 0.8522\n",
      "Epoch 15: val_loss improved from 0.48831 to 0.48373, saving model to ./checkpoints\\model_LSTM_glove.keras\n",
      "320/320 [==============================] - 54s 168ms/step - loss: 0.4756 - accuracy: 0.7662 - auc: 0.8522 - val_loss: 0.4837 - val_accuracy: 0.7648 - val_auc: 0.8485\n",
      "Epoch 16/20\n",
      "320/320 [==============================] - ETA: 0s - loss: 0.4636 - accuracy: 0.7734 - auc: 0.8604\n",
      "Epoch 16: val_loss did not improve from 0.48373\n",
      "320/320 [==============================] - 51s 161ms/step - loss: 0.4636 - accuracy: 0.7734 - auc: 0.8604 - val_loss: 0.4973 - val_accuracy: 0.7621 - val_auc: 0.8471\n",
      "Epoch 17/20\n",
      "320/320 [==============================] - ETA: 0s - loss: 0.4586 - accuracy: 0.7759 - auc: 0.8634\n",
      "Epoch 17: val_loss improved from 0.48373 to 0.48361, saving model to ./checkpoints\\model_LSTM_glove.keras\n",
      "320/320 [==============================] - 51s 159ms/step - loss: 0.4586 - accuracy: 0.7759 - auc: 0.8634 - val_loss: 0.4836 - val_accuracy: 0.7703 - val_auc: 0.8499\n",
      "Epoch 18/20\n",
      "320/320 [==============================] - ETA: 0s - loss: 0.4596 - accuracy: 0.7814 - auc: 0.8630\n",
      "Epoch 18: val_loss did not improve from 0.48361\n",
      "320/320 [==============================] - 50s 155ms/step - loss: 0.4596 - accuracy: 0.7814 - auc: 0.8630 - val_loss: 0.5005 - val_accuracy: 0.7527 - val_auc: 0.8516\n",
      "Epoch 19/20\n",
      "320/320 [==============================] - ETA: 0s - loss: 0.4566 - accuracy: 0.7781 - auc: 0.8653\n",
      "Epoch 19: val_loss did not improve from 0.48361\n",
      "320/320 [==============================] - 49s 154ms/step - loss: 0.4566 - accuracy: 0.7781 - auc: 0.8653 - val_loss: 0.4841 - val_accuracy: 0.7656 - val_auc: 0.8523\n",
      "Epoch 20/20\n",
      "320/320 [==============================] - ETA: 0s - loss: 0.4480 - accuracy: 0.7867 - auc: 0.8709\n",
      "Epoch 20: val_loss improved from 0.48361 to 0.48334, saving model to ./checkpoints\\model_LSTM_glove.keras\n",
      "320/320 [==============================] - 52s 163ms/step - loss: 0.4480 - accuracy: 0.7867 - auc: 0.8709 - val_loss: 0.4833 - val_accuracy: 0.7664 - val_auc: 0.8528\n"
     ]
    }
   ],
   "source": [
    "# Entrainement\n",
    "start_fit_time = time.time() \n",
    "history_LSTM_glove = model_LSTM_glove.fit(\n",
    "    X_train_padded, y_train,\n",
    "    epochs=20,\n",
    "    batch_size=32,\n",
    "    validation_split=0.2,\n",
    "    callbacks=callbacks_LSTM_glove,\n",
    "    verbose=1\n",
    ")\n",
    "fit_time = time.time() - start_fit_time"
   ]
  },
  {
   "cell_type": "code",
   "execution_count": 85,
   "id": "1b830796-d2f8-48c6-a732-ac031bfc6ee6",
   "metadata": {},
   "outputs": [
    {
     "data": {
      "image/png": "[encoded data removed]",
      "text/plain": [
       "<Figure size 1500x500 with 3 Axes>"
      ]
     },
     "metadata": {},
     "output_type": "display_data"
    }
   ],
   "source": [
    "# Afficher evolution de l'accuracy et de la loss au cours des époques\n",
    "show_history(history_LSTM_glove)\n",
    "plot_history(history_LSTM_glove)\n",
    "plt.savefig('conv_history_LSTM_glove.png')\n",
    "plt.close()"
   ]
  },
  {
   "cell_type": "code",
   "execution_count": 86,
   "id": "25688090-a530-4e9a-a852-cd6662ddcd80",
   "metadata": {},
   "outputs": [
    {
     "name": "stdout",
     "output_type": "stream",
     "text": [
      "Train Accuracy: 0.806\n",
      "Train AUC: 0.892\n",
      "Test Accuracy: 0.777\n",
      "Test AUC: 0.862\n"
     ]
    }
   ],
   "source": [
    "train_accu, train_AUC, test_accu, test_AUC, test_pred_time = evaluate_model(\n",
    "    model_LSTM_glove,\n",
    "    X_train_padded,\n",
    "    y_train,\n",
    "    X_test_padded,\n",
    "    y_test\n",
    ")"
   ]
  },
  {
   "cell_type": "code",
   "execution_count": 87,
   "id": "db688c53-98fc-44d2-9846-7703176e668b",
   "metadata": {},
   "outputs": [],
   "source": [
    "metrics = {\n",
    "    'Train Accuracy': train_accu,\n",
    "    'Test Accuracy': test_accu,\n",
    "    'Train AUC': train_AUC,\n",
    "    'Test AUC': test_AUC,\n",
    "}\n",
    "\n",
    "times = {\n",
    "    'fit_time': fit_time, \n",
    "    'test_predict_time': test_pred_time\n",
    "}\n",
    "\n",
    "y_proba_test = model_LSTM_glove.predict(X_test_padded, batch_size=32, verbose=0)\n",
    "fpr, tpr, _ = roc_curve(y_test, y_proba_test)\n",
    "sns.set()\n",
    "plt.figure()\n",
    "plt.plot(fpr, tpr, label='ROC curve')\n",
    "plt.xlabel('False Positive Rate', fontsize=12)\n",
    "plt.ylabel('True Positive Rate', fontsize=12)\n",
    "plt.title(f'ROC Curve (Test Data) - Modèle LSTM - AUC = {test_AUC:.3f}',\n",
    "          fontweight='bold', fontsize=14)\n",
    "plt.savefig('roc_curve_LSTM_glove.png')\n",
    "plt.close()\n",
    "\n",
    "artifacts = {\n",
    "    'roc_curve': 'roc_curve_LSTM_glove.png',\n",
    "    'conv_history': 'conv_history_LSTM_glove.png'\n",
    "}\n",
    "\n",
    "params = log_model_params(model_LSTM_glove)"
   ]
  },
  {
   "cell_type": "code",
   "execution_count": 88,
   "id": "6b2f778a-34b6-451e-8dd9-f813ab44049a",
   "metadata": {},
   "outputs": [
    {
     "name": "stdout",
     "output_type": "stream",
     "text": [
      "1/1 [==============================] - 4s 4s/step\n"
     ]
    },
    {
     "data": {
      "application/vnd.jupyter.widget-view+json": {
       "model_id": "2207d91573924c74b10b28560d8a3851",
       "version_major": 2,
       "version_minor": 0
      },
      "text/plain": [
       "Downloading artifacts:   0%|          | 0/7 [00:00<?, ?it/s]"
      ]
     },
     "metadata": {},
     "output_type": "display_data"
    },
    {
     "name": "stdout",
     "output_type": "stream",
     "text": [
      "1/1 [==============================] - 3s 3s/step\n",
      "Modèle et résultats enregistrés dans MLFlow sous le run ID: dc5359821bd94b4b8ea451634887d3ae\n"
     ]
    }
   ],
   "source": [
    "log_experiment(\n",
    "    model_LSTM_glove,\n",
    "    params,\n",
    "    metrics,\n",
    "    artifacts,\n",
    "    input_example,\n",
    "    times\n",
    ")"
   ]
  },
  {
   "cell_type": "code",
   "execution_count": 89,
   "id": "3d5ca158-1a2d-4a2f-90d5-38e443774060",
   "metadata": {},
   "outputs": [
    {
     "name": "stderr",
     "output_type": "stream",
     "text": [
      "C:\\Users\\ngodinaud\\Desktop\\OpenClassrooms\\Projets\\Projet7\\env\\Lib\\site-packages\\keras\\src\\engine\\training.py:3103: UserWarning: You are saving your model as an HDF5 file via `model.save()`. This file format is considered legacy. We recommend using instead the native Keras format, e.g. `model.save('my_model.keras')`.\n",
      "  saving_api.save_model(\n"
     ]
    }
   ],
   "source": [
    "model_LSTM_glove.save('model_LSTM.h5')"
   ]
  },
  {
   "cell_type": "markdown",
   "id": "72dd3e48-c0fd-4ed0-9302-f0a86123631c",
   "metadata": {},
   "source": [
    "# Modèle avancé BERT"
   ]
  },
  {
   "cell_type": "code",
   "execution_count": 74,
   "id": "1dd5c853-515b-4e80-9196-ba263c786c5e",
   "metadata": {},
   "outputs": [],
   "source": [
    "def prepare_BERT_datasets(X_train, X_test, y_train, y_test, max_len, batch_size,\n",
    "                                          val_split=0.2, tokenizer=None):\n",
    "    \"\"\"\n",
    "    Prépare les datasets TensorFlow pour l'entraînement avec un modèle BERT,\n",
    "    en utilisant directement X_train et X_test.\n",
    "\n",
    "    :param X_train: Liste ou array de textes d'entraînement.\n",
    "    :param X_test: Liste ou array de textes de test.\n",
    "    :param y_train: Labels associés aux textes d'entraînement.\n",
    "    :param y_test: Labels associés aux textes de test.\n",
    "    :param max_len: Longueur maximale des séquences BERT.\n",
    "    :param batch_size: Taille des batchs.\n",
    "    :param val_split: Proportion des données d'entraînement réservée à la validation.\n",
    "    :param tokenizer: (Optionnel) Tokenizer BERT préchargé. Si None, charge 'distilbert-base-uncased'.\n",
    "\n",
    "    :return: Tuple `(train_dataset, val_dataset, test_dataset, tokenizer, train_size)`\n",
    "    \"\"\"\n",
    "    # Charger le tokenizer si non fourni\n",
    "    if tokenizer is None:\n",
    "        tokenizer = DistilBertTokenizerFast.from_pretrained('distilbert-base-uncased')\n",
    "\n",
    "    # Tokenisation des textes d'entraînement et de test\n",
    "    train_inputs = tokenizer(list(X_train), max_length=max_len, padding=True, truncation=True, return_tensors=\"np\")\n",
    "    test_inputs = tokenizer(list(X_test), max_length=max_len, padding=True, truncation=True, return_tensors=\"np\")\n",
    "\n",
    "    train_input_ids = train_inputs['input_ids']\n",
    "    train_attention_mask = train_inputs['attention_mask']\n",
    "    test_input_ids = test_inputs['input_ids']\n",
    "    test_attention_mask = test_inputs['attention_mask']\n",
    "\n",
    "    # Taille d'entraînement pour le split val\n",
    "    full_train_size = len(train_input_ids)\n",
    "    val_size = int(full_train_size * val_split)\n",
    "    train_size = full_train_size - val_size\n",
    "\n",
    "    # Créer le dataset complet d'entraînement\n",
    "    full_train_dataset = tf.data.Dataset.from_tensor_slices((\n",
    "        {'input_ids': tf.constant(train_input_ids), 'attention_mask': tf.constant(train_attention_mask)},\n",
    "        tf.constant(y_train)\n",
    "    ))\n",
    "\n",
    "    # Split en train/val\n",
    "    train_dataset = full_train_dataset.take(train_size)\n",
    "    val_dataset = full_train_dataset.skip(train_size)\n",
    "\n",
    "    # Préparer le dataset test\n",
    "    test_dataset = tf.data.Dataset.from_tensor_slices((\n",
    "        {'input_ids': tf.constant(test_input_ids), 'attention_mask': tf.constant(test_attention_mask)},\n",
    "        tf.constant(y_test)\n",
    "    ))\n",
    "\n",
    "    # Shuffle, batch, prefetch\n",
    "    train_dataset = train_dataset.shuffle(train_size).batch(batch_size).prefetch(tf.data.AUTOTUNE)\n",
    "    val_dataset = val_dataset.batch(batch_size).prefetch(tf.data.AUTOTUNE)\n",
    "    test_dataset = test_dataset.batch(batch_size).prefetch(tf.data.AUTOTUNE)\n",
    "\n",
    "    return train_dataset, val_dataset, test_dataset, tokenizer, train_size"
   ]
  },
  {
   "cell_type": "code",
   "execution_count": 75,
   "id": "954fb0ce-dd0b-447d-aadb-efda08c3d60b",
   "metadata": {},
   "outputs": [],
   "source": [
    "def build_BERT_model(learning_rate, weight_decay_rate, train_data_size, epochs):\n",
    "    \n",
    "    model = TFDistilBertForSequenceClassification.from_pretrained(\n",
    "        'distilbert-base-uncased',\n",
    "        num_labels=1,\n",
    "        dropout=0.5\n",
    "    )\n",
    "\n",
    "    num_train_steps = (train_data_size // batch_size) * epochs\n",
    "    num_warmup_steps = int(0.1 * num_train_steps)\n",
    "\n",
    "    optimizer, _ = create_optimizer(\n",
    "        init_lr=learning_rate,\n",
    "        num_train_steps=num_train_steps,\n",
    "        num_warmup_steps=num_warmup_steps,\n",
    "        weight_decay_rate=weight_decay_rate\n",
    "    )\n",
    "\n",
    "    loss = tf.keras.losses.BinaryCrossentropy(from_logits=True)\n",
    "    metrics=[\n",
    "            tf.keras.metrics.BinaryAccuracy(name='accuracy'),\n",
    "            tf.keras.metrics.AUC(name='auc')\n",
    "        ]\n",
    "\n",
    "    model.compile(loss=loss, optimizer=optimizer, metrics=[metrics])\n",
    "\n",
    "    return model"
   ]
  },
  {
   "cell_type": "code",
   "execution_count": 76,
   "id": "0268a162-a15a-4faf-be9e-efcddab3fff8",
   "metadata": {},
   "outputs": [],
   "source": [
    "def evaluate_model_BERT(model, train_dataset, test_dataset):\n",
    "    # Évaluer le modèle sur les données d'entraînement\n",
    "    train_loss, train_accuracy, train_AUC = model.evaluate(train_dataset,\n",
    "                                                           verbose=0)\n",
    "\n",
    "    # Évaluer le modèle sur les données de test\n",
    "    start_pred_time = time.time()\n",
    "    test_loss, test_accuracy, test_AUC = model.evaluate(test_dataset,\n",
    "                                                        verbose=0)\n",
    "    test_pred_time = time.time() - start_pred_time\n",
    "    \n",
    "    print(f'Train Accuracy: {train_accuracy:.3f}')\n",
    "    print(f'Train AUC: {train_AUC:.3f}')\n",
    "    print(f'Test Accuracy: {test_accuracy:.3f}')\n",
    "    print(f'Test AUC: {test_AUC:.3f}')\n",
    "\n",
    "    return train_accuracy, train_AUC, test_accuracy, test_AUC, test_pred_time"
   ]
  },
  {
   "cell_type": "code",
   "execution_count": 77,
   "id": "4232fbf8-9ed3-4ece-9a79-0ef25d340d7b",
   "metadata": {},
   "outputs": [],
   "source": [
    "max_len = 128\n",
    "batch_size = 32\n",
    "learning_rate = 2e-5\n",
    "weight_decay_rate = 0.01\n",
    "epochs = 6"
   ]
  },
  {
   "cell_type": "code",
   "execution_count": 78,
   "id": "aa6cc1e4-6ca5-4df1-abe5-57bc31af802e",
   "metadata": {},
   "outputs": [],
   "source": [
    "# train_dataset, val_dataset, test_dataset, tokenizer, train_data_size = prepare_BERT_datasets(\n",
    "#     texts=tweets_sample['text'].values,\n",
    "#     labels=tweets_sample['target'].values,\n",
    "#     max_len=max_len,\n",
    "#     batch_size=batch_size\n",
    "# )"
   ]
  },
  {
   "cell_type": "code",
   "execution_count": 79,
   "id": "79e2ab91-7490-472e-b203-e5be6d956e21",
   "metadata": {},
   "outputs": [],
   "source": [
    "train_dataset, val_dataset, test_dataset, tokenizer, train_data_size = prepare_BERT_datasets(\n",
    "    X_train, X_test, y_train, y_test, max_len=128, batch_size=32, val_split=0.2\n",
    ")"
   ]
  },
  {
   "cell_type": "code",
   "execution_count": 80,
   "id": "d529b75c-3510-49d9-a8d8-677427a1ac05",
   "metadata": {},
   "outputs": [
    {
     "name": "stderr",
     "output_type": "stream",
     "text": [
      "Some weights of the PyTorch model were not used when initializing the TF 2.0 model TFDistilBertForSequenceClassification: ['vocab_layer_norm.weight', 'vocab_transform.weight', 'vocab_layer_norm.bias', 'vocab_projector.bias', 'vocab_transform.bias']\n",
      "- This IS expected if you are initializing TFDistilBertForSequenceClassification from a PyTorch model trained on another task or with another architecture (e.g. initializing a TFBertForSequenceClassification model from a BertForPreTraining model).\n",
      "- This IS NOT expected if you are initializing TFDistilBertForSequenceClassification from a PyTorch model that you expect to be exactly identical (e.g. initializing a TFBertForSequenceClassification model from a BertForSequenceClassification model).\n",
      "Some weights or buffers of the TF 2.0 model TFDistilBertForSequenceClassification were not initialized from the PyTorch model and are newly initialized: ['pre_classifier.weight', 'pre_classifier.bias', 'classifier.weight', 'classifier.bias']\n",
      "You should probably TRAIN this model on a down-stream task to be able to use it for predictions and inference.\n"
     ]
    },
    {
     "name": "stdout",
     "output_type": "stream",
     "text": [
      "Model: \"tf_distil_bert_for_sequence_classification\"\n",
      "_________________________________________________________________\n",
      " Layer (type)                Output Shape              Param #   \n",
      "=================================================================\n",
      " distilbert (TFDistilBertMa  multiple                  66362880  \n",
      " inLayer)                                                        \n",
      "                                                                 \n",
      " pre_classifier (Dense)      multiple                  590592    \n",
      "                                                                 \n",
      " classifier (Dense)          multiple                  769       \n",
      "                                                                 \n",
      " dropout_19 (Dropout)        multiple                  0 (unused)\n",
      "                                                                 \n",
      "=================================================================\n",
      "Total params: 66954241 (255.41 MB)\n",
      "Trainable params: 66954241 (255.41 MB)\n",
      "Non-trainable params: 0 (0.00 Byte)\n",
      "_________________________________________________________________\n"
     ]
    }
   ],
   "source": [
    "model_BERT = build_BERT_model(learning_rate, weight_decay_rate, train_data_size,\n",
    "                             epochs)\n",
    "model_BERT.summary()"
   ]
  },
  {
   "cell_type": "code",
   "execution_count": 81,
   "id": "c1e7f952-ee36-4eda-b3ef-01ce07ce46c3",
   "metadata": {},
   "outputs": [],
   "source": [
    "callbacks_BERT = create_callbacks(model_name=\"model_BERT\",\n",
    "                                        patience=3)"
   ]
  },
  {
   "cell_type": "code",
   "execution_count": 82,
   "id": "a765857b-f9bc-46f5-b5b2-34955fb508fb",
   "metadata": {},
   "outputs": [
    {
     "name": "stdout",
     "output_type": "stream",
     "text": [
      "Epoch 1/6\n",
      " 33/320 [==>...........................] - ETA: 21:09 - loss: 0.6924 - accuracy: 0.5123 - auc: 0.5164"
     ]
    },
    {
     "ename": "KeyboardInterrupt",
     "evalue": "",
     "output_type": "error",
     "traceback": [
      "\u001b[31m---------------------------------------------------------------------------\u001b[39m",
      "\u001b[31mKeyboardInterrupt\u001b[39m                         Traceback (most recent call last)",
      "\u001b[36mCell\u001b[39m\u001b[36m \u001b[39m\u001b[32mIn[82]\u001b[39m\u001b[32m, line 3\u001b[39m\n\u001b[32m      1\u001b[39m \u001b[38;5;66;03m# Entrainement\u001b[39;00m\n\u001b[32m      2\u001b[39m start_fit_time = time.time() \n\u001b[32m----> \u001b[39m\u001b[32m3\u001b[39m history_BERT = \u001b[43mmodel_BERT\u001b[49m\u001b[43m.\u001b[49m\u001b[43mfit\u001b[49m\u001b[43m(\u001b[49m\n\u001b[32m      4\u001b[39m \u001b[43m    \u001b[49m\u001b[43mtrain_dataset\u001b[49m\u001b[43m,\u001b[49m\n\u001b[32m      5\u001b[39m \u001b[43m    \u001b[49m\u001b[43mvalidation_data\u001b[49m\u001b[43m=\u001b[49m\u001b[43mval_dataset\u001b[49m\u001b[43m,\u001b[49m\n\u001b[32m      6\u001b[39m \u001b[43m    \u001b[49m\u001b[43mepochs\u001b[49m\u001b[43m=\u001b[49m\u001b[43mepochs\u001b[49m\u001b[43m,\u001b[49m\n\u001b[32m      7\u001b[39m \u001b[43m    \u001b[49m\u001b[43mcallbacks\u001b[49m\u001b[43m=\u001b[49m\u001b[43mcallbacks_BERT\u001b[49m\u001b[43m,\u001b[49m\n\u001b[32m      8\u001b[39m \u001b[43m    \u001b[49m\u001b[43mverbose\u001b[49m\u001b[43m=\u001b[49m\u001b[32;43m1\u001b[39;49m\n\u001b[32m      9\u001b[39m \u001b[43m)\u001b[49m\n\u001b[32m     10\u001b[39m fit_time = time.time() - start_fit_time\n",
      "\u001b[36mFile \u001b[39m\u001b[32m~\\Desktop\\OpenClassrooms\\Projets\\Projet7\\env\\Lib\\site-packages\\transformers\\modeling_tf_utils.py:1229\u001b[39m, in \u001b[36mTFPreTrainedModel.fit\u001b[39m\u001b[34m(self, *args, **kwargs)\u001b[39m\n\u001b[32m   1226\u001b[39m \u001b[38;5;129m@functools\u001b[39m.wraps(keras.Model.fit)\n\u001b[32m   1227\u001b[39m \u001b[38;5;28;01mdef\u001b[39;00m\u001b[38;5;250m \u001b[39m\u001b[34mfit\u001b[39m(\u001b[38;5;28mself\u001b[39m, *args, **kwargs):\n\u001b[32m   1228\u001b[39m     args, kwargs = convert_batch_encoding(*args, **kwargs)\n\u001b[32m-> \u001b[39m\u001b[32m1229\u001b[39m     \u001b[38;5;28;01mreturn\u001b[39;00m \u001b[38;5;28;43msuper\u001b[39;49m\u001b[43m(\u001b[49m\u001b[43m)\u001b[49m\u001b[43m.\u001b[49m\u001b[43mfit\u001b[49m\u001b[43m(\u001b[49m\u001b[43m*\u001b[49m\u001b[43margs\u001b[49m\u001b[43m,\u001b[49m\u001b[43m \u001b[49m\u001b[43m*\u001b[49m\u001b[43m*\u001b[49m\u001b[43mkwargs\u001b[49m\u001b[43m)\u001b[49m\n",
      "\u001b[36mFile \u001b[39m\u001b[32m~\\Desktop\\OpenClassrooms\\Projets\\Projet7\\env\\Lib\\site-packages\\keras\\src\\utils\\traceback_utils.py:65\u001b[39m, in \u001b[36mfilter_traceback.<locals>.error_handler\u001b[39m\u001b[34m(*args, **kwargs)\u001b[39m\n\u001b[32m     63\u001b[39m filtered_tb = \u001b[38;5;28;01mNone\u001b[39;00m\n\u001b[32m     64\u001b[39m \u001b[38;5;28;01mtry\u001b[39;00m:\n\u001b[32m---> \u001b[39m\u001b[32m65\u001b[39m     \u001b[38;5;28;01mreturn\u001b[39;00m \u001b[43mfn\u001b[49m\u001b[43m(\u001b[49m\u001b[43m*\u001b[49m\u001b[43margs\u001b[49m\u001b[43m,\u001b[49m\u001b[43m \u001b[49m\u001b[43m*\u001b[49m\u001b[43m*\u001b[49m\u001b[43mkwargs\u001b[49m\u001b[43m)\u001b[49m\n\u001b[32m     66\u001b[39m \u001b[38;5;28;01mexcept\u001b[39;00m \u001b[38;5;167;01mException\u001b[39;00m \u001b[38;5;28;01mas\u001b[39;00m e:\n\u001b[32m     67\u001b[39m     filtered_tb = _process_traceback_frames(e.__traceback__)\n",
      "\u001b[36mFile \u001b[39m\u001b[32m~\\Desktop\\OpenClassrooms\\Projets\\Projet7\\env\\Lib\\site-packages\\keras\\src\\engine\\training.py:1807\u001b[39m, in \u001b[36mModel.fit\u001b[39m\u001b[34m(self, x, y, batch_size, epochs, verbose, callbacks, validation_split, validation_data, shuffle, class_weight, sample_weight, initial_epoch, steps_per_epoch, validation_steps, validation_batch_size, validation_freq, max_queue_size, workers, use_multiprocessing)\u001b[39m\n\u001b[32m   1799\u001b[39m \u001b[38;5;28;01mwith\u001b[39;00m tf.profiler.experimental.Trace(\n\u001b[32m   1800\u001b[39m     \u001b[33m\"\u001b[39m\u001b[33mtrain\u001b[39m\u001b[33m\"\u001b[39m,\n\u001b[32m   1801\u001b[39m     epoch_num=epoch,\n\u001b[32m   (...)\u001b[39m\u001b[32m   1804\u001b[39m     _r=\u001b[32m1\u001b[39m,\n\u001b[32m   1805\u001b[39m ):\n\u001b[32m   1806\u001b[39m     callbacks.on_train_batch_begin(step)\n\u001b[32m-> \u001b[39m\u001b[32m1807\u001b[39m     tmp_logs = \u001b[38;5;28;43mself\u001b[39;49m\u001b[43m.\u001b[49m\u001b[43mtrain_function\u001b[49m\u001b[43m(\u001b[49m\u001b[43miterator\u001b[49m\u001b[43m)\u001b[49m\n\u001b[32m   1808\u001b[39m     \u001b[38;5;28;01mif\u001b[39;00m data_handler.should_sync:\n\u001b[32m   1809\u001b[39m         context.async_wait()\n",
      "\u001b[36mFile \u001b[39m\u001b[32m~\\Desktop\\OpenClassrooms\\Projets\\Projet7\\env\\Lib\\site-packages\\tensorflow\\python\\util\\traceback_utils.py:150\u001b[39m, in \u001b[36mfilter_traceback.<locals>.error_handler\u001b[39m\u001b[34m(*args, **kwargs)\u001b[39m\n\u001b[32m    148\u001b[39m filtered_tb = \u001b[38;5;28;01mNone\u001b[39;00m\n\u001b[32m    149\u001b[39m \u001b[38;5;28;01mtry\u001b[39;00m:\n\u001b[32m--> \u001b[39m\u001b[32m150\u001b[39m   \u001b[38;5;28;01mreturn\u001b[39;00m \u001b[43mfn\u001b[49m\u001b[43m(\u001b[49m\u001b[43m*\u001b[49m\u001b[43margs\u001b[49m\u001b[43m,\u001b[49m\u001b[43m \u001b[49m\u001b[43m*\u001b[49m\u001b[43m*\u001b[49m\u001b[43mkwargs\u001b[49m\u001b[43m)\u001b[49m\n\u001b[32m    151\u001b[39m \u001b[38;5;28;01mexcept\u001b[39;00m \u001b[38;5;167;01mException\u001b[39;00m \u001b[38;5;28;01mas\u001b[39;00m e:\n\u001b[32m    152\u001b[39m   filtered_tb = _process_traceback_frames(e.__traceback__)\n",
      "\u001b[36mFile \u001b[39m\u001b[32m~\\Desktop\\OpenClassrooms\\Projets\\Projet7\\env\\Lib\\site-packages\\tensorflow\\python\\eager\\polymorphic_function\\polymorphic_function.py:832\u001b[39m, in \u001b[36mFunction.__call__\u001b[39m\u001b[34m(self, *args, **kwds)\u001b[39m\n\u001b[32m    829\u001b[39m compiler = \u001b[33m\"\u001b[39m\u001b[33mxla\u001b[39m\u001b[33m\"\u001b[39m \u001b[38;5;28;01mif\u001b[39;00m \u001b[38;5;28mself\u001b[39m._jit_compile \u001b[38;5;28;01melse\u001b[39;00m \u001b[33m\"\u001b[39m\u001b[33mnonXla\u001b[39m\u001b[33m\"\u001b[39m\n\u001b[32m    831\u001b[39m \u001b[38;5;28;01mwith\u001b[39;00m OptionalXlaContext(\u001b[38;5;28mself\u001b[39m._jit_compile):\n\u001b[32m--> \u001b[39m\u001b[32m832\u001b[39m   result = \u001b[38;5;28;43mself\u001b[39;49m\u001b[43m.\u001b[49m\u001b[43m_call\u001b[49m\u001b[43m(\u001b[49m\u001b[43m*\u001b[49m\u001b[43margs\u001b[49m\u001b[43m,\u001b[49m\u001b[43m \u001b[49m\u001b[43m*\u001b[49m\u001b[43m*\u001b[49m\u001b[43mkwds\u001b[49m\u001b[43m)\u001b[49m\n\u001b[32m    834\u001b[39m new_tracing_count = \u001b[38;5;28mself\u001b[39m.experimental_get_tracing_count()\n\u001b[32m    835\u001b[39m without_tracing = (tracing_count == new_tracing_count)\n",
      "\u001b[36mFile \u001b[39m\u001b[32m~\\Desktop\\OpenClassrooms\\Projets\\Projet7\\env\\Lib\\site-packages\\tensorflow\\python\\eager\\polymorphic_function\\polymorphic_function.py:868\u001b[39m, in \u001b[36mFunction._call\u001b[39m\u001b[34m(self, *args, **kwds)\u001b[39m\n\u001b[32m    865\u001b[39m   \u001b[38;5;28mself\u001b[39m._lock.release()\n\u001b[32m    866\u001b[39m   \u001b[38;5;66;03m# In this case we have created variables on the first call, so we run the\u001b[39;00m\n\u001b[32m    867\u001b[39m   \u001b[38;5;66;03m# defunned version which is guaranteed to never create variables.\u001b[39;00m\n\u001b[32m--> \u001b[39m\u001b[32m868\u001b[39m   \u001b[38;5;28;01mreturn\u001b[39;00m \u001b[43mtracing_compilation\u001b[49m\u001b[43m.\u001b[49m\u001b[43mcall_function\u001b[49m\u001b[43m(\u001b[49m\n\u001b[32m    869\u001b[39m \u001b[43m      \u001b[49m\u001b[43margs\u001b[49m\u001b[43m,\u001b[49m\u001b[43m \u001b[49m\u001b[43mkwds\u001b[49m\u001b[43m,\u001b[49m\u001b[43m \u001b[49m\u001b[38;5;28;43mself\u001b[39;49m\u001b[43m.\u001b[49m\u001b[43m_no_variable_creation_config\u001b[49m\n\u001b[32m    870\u001b[39m \u001b[43m  \u001b[49m\u001b[43m)\u001b[49m\n\u001b[32m    871\u001b[39m \u001b[38;5;28;01melif\u001b[39;00m \u001b[38;5;28mself\u001b[39m._variable_creation_config \u001b[38;5;129;01mis\u001b[39;00m \u001b[38;5;129;01mnot\u001b[39;00m \u001b[38;5;28;01mNone\u001b[39;00m:\n\u001b[32m    872\u001b[39m   \u001b[38;5;66;03m# Release the lock early so that multiple threads can perform the call\u001b[39;00m\n\u001b[32m    873\u001b[39m   \u001b[38;5;66;03m# in parallel.\u001b[39;00m\n\u001b[32m    874\u001b[39m   \u001b[38;5;28mself\u001b[39m._lock.release()\n",
      "\u001b[36mFile \u001b[39m\u001b[32m~\\Desktop\\OpenClassrooms\\Projets\\Projet7\\env\\Lib\\site-packages\\tensorflow\\python\\eager\\polymorphic_function\\tracing_compilation.py:139\u001b[39m, in \u001b[36mcall_function\u001b[39m\u001b[34m(args, kwargs, tracing_options)\u001b[39m\n\u001b[32m    137\u001b[39m bound_args = function.function_type.bind(*args, **kwargs)\n\u001b[32m    138\u001b[39m flat_inputs = function.function_type.unpack_inputs(bound_args)\n\u001b[32m--> \u001b[39m\u001b[32m139\u001b[39m \u001b[38;5;28;01mreturn\u001b[39;00m \u001b[43mfunction\u001b[49m\u001b[43m.\u001b[49m\u001b[43m_call_flat\u001b[49m\u001b[43m(\u001b[49m\u001b[43m  \u001b[49m\u001b[38;5;66;43;03m# pylint: disable=protected-access\u001b[39;49;00m\n\u001b[32m    140\u001b[39m \u001b[43m    \u001b[49m\u001b[43mflat_inputs\u001b[49m\u001b[43m,\u001b[49m\u001b[43m \u001b[49m\u001b[43mcaptured_inputs\u001b[49m\u001b[43m=\u001b[49m\u001b[43mfunction\u001b[49m\u001b[43m.\u001b[49m\u001b[43mcaptured_inputs\u001b[49m\n\u001b[32m    141\u001b[39m \u001b[43m\u001b[49m\u001b[43m)\u001b[49m\n",
      "\u001b[36mFile \u001b[39m\u001b[32m~\\Desktop\\OpenClassrooms\\Projets\\Projet7\\env\\Lib\\site-packages\\tensorflow\\python\\eager\\polymorphic_function\\concrete_function.py:1323\u001b[39m, in \u001b[36mConcreteFunction._call_flat\u001b[39m\u001b[34m(self, tensor_inputs, captured_inputs)\u001b[39m\n\u001b[32m   1319\u001b[39m possible_gradient_type = gradients_util.PossibleTapeGradientTypes(args)\n\u001b[32m   1320\u001b[39m \u001b[38;5;28;01mif\u001b[39;00m (possible_gradient_type == gradients_util.POSSIBLE_GRADIENT_TYPES_NONE\n\u001b[32m   1321\u001b[39m     \u001b[38;5;129;01mand\u001b[39;00m executing_eagerly):\n\u001b[32m   1322\u001b[39m   \u001b[38;5;66;03m# No tape is watching; skip to running the function.\u001b[39;00m\n\u001b[32m-> \u001b[39m\u001b[32m1323\u001b[39m   \u001b[38;5;28;01mreturn\u001b[39;00m \u001b[38;5;28;43mself\u001b[39;49m\u001b[43m.\u001b[49m\u001b[43m_inference_function\u001b[49m\u001b[43m.\u001b[49m\u001b[43mcall_preflattened\u001b[49m\u001b[43m(\u001b[49m\u001b[43margs\u001b[49m\u001b[43m)\u001b[49m\n\u001b[32m   1324\u001b[39m forward_backward = \u001b[38;5;28mself\u001b[39m._select_forward_and_backward_functions(\n\u001b[32m   1325\u001b[39m     args,\n\u001b[32m   1326\u001b[39m     possible_gradient_type,\n\u001b[32m   1327\u001b[39m     executing_eagerly)\n\u001b[32m   1328\u001b[39m forward_function, args_with_tangents = forward_backward.forward()\n",
      "\u001b[36mFile \u001b[39m\u001b[32m~\\Desktop\\OpenClassrooms\\Projets\\Projet7\\env\\Lib\\site-packages\\tensorflow\\python\\eager\\polymorphic_function\\atomic_function.py:216\u001b[39m, in \u001b[36mAtomicFunction.call_preflattened\u001b[39m\u001b[34m(self, args)\u001b[39m\n\u001b[32m    214\u001b[39m \u001b[38;5;28;01mdef\u001b[39;00m\u001b[38;5;250m \u001b[39m\u001b[34mcall_preflattened\u001b[39m(\u001b[38;5;28mself\u001b[39m, args: Sequence[core.Tensor]) -> Any:\n\u001b[32m    215\u001b[39m \u001b[38;5;250m  \u001b[39m\u001b[33;03m\"\"\"Calls with flattened tensor inputs and returns the structured output.\"\"\"\u001b[39;00m\n\u001b[32m--> \u001b[39m\u001b[32m216\u001b[39m   flat_outputs = \u001b[38;5;28;43mself\u001b[39;49m\u001b[43m.\u001b[49m\u001b[43mcall_flat\u001b[49m\u001b[43m(\u001b[49m\u001b[43m*\u001b[49m\u001b[43margs\u001b[49m\u001b[43m)\u001b[49m\n\u001b[32m    217\u001b[39m   \u001b[38;5;28;01mreturn\u001b[39;00m \u001b[38;5;28mself\u001b[39m.function_type.pack_output(flat_outputs)\n",
      "\u001b[36mFile \u001b[39m\u001b[32m~\\Desktop\\OpenClassrooms\\Projets\\Projet7\\env\\Lib\\site-packages\\tensorflow\\python\\eager\\polymorphic_function\\atomic_function.py:251\u001b[39m, in \u001b[36mAtomicFunction.call_flat\u001b[39m\u001b[34m(self, *args)\u001b[39m\n\u001b[32m    249\u001b[39m \u001b[38;5;28;01mwith\u001b[39;00m record.stop_recording():\n\u001b[32m    250\u001b[39m   \u001b[38;5;28;01mif\u001b[39;00m \u001b[38;5;28mself\u001b[39m._bound_context.executing_eagerly():\n\u001b[32m--> \u001b[39m\u001b[32m251\u001b[39m     outputs = \u001b[38;5;28;43mself\u001b[39;49m\u001b[43m.\u001b[49m\u001b[43m_bound_context\u001b[49m\u001b[43m.\u001b[49m\u001b[43mcall_function\u001b[49m\u001b[43m(\u001b[49m\n\u001b[32m    252\u001b[39m \u001b[43m        \u001b[49m\u001b[38;5;28;43mself\u001b[39;49m\u001b[43m.\u001b[49m\u001b[43mname\u001b[49m\u001b[43m,\u001b[49m\n\u001b[32m    253\u001b[39m \u001b[43m        \u001b[49m\u001b[38;5;28;43mlist\u001b[39;49m\u001b[43m(\u001b[49m\u001b[43margs\u001b[49m\u001b[43m)\u001b[49m\u001b[43m,\u001b[49m\n\u001b[32m    254\u001b[39m \u001b[43m        \u001b[49m\u001b[38;5;28;43mlen\u001b[39;49m\u001b[43m(\u001b[49m\u001b[38;5;28;43mself\u001b[39;49m\u001b[43m.\u001b[49m\u001b[43mfunction_type\u001b[49m\u001b[43m.\u001b[49m\u001b[43mflat_outputs\u001b[49m\u001b[43m)\u001b[49m\u001b[43m,\u001b[49m\n\u001b[32m    255\u001b[39m \u001b[43m    \u001b[49m\u001b[43m)\u001b[49m\n\u001b[32m    256\u001b[39m   \u001b[38;5;28;01melse\u001b[39;00m:\n\u001b[32m    257\u001b[39m     outputs = make_call_op_in_graph(\n\u001b[32m    258\u001b[39m         \u001b[38;5;28mself\u001b[39m,\n\u001b[32m    259\u001b[39m         \u001b[38;5;28mlist\u001b[39m(args),\n\u001b[32m    260\u001b[39m         \u001b[38;5;28mself\u001b[39m._bound_context.function_call_options.as_attrs(),\n\u001b[32m    261\u001b[39m     )\n",
      "\u001b[36mFile \u001b[39m\u001b[32m~\\Desktop\\OpenClassrooms\\Projets\\Projet7\\env\\Lib\\site-packages\\tensorflow\\python\\eager\\context.py:1486\u001b[39m, in \u001b[36mContext.call_function\u001b[39m\u001b[34m(self, name, tensor_inputs, num_outputs)\u001b[39m\n\u001b[32m   1484\u001b[39m cancellation_context = cancellation.context()\n\u001b[32m   1485\u001b[39m \u001b[38;5;28;01mif\u001b[39;00m cancellation_context \u001b[38;5;129;01mis\u001b[39;00m \u001b[38;5;28;01mNone\u001b[39;00m:\n\u001b[32m-> \u001b[39m\u001b[32m1486\u001b[39m   outputs = \u001b[43mexecute\u001b[49m\u001b[43m.\u001b[49m\u001b[43mexecute\u001b[49m\u001b[43m(\u001b[49m\n\u001b[32m   1487\u001b[39m \u001b[43m      \u001b[49m\u001b[43mname\u001b[49m\u001b[43m.\u001b[49m\u001b[43mdecode\u001b[49m\u001b[43m(\u001b[49m\u001b[33;43m\"\u001b[39;49m\u001b[33;43mutf-8\u001b[39;49m\u001b[33;43m\"\u001b[39;49m\u001b[43m)\u001b[49m\u001b[43m,\u001b[49m\n\u001b[32m   1488\u001b[39m \u001b[43m      \u001b[49m\u001b[43mnum_outputs\u001b[49m\u001b[43m=\u001b[49m\u001b[43mnum_outputs\u001b[49m\u001b[43m,\u001b[49m\n\u001b[32m   1489\u001b[39m \u001b[43m      \u001b[49m\u001b[43minputs\u001b[49m\u001b[43m=\u001b[49m\u001b[43mtensor_inputs\u001b[49m\u001b[43m,\u001b[49m\n\u001b[32m   1490\u001b[39m \u001b[43m      \u001b[49m\u001b[43mattrs\u001b[49m\u001b[43m=\u001b[49m\u001b[43mattrs\u001b[49m\u001b[43m,\u001b[49m\n\u001b[32m   1491\u001b[39m \u001b[43m      \u001b[49m\u001b[43mctx\u001b[49m\u001b[43m=\u001b[49m\u001b[38;5;28;43mself\u001b[39;49m\u001b[43m,\u001b[49m\n\u001b[32m   1492\u001b[39m \u001b[43m  \u001b[49m\u001b[43m)\u001b[49m\n\u001b[32m   1493\u001b[39m \u001b[38;5;28;01melse\u001b[39;00m:\n\u001b[32m   1494\u001b[39m   outputs = execute.execute_with_cancellation(\n\u001b[32m   1495\u001b[39m       name.decode(\u001b[33m\"\u001b[39m\u001b[33mutf-8\u001b[39m\u001b[33m\"\u001b[39m),\n\u001b[32m   1496\u001b[39m       num_outputs=num_outputs,\n\u001b[32m   (...)\u001b[39m\u001b[32m   1500\u001b[39m       cancellation_manager=cancellation_context,\n\u001b[32m   1501\u001b[39m   )\n",
      "\u001b[36mFile \u001b[39m\u001b[32m~\\Desktop\\OpenClassrooms\\Projets\\Projet7\\env\\Lib\\site-packages\\tensorflow\\python\\eager\\execute.py:53\u001b[39m, in \u001b[36mquick_execute\u001b[39m\u001b[34m(op_name, num_outputs, inputs, attrs, ctx, name)\u001b[39m\n\u001b[32m     51\u001b[39m \u001b[38;5;28;01mtry\u001b[39;00m:\n\u001b[32m     52\u001b[39m   ctx.ensure_initialized()\n\u001b[32m---> \u001b[39m\u001b[32m53\u001b[39m   tensors = \u001b[43mpywrap_tfe\u001b[49m\u001b[43m.\u001b[49m\u001b[43mTFE_Py_Execute\u001b[49m\u001b[43m(\u001b[49m\u001b[43mctx\u001b[49m\u001b[43m.\u001b[49m\u001b[43m_handle\u001b[49m\u001b[43m,\u001b[49m\u001b[43m \u001b[49m\u001b[43mdevice_name\u001b[49m\u001b[43m,\u001b[49m\u001b[43m \u001b[49m\u001b[43mop_name\u001b[49m\u001b[43m,\u001b[49m\n\u001b[32m     54\u001b[39m \u001b[43m                                      \u001b[49m\u001b[43minputs\u001b[49m\u001b[43m,\u001b[49m\u001b[43m \u001b[49m\u001b[43mattrs\u001b[49m\u001b[43m,\u001b[49m\u001b[43m \u001b[49m\u001b[43mnum_outputs\u001b[49m\u001b[43m)\u001b[49m\n\u001b[32m     55\u001b[39m \u001b[38;5;28;01mexcept\u001b[39;00m core._NotOkStatusException \u001b[38;5;28;01mas\u001b[39;00m e:\n\u001b[32m     56\u001b[39m   \u001b[38;5;28;01mif\u001b[39;00m name \u001b[38;5;129;01mis\u001b[39;00m \u001b[38;5;129;01mnot\u001b[39;00m \u001b[38;5;28;01mNone\u001b[39;00m:\n",
      "\u001b[31mKeyboardInterrupt\u001b[39m: "
     ]
    }
   ],
   "source": [
    "# Entrainement\n",
    "start_fit_time = time.time() \n",
    "history_BERT = model_BERT.fit(\n",
    "    train_dataset,\n",
    "    validation_data=val_dataset,\n",
    "    epochs=epochs,\n",
    "    callbacks=callbacks_BERT,\n",
    "    verbose=1\n",
    ")\n",
    "fit_time = time.time() - start_fit_time"
   ]
  },
  {
   "cell_type": "code",
   "execution_count": 100,
   "id": "a8418b4a-9a80-4745-b528-1b4b1537cb24",
   "metadata": {},
   "outputs": [
    {
     "data": {
      "image/png": "[encoded data removed]",
      "text/plain": [
       "<Figure size 1500x500 with 3 Axes>"
      ]
     },
     "metadata": {},
     "output_type": "display_data"
    }
   ],
   "source": [
    "# Afficher evolution de l'accuracy et de la loss au cours des époques\n",
    "show_history(history_BERT)\n",
    "plot_history(history_BERT)\n",
    "plt.savefig('conv_history_BERT.png')\n",
    "plt.close()"
   ]
  },
  {
   "cell_type": "code",
   "execution_count": 101,
   "id": "38283ffb-080b-4b1e-bdb8-7422cfa494f8",
   "metadata": {},
   "outputs": [
    {
     "name": "stdout",
     "output_type": "stream",
     "text": [
      "Train Accuracy: 0.811\n",
      "Train AUC: 0.846\n",
      "Test Accuracy: 0.782\n",
      "Test AUC: 0.817\n"
     ]
    }
   ],
   "source": [
    "train_accu, train_AUC, test_accu, test_AUC, test_pred_time = evaluate_model_BERT(\n",
    "    model_BERT,\n",
    "    train_dataset,\n",
    "    test_dataset\n",
    ")"
   ]
  },
  {
   "cell_type": "code",
   "execution_count": 102,
   "id": "b9c31691-691e-4efa-be73-25f32a6cd12f",
   "metadata": {},
   "outputs": [
    {
     "ename": "ValueError",
     "evalue": "Found input variables with inconsistent numbers of samples: [9600, 1]",
     "output_type": "error",
     "traceback": [
      "\u001b[31m---------------------------------------------------------------------------\u001b[39m",
      "\u001b[31mValueError\u001b[39m                                Traceback (most recent call last)",
      "\u001b[36mCell\u001b[39m\u001b[36m \u001b[39m\u001b[32mIn[102]\u001b[39m\u001b[32m, line 14\u001b[39m\n\u001b[32m      8\u001b[39m times = {\n\u001b[32m      9\u001b[39m     \u001b[33m'\u001b[39m\u001b[33mfit_time\u001b[39m\u001b[33m'\u001b[39m: fit_time, \n\u001b[32m     10\u001b[39m     \u001b[33m'\u001b[39m\u001b[33mtest_predict_time\u001b[39m\u001b[33m'\u001b[39m: test_pred_time\n\u001b[32m     11\u001b[39m }\n\u001b[32m     13\u001b[39m y_proba_test = model_BERT.predict(test_dataset, batch_size=\u001b[32m32\u001b[39m, verbose=\u001b[32m0\u001b[39m)\n\u001b[32m---> \u001b[39m\u001b[32m14\u001b[39m fpr, tpr, _ = \u001b[43mroc_curve\u001b[49m\u001b[43m(\u001b[49m\u001b[43my_test\u001b[49m\u001b[43m,\u001b[49m\u001b[43m \u001b[49m\u001b[43my_proba_test\u001b[49m\u001b[43m)\u001b[49m\n\u001b[32m     15\u001b[39m sns.set()\n\u001b[32m     16\u001b[39m plt.figure()\n",
      "\u001b[36mFile \u001b[39m\u001b[32m~\\Desktop\\OpenClassrooms\\Projets\\Projet7\\env\\Lib\\site-packages\\sklearn\\utils\\_param_validation.py:216\u001b[39m, in \u001b[36mvalidate_params.<locals>.decorator.<locals>.wrapper\u001b[39m\u001b[34m(*args, **kwargs)\u001b[39m\n\u001b[32m    210\u001b[39m \u001b[38;5;28;01mtry\u001b[39;00m:\n\u001b[32m    211\u001b[39m     \u001b[38;5;28;01mwith\u001b[39;00m config_context(\n\u001b[32m    212\u001b[39m         skip_parameter_validation=(\n\u001b[32m    213\u001b[39m             prefer_skip_nested_validation \u001b[38;5;129;01mor\u001b[39;00m global_skip_validation\n\u001b[32m    214\u001b[39m         )\n\u001b[32m    215\u001b[39m     ):\n\u001b[32m--> \u001b[39m\u001b[32m216\u001b[39m         \u001b[38;5;28;01mreturn\u001b[39;00m \u001b[43mfunc\u001b[49m\u001b[43m(\u001b[49m\u001b[43m*\u001b[49m\u001b[43margs\u001b[49m\u001b[43m,\u001b[49m\u001b[43m \u001b[49m\u001b[43m*\u001b[49m\u001b[43m*\u001b[49m\u001b[43mkwargs\u001b[49m\u001b[43m)\u001b[49m\n\u001b[32m    217\u001b[39m \u001b[38;5;28;01mexcept\u001b[39;00m InvalidParameterError \u001b[38;5;28;01mas\u001b[39;00m e:\n\u001b[32m    218\u001b[39m     \u001b[38;5;66;03m# When the function is just a wrapper around an estimator, we allow\u001b[39;00m\n\u001b[32m    219\u001b[39m     \u001b[38;5;66;03m# the function to delegate validation to the estimator, but we replace\u001b[39;00m\n\u001b[32m    220\u001b[39m     \u001b[38;5;66;03m# the name of the estimator by the name of the function in the error\u001b[39;00m\n\u001b[32m    221\u001b[39m     \u001b[38;5;66;03m# message to avoid confusion.\u001b[39;00m\n\u001b[32m    222\u001b[39m     msg = re.sub(\n\u001b[32m    223\u001b[39m         \u001b[33mr\u001b[39m\u001b[33m\"\u001b[39m\u001b[33mparameter of \u001b[39m\u001b[33m\\\u001b[39m\u001b[33mw+ must be\u001b[39m\u001b[33m\"\u001b[39m,\n\u001b[32m    224\u001b[39m         \u001b[33mf\u001b[39m\u001b[33m\"\u001b[39m\u001b[33mparameter of \u001b[39m\u001b[38;5;132;01m{\u001b[39;00mfunc.\u001b[34m__qualname__\u001b[39m\u001b[38;5;132;01m}\u001b[39;00m\u001b[33m must be\u001b[39m\u001b[33m\"\u001b[39m,\n\u001b[32m    225\u001b[39m         \u001b[38;5;28mstr\u001b[39m(e),\n\u001b[32m    226\u001b[39m     )\n",
      "\u001b[36mFile \u001b[39m\u001b[32m~\\Desktop\\OpenClassrooms\\Projets\\Projet7\\env\\Lib\\site-packages\\sklearn\\metrics\\_ranking.py:1150\u001b[39m, in \u001b[36mroc_curve\u001b[39m\u001b[34m(y_true, y_score, pos_label, sample_weight, drop_intermediate)\u001b[39m\n\u001b[32m   1046\u001b[39m \u001b[38;5;129m@validate_params\u001b[39m(\n\u001b[32m   1047\u001b[39m     {\n\u001b[32m   1048\u001b[39m         \u001b[33m\"\u001b[39m\u001b[33my_true\u001b[39m\u001b[33m\"\u001b[39m: [\u001b[33m\"\u001b[39m\u001b[33marray-like\u001b[39m\u001b[33m\"\u001b[39m],\n\u001b[32m   (...)\u001b[39m\u001b[32m   1057\u001b[39m     y_true, y_score, *, pos_label=\u001b[38;5;28;01mNone\u001b[39;00m, sample_weight=\u001b[38;5;28;01mNone\u001b[39;00m, drop_intermediate=\u001b[38;5;28;01mTrue\u001b[39;00m\n\u001b[32m   1058\u001b[39m ):\n\u001b[32m   1059\u001b[39m \u001b[38;5;250m    \u001b[39m\u001b[33;03m\"\"\"Compute Receiver operating characteristic (ROC).\u001b[39;00m\n\u001b[32m   1060\u001b[39m \n\u001b[32m   1061\u001b[39m \u001b[33;03m    Note: this implementation is restricted to the binary classification task.\u001b[39;00m\n\u001b[32m   (...)\u001b[39m\u001b[32m   1148\u001b[39m \u001b[33;03m    array([ inf, 0.8 , 0.4 , 0.35, 0.1 ])\u001b[39;00m\n\u001b[32m   1149\u001b[39m \u001b[33;03m    \"\"\"\u001b[39;00m\n\u001b[32m-> \u001b[39m\u001b[32m1150\u001b[39m     fps, tps, thresholds = \u001b[43m_binary_clf_curve\u001b[49m\u001b[43m(\u001b[49m\n\u001b[32m   1151\u001b[39m \u001b[43m        \u001b[49m\u001b[43my_true\u001b[49m\u001b[43m,\u001b[49m\u001b[43m \u001b[49m\u001b[43my_score\u001b[49m\u001b[43m,\u001b[49m\u001b[43m \u001b[49m\u001b[43mpos_label\u001b[49m\u001b[43m=\u001b[49m\u001b[43mpos_label\u001b[49m\u001b[43m,\u001b[49m\u001b[43m \u001b[49m\u001b[43msample_weight\u001b[49m\u001b[43m=\u001b[49m\u001b[43msample_weight\u001b[49m\n\u001b[32m   1152\u001b[39m \u001b[43m    \u001b[49m\u001b[43m)\u001b[49m\n\u001b[32m   1154\u001b[39m     \u001b[38;5;66;03m# Attempt to drop thresholds corresponding to points in between and\u001b[39;00m\n\u001b[32m   1155\u001b[39m     \u001b[38;5;66;03m# collinear with other points. These are always suboptimal and do not\u001b[39;00m\n\u001b[32m   1156\u001b[39m     \u001b[38;5;66;03m# appear on a plotted ROC curve (and thus do not affect the AUC).\u001b[39;00m\n\u001b[32m   (...)\u001b[39m\u001b[32m   1161\u001b[39m     \u001b[38;5;66;03m# but does not drop more complicated cases like fps = [1, 3, 7],\u001b[39;00m\n\u001b[32m   1162\u001b[39m     \u001b[38;5;66;03m# tps = [1, 2, 4]; there is no harm in keeping too many thresholds.\u001b[39;00m\n\u001b[32m   1163\u001b[39m     \u001b[38;5;28;01mif\u001b[39;00m drop_intermediate \u001b[38;5;129;01mand\u001b[39;00m \u001b[38;5;28mlen\u001b[39m(fps) > \u001b[32m2\u001b[39m:\n",
      "\u001b[36mFile \u001b[39m\u001b[32m~\\Desktop\\OpenClassrooms\\Projets\\Projet7\\env\\Lib\\site-packages\\sklearn\\metrics\\_ranking.py:820\u001b[39m, in \u001b[36m_binary_clf_curve\u001b[39m\u001b[34m(y_true, y_score, pos_label, sample_weight)\u001b[39m\n\u001b[32m    817\u001b[39m \u001b[38;5;28;01mif\u001b[39;00m \u001b[38;5;129;01mnot\u001b[39;00m (y_type == \u001b[33m\"\u001b[39m\u001b[33mbinary\u001b[39m\u001b[33m\"\u001b[39m \u001b[38;5;129;01mor\u001b[39;00m (y_type == \u001b[33m\"\u001b[39m\u001b[33mmulticlass\u001b[39m\u001b[33m\"\u001b[39m \u001b[38;5;129;01mand\u001b[39;00m pos_label \u001b[38;5;129;01mis\u001b[39;00m \u001b[38;5;129;01mnot\u001b[39;00m \u001b[38;5;28;01mNone\u001b[39;00m)):\n\u001b[32m    818\u001b[39m     \u001b[38;5;28;01mraise\u001b[39;00m \u001b[38;5;167;01mValueError\u001b[39;00m(\u001b[33m\"\u001b[39m\u001b[38;5;132;01m{0}\u001b[39;00m\u001b[33m format is not supported\u001b[39m\u001b[33m\"\u001b[39m.format(y_type))\n\u001b[32m--> \u001b[39m\u001b[32m820\u001b[39m \u001b[43mcheck_consistent_length\u001b[49m\u001b[43m(\u001b[49m\u001b[43my_true\u001b[49m\u001b[43m,\u001b[49m\u001b[43m \u001b[49m\u001b[43my_score\u001b[49m\u001b[43m,\u001b[49m\u001b[43m \u001b[49m\u001b[43msample_weight\u001b[49m\u001b[43m)\u001b[49m\n\u001b[32m    821\u001b[39m y_true = column_or_1d(y_true)\n\u001b[32m    822\u001b[39m y_score = column_or_1d(y_score)\n",
      "\u001b[36mFile \u001b[39m\u001b[32m~\\Desktop\\OpenClassrooms\\Projets\\Projet7\\env\\Lib\\site-packages\\sklearn\\utils\\validation.py:475\u001b[39m, in \u001b[36mcheck_consistent_length\u001b[39m\u001b[34m(*arrays)\u001b[39m\n\u001b[32m    473\u001b[39m uniques = np.unique(lengths)\n\u001b[32m    474\u001b[39m \u001b[38;5;28;01mif\u001b[39;00m \u001b[38;5;28mlen\u001b[39m(uniques) > \u001b[32m1\u001b[39m:\n\u001b[32m--> \u001b[39m\u001b[32m475\u001b[39m     \u001b[38;5;28;01mraise\u001b[39;00m \u001b[38;5;167;01mValueError\u001b[39;00m(\n\u001b[32m    476\u001b[39m         \u001b[33m\"\u001b[39m\u001b[33mFound input variables with inconsistent numbers of samples: \u001b[39m\u001b[38;5;132;01m%r\u001b[39;00m\u001b[33m\"\u001b[39m\n\u001b[32m    477\u001b[39m         % [\u001b[38;5;28mint\u001b[39m(l) \u001b[38;5;28;01mfor\u001b[39;00m l \u001b[38;5;129;01min\u001b[39;00m lengths]\n\u001b[32m    478\u001b[39m     )\n",
      "\u001b[31mValueError\u001b[39m: Found input variables with inconsistent numbers of samples: [9600, 1]"
     ]
    }
   ],
   "source": [
    "metrics = {\n",
    "    'Train Accuracy': train_accu,\n",
    "    'Test Accuracy': test_accu,\n",
    "    'Train AUC': train_AUC,\n",
    "    'Test AUC': test_AUC,\n",
    "}\n",
    "\n",
    "times = {\n",
    "    'fit_time': fit_time, \n",
    "    'test_predict_time': test_pred_time\n",
    "}\n",
    "\n",
    "y_proba_test = model_BERT.predict(test_dataset, batch_size=32, verbose=0)\n",
    "fpr, tpr, _ = roc_curve(y_test, y_proba_test)\n",
    "sns.set()\n",
    "plt.figure()\n",
    "plt.plot(fpr, tpr, label='ROC curve')\n",
    "plt.xlabel('False Positive Rate', fontsize=12)\n",
    "plt.ylabel('True Positive Rate', fontsize=12)\n",
    "plt.title(f'ROC Curve (Test Data) - Modèle BERT - AUC = {test_AUC:.3f}',\n",
    "          fontweight='bold', fontsize=14)\n",
    "plt.savefig('roc_curve_BERT.png')\n",
    "plt.close()\n",
    "\n",
    "artifacts = {\n",
    "    'roc_curve': 'roc_curve_BERT.png',\n",
    "    'conv_history': 'conv_history_BERT.png'\n",
    "}\n",
    "\n",
    "params = log_model_params(model_BERT)"
   ]
  },
  {
   "cell_type": "code",
   "execution_count": null,
   "id": "afc8fd4f-c7d6-4bdb-b60d-d37fb6db167e",
   "metadata": {},
   "outputs": [],
   "source": [
    "# log_experiment(\n",
    "#     model_BERT,\n",
    "#     params,\n",
    "#     metrics,\n",
    "#     artifacts,\n",
    "#     input_example,\n",
    "#     times\n",
    "# )"
   ]
  },
  {
   "cell_type": "code",
   "execution_count": 29,
   "id": "5bbeb4b1-942d-426f-9efc-8e043040a02c",
   "metadata": {},
   "outputs": [
    {
     "ename": "ValueError",
     "evalue": "Layer 'embedding_1' expected 1 variables, but received 0 variables during loading. Expected: ['embedding_1/embeddings:0']",
     "output_type": "error",
     "traceback": [
      "\u001b[31m---------------------------------------------------------------------------\u001b[39m",
      "\u001b[31mValueError\u001b[39m                                Traceback (most recent call last)",
      "\u001b[36mCell\u001b[39m\u001b[36m \u001b[39m\u001b[32mIn[29]\u001b[39m\u001b[32m, line 1\u001b[39m\n\u001b[32m----> \u001b[39m\u001b[32m1\u001b[39m model = \u001b[43mtf\u001b[49m\u001b[43m.\u001b[49m\u001b[43mkeras\u001b[49m\u001b[43m.\u001b[49m\u001b[43mmodels\u001b[49m\u001b[43m.\u001b[49m\u001b[43mload_model\u001b[49m\u001b[43m(\u001b[49m\u001b[33;43m'\u001b[39;49m\u001b[33;43mmodel_LSTM.keras\u001b[39;49m\u001b[33;43m'\u001b[39;49m\u001b[43m)\u001b[49m\n",
      "\u001b[36mFile \u001b[39m\u001b[32m~\\Desktop\\OpenClassrooms\\Projets\\Projet7\\env\\Lib\\site-packages\\keras\\src\\saving\\saving_api.py:254\u001b[39m, in \u001b[36mload_model\u001b[39m\u001b[34m(filepath, custom_objects, compile, safe_mode, **kwargs)\u001b[39m\n\u001b[32m    249\u001b[39m     \u001b[38;5;28;01mif\u001b[39;00m kwargs:\n\u001b[32m    250\u001b[39m         \u001b[38;5;28;01mraise\u001b[39;00m \u001b[38;5;167;01mValueError\u001b[39;00m(\n\u001b[32m    251\u001b[39m             \u001b[33m\"\u001b[39m\u001b[33mThe following argument(s) are not supported \u001b[39m\u001b[33m\"\u001b[39m\n\u001b[32m    252\u001b[39m             \u001b[33mf\u001b[39m\u001b[33m\"\u001b[39m\u001b[33mwith the native Keras format: \u001b[39m\u001b[38;5;132;01m{\u001b[39;00m\u001b[38;5;28mlist\u001b[39m(kwargs.keys())\u001b[38;5;132;01m}\u001b[39;00m\u001b[33m\"\u001b[39m\n\u001b[32m    253\u001b[39m         )\n\u001b[32m--> \u001b[39m\u001b[32m254\u001b[39m     \u001b[38;5;28;01mreturn\u001b[39;00m \u001b[43msaving_lib\u001b[49m\u001b[43m.\u001b[49m\u001b[43mload_model\u001b[49m\u001b[43m(\u001b[49m\n\u001b[32m    255\u001b[39m \u001b[43m        \u001b[49m\u001b[43mfilepath\u001b[49m\u001b[43m,\u001b[49m\n\u001b[32m    256\u001b[39m \u001b[43m        \u001b[49m\u001b[43mcustom_objects\u001b[49m\u001b[43m=\u001b[49m\u001b[43mcustom_objects\u001b[49m\u001b[43m,\u001b[49m\n\u001b[32m    257\u001b[39m \u001b[43m        \u001b[49m\u001b[38;5;28;43mcompile\u001b[39;49m\u001b[43m=\u001b[49m\u001b[38;5;28;43mcompile\u001b[39;49m\u001b[43m,\u001b[49m\n\u001b[32m    258\u001b[39m \u001b[43m        \u001b[49m\u001b[43msafe_mode\u001b[49m\u001b[43m=\u001b[49m\u001b[43msafe_mode\u001b[49m\u001b[43m,\u001b[49m\n\u001b[32m    259\u001b[39m \u001b[43m    \u001b[49m\u001b[43m)\u001b[49m\n\u001b[32m    261\u001b[39m \u001b[38;5;66;03m# Legacy case.\u001b[39;00m\n\u001b[32m    262\u001b[39m \u001b[38;5;28;01mreturn\u001b[39;00m legacy_sm_saving_lib.load_model(\n\u001b[32m    263\u001b[39m     filepath, custom_objects=custom_objects, \u001b[38;5;28mcompile\u001b[39m=\u001b[38;5;28mcompile\u001b[39m, **kwargs\n\u001b[32m    264\u001b[39m )\n",
      "\u001b[36mFile \u001b[39m\u001b[32m~\\Desktop\\OpenClassrooms\\Projets\\Projet7\\env\\Lib\\site-packages\\keras\\src\\saving\\saving_lib.py:281\u001b[39m, in \u001b[36mload_model\u001b[39m\u001b[34m(filepath, custom_objects, compile, safe_mode)\u001b[39m\n\u001b[32m    278\u001b[39m             asset_store.close()\n\u001b[32m    280\u001b[39m \u001b[38;5;28;01mexcept\u001b[39;00m \u001b[38;5;167;01mException\u001b[39;00m \u001b[38;5;28;01mas\u001b[39;00m e:\n\u001b[32m--> \u001b[39m\u001b[32m281\u001b[39m     \u001b[38;5;28;01mraise\u001b[39;00m e\n\u001b[32m    282\u001b[39m \u001b[38;5;28;01melse\u001b[39;00m:\n\u001b[32m    283\u001b[39m     \u001b[38;5;28;01mreturn\u001b[39;00m model\n",
      "\u001b[36mFile \u001b[39m\u001b[32m~\\Desktop\\OpenClassrooms\\Projets\\Projet7\\env\\Lib\\site-packages\\keras\\src\\saving\\saving_lib.py:269\u001b[39m, in \u001b[36mload_model\u001b[39m\u001b[34m(filepath, custom_objects, compile, safe_mode)\u001b[39m\n\u001b[32m    266\u001b[39m \u001b[38;5;28;01melse\u001b[39;00m:\n\u001b[32m    267\u001b[39m     asset_store = \u001b[38;5;28;01mNone\u001b[39;00m\n\u001b[32m--> \u001b[39m\u001b[32m269\u001b[39m \u001b[43m_load_state\u001b[49m\u001b[43m(\u001b[49m\n\u001b[32m    270\u001b[39m \u001b[43m    \u001b[49m\u001b[43mmodel\u001b[49m\u001b[43m,\u001b[49m\n\u001b[32m    271\u001b[39m \u001b[43m    \u001b[49m\u001b[43mweights_store\u001b[49m\u001b[43m=\u001b[49m\u001b[43mweights_store\u001b[49m\u001b[43m,\u001b[49m\n\u001b[32m    272\u001b[39m \u001b[43m    \u001b[49m\u001b[43massets_store\u001b[49m\u001b[43m=\u001b[49m\u001b[43masset_store\u001b[49m\u001b[43m,\u001b[49m\n\u001b[32m    273\u001b[39m \u001b[43m    \u001b[49m\u001b[43minner_path\u001b[49m\u001b[43m=\u001b[49m\u001b[33;43m\"\u001b[39;49m\u001b[33;43m\"\u001b[39;49m\u001b[43m,\u001b[49m\n\u001b[32m    274\u001b[39m \u001b[43m    \u001b[49m\u001b[43mvisited_trackables\u001b[49m\u001b[43m=\u001b[49m\u001b[38;5;28;43mset\u001b[39;49m\u001b[43m(\u001b[49m\u001b[43m)\u001b[49m\u001b[43m,\u001b[49m\n\u001b[32m    275\u001b[39m \u001b[43m\u001b[49m\u001b[43m)\u001b[49m\n\u001b[32m    276\u001b[39m weights_store.close()\n\u001b[32m    277\u001b[39m \u001b[38;5;28;01mif\u001b[39;00m asset_store:\n",
      "\u001b[36mFile \u001b[39m\u001b[32m~\\Desktop\\OpenClassrooms\\Projets\\Projet7\\env\\Lib\\site-packages\\keras\\src\\saving\\saving_lib.py:466\u001b[39m, in \u001b[36m_load_state\u001b[39m\u001b[34m(trackable, weights_store, assets_store, inner_path, skip_mismatch, visited_trackables)\u001b[39m\n\u001b[32m    457\u001b[39m     _load_state(\n\u001b[32m    458\u001b[39m         child_obj,\n\u001b[32m    459\u001b[39m         weights_store,\n\u001b[32m   (...)\u001b[39m\u001b[32m    463\u001b[39m         visited_trackables=visited_trackables,\n\u001b[32m    464\u001b[39m     )\n\u001b[32m    465\u001b[39m \u001b[38;5;28;01melif\u001b[39;00m \u001b[38;5;28misinstance\u001b[39m(child_obj, (\u001b[38;5;28mlist\u001b[39m, \u001b[38;5;28mdict\u001b[39m, \u001b[38;5;28mtuple\u001b[39m, \u001b[38;5;28mset\u001b[39m)):\n\u001b[32m--> \u001b[39m\u001b[32m466\u001b[39m     \u001b[43m_load_container_state\u001b[49m\u001b[43m(\u001b[49m\n\u001b[32m    467\u001b[39m \u001b[43m        \u001b[49m\u001b[43mchild_obj\u001b[49m\u001b[43m,\u001b[49m\n\u001b[32m    468\u001b[39m \u001b[43m        \u001b[49m\u001b[43mweights_store\u001b[49m\u001b[43m,\u001b[49m\n\u001b[32m    469\u001b[39m \u001b[43m        \u001b[49m\u001b[43massets_store\u001b[49m\u001b[43m,\u001b[49m\n\u001b[32m    470\u001b[39m \u001b[43m        \u001b[49m\u001b[43minner_path\u001b[49m\u001b[43m=\u001b[49m\u001b[43mtf\u001b[49m\u001b[43m.\u001b[49m\u001b[43mio\u001b[49m\u001b[43m.\u001b[49m\u001b[43mgfile\u001b[49m\u001b[43m.\u001b[49m\u001b[43mjoin\u001b[49m\u001b[43m(\u001b[49m\u001b[43minner_path\u001b[49m\u001b[43m,\u001b[49m\u001b[43m \u001b[49m\u001b[43mchild_attr\u001b[49m\u001b[43m)\u001b[49m\u001b[43m,\u001b[49m\n\u001b[32m    471\u001b[39m \u001b[43m        \u001b[49m\u001b[43mskip_mismatch\u001b[49m\u001b[43m=\u001b[49m\u001b[43mskip_mismatch\u001b[49m\u001b[43m,\u001b[49m\n\u001b[32m    472\u001b[39m \u001b[43m        \u001b[49m\u001b[43mvisited_trackables\u001b[49m\u001b[43m=\u001b[49m\u001b[43mvisited_trackables\u001b[49m\u001b[43m,\u001b[49m\n\u001b[32m    473\u001b[39m \u001b[43m    \u001b[49m\u001b[43m)\u001b[49m\n",
      "\u001b[36mFile \u001b[39m\u001b[32m~\\Desktop\\OpenClassrooms\\Projets\\Projet7\\env\\Lib\\site-packages\\keras\\src\\saving\\saving_lib.py:534\u001b[39m, in \u001b[36m_load_container_state\u001b[39m\u001b[34m(container, weights_store, assets_store, inner_path, skip_mismatch, visited_trackables)\u001b[39m\n\u001b[32m    532\u001b[39m \u001b[38;5;28;01melse\u001b[39;00m:\n\u001b[32m    533\u001b[39m     used_names[name] = \u001b[32m0\u001b[39m\n\u001b[32m--> \u001b[39m\u001b[32m534\u001b[39m \u001b[43m_load_state\u001b[49m\u001b[43m(\u001b[49m\n\u001b[32m    535\u001b[39m \u001b[43m    \u001b[49m\u001b[43mtrackable\u001b[49m\u001b[43m,\u001b[49m\n\u001b[32m    536\u001b[39m \u001b[43m    \u001b[49m\u001b[43mweights_store\u001b[49m\u001b[43m,\u001b[49m\n\u001b[32m    537\u001b[39m \u001b[43m    \u001b[49m\u001b[43massets_store\u001b[49m\u001b[43m,\u001b[49m\n\u001b[32m    538\u001b[39m \u001b[43m    \u001b[49m\u001b[43minner_path\u001b[49m\u001b[43m=\u001b[49m\u001b[43mtf\u001b[49m\u001b[43m.\u001b[49m\u001b[43mio\u001b[49m\u001b[43m.\u001b[49m\u001b[43mgfile\u001b[49m\u001b[43m.\u001b[49m\u001b[43mjoin\u001b[49m\u001b[43m(\u001b[49m\u001b[43minner_path\u001b[49m\u001b[43m,\u001b[49m\u001b[43m \u001b[49m\u001b[43mname\u001b[49m\u001b[43m)\u001b[49m\u001b[43m,\u001b[49m\n\u001b[32m    539\u001b[39m \u001b[43m    \u001b[49m\u001b[43mskip_mismatch\u001b[49m\u001b[43m=\u001b[49m\u001b[43mskip_mismatch\u001b[49m\u001b[43m,\u001b[49m\n\u001b[32m    540\u001b[39m \u001b[43m    \u001b[49m\u001b[43mvisited_trackables\u001b[49m\u001b[43m=\u001b[49m\u001b[43mvisited_trackables\u001b[49m\u001b[43m,\u001b[49m\n\u001b[32m    541\u001b[39m \u001b[43m\u001b[49m\u001b[43m)\u001b[49m\n",
      "\u001b[36mFile \u001b[39m\u001b[32m~\\Desktop\\OpenClassrooms\\Projets\\Projet7\\env\\Lib\\site-packages\\keras\\src\\saving\\saving_lib.py:435\u001b[39m, in \u001b[36m_load_state\u001b[39m\u001b[34m(trackable, weights_store, assets_store, inner_path, skip_mismatch, visited_trackables)\u001b[39m\n\u001b[32m    428\u001b[39m             warnings.warn(\n\u001b[32m    429\u001b[39m                 \u001b[33mf\u001b[39m\u001b[33m\"\u001b[39m\u001b[33mCould not load weights in object \u001b[39m\u001b[38;5;132;01m{\u001b[39;00mtrackable\u001b[38;5;132;01m}\u001b[39;00m\u001b[33m. \u001b[39m\u001b[33m\"\u001b[39m\n\u001b[32m    430\u001b[39m                 \u001b[33m\"\u001b[39m\u001b[33mSkipping object. \u001b[39m\u001b[33m\"\u001b[39m\n\u001b[32m    431\u001b[39m                 \u001b[33mf\u001b[39m\u001b[33m\"\u001b[39m\u001b[33mException encountered: \u001b[39m\u001b[38;5;132;01m{\u001b[39;00me\u001b[38;5;132;01m}\u001b[39;00m\u001b[33m\"\u001b[39m,\n\u001b[32m    432\u001b[39m                 stacklevel=\u001b[32m2\u001b[39m,\n\u001b[32m    433\u001b[39m             )\n\u001b[32m    434\u001b[39m     \u001b[38;5;28;01melse\u001b[39;00m:\n\u001b[32m--> \u001b[39m\u001b[32m435\u001b[39m         \u001b[43mtrackable\u001b[49m\u001b[43m.\u001b[49m\u001b[43mload_own_variables\u001b[49m\u001b[43m(\u001b[49m\u001b[43mweights_store\u001b[49m\u001b[43m.\u001b[49m\u001b[43mget\u001b[49m\u001b[43m(\u001b[49m\u001b[43minner_path\u001b[49m\u001b[43m)\u001b[49m\u001b[43m)\u001b[49m\n\u001b[32m    437\u001b[39m \u001b[38;5;28;01mif\u001b[39;00m \u001b[38;5;28mhasattr\u001b[39m(trackable, \u001b[33m\"\u001b[39m\u001b[33mload_assets\u001b[39m\u001b[33m\"\u001b[39m) \u001b[38;5;129;01mand\u001b[39;00m assets_store:\n\u001b[32m    438\u001b[39m     \u001b[38;5;28;01mif\u001b[39;00m skip_mismatch:\n",
      "\u001b[36mFile \u001b[39m\u001b[32m~\\Desktop\\OpenClassrooms\\Projets\\Projet7\\env\\Lib\\site-packages\\keras\\src\\engine\\base_layer.py:3531\u001b[39m, in \u001b[36mLayer.load_own_variables\u001b[39m\u001b[34m(self, store)\u001b[39m\n\u001b[32m   3529\u001b[39m all_vars = \u001b[38;5;28mself\u001b[39m._trainable_weights + \u001b[38;5;28mself\u001b[39m._non_trainable_weights\n\u001b[32m   3530\u001b[39m \u001b[38;5;28;01mif\u001b[39;00m \u001b[38;5;28mlen\u001b[39m(store.keys()) != \u001b[38;5;28mlen\u001b[39m(all_vars):\n\u001b[32m-> \u001b[39m\u001b[32m3531\u001b[39m     \u001b[38;5;28;01mraise\u001b[39;00m \u001b[38;5;167;01mValueError\u001b[39;00m(\n\u001b[32m   3532\u001b[39m         \u001b[33mf\u001b[39m\u001b[33m\"\u001b[39m\u001b[33mLayer \u001b[39m\u001b[33m'\u001b[39m\u001b[38;5;132;01m{\u001b[39;00m\u001b[38;5;28mself\u001b[39m.name\u001b[38;5;132;01m}\u001b[39;00m\u001b[33m'\u001b[39m\u001b[33m expected \u001b[39m\u001b[38;5;132;01m{\u001b[39;00m\u001b[38;5;28mlen\u001b[39m(all_vars)\u001b[38;5;132;01m}\u001b[39;00m\u001b[33m variables, \u001b[39m\u001b[33m\"\u001b[39m\n\u001b[32m   3533\u001b[39m         \u001b[33m\"\u001b[39m\u001b[33mbut received \u001b[39m\u001b[33m\"\u001b[39m\n\u001b[32m   3534\u001b[39m         \u001b[33mf\u001b[39m\u001b[33m\"\u001b[39m\u001b[38;5;132;01m{\u001b[39;00m\u001b[38;5;28mlen\u001b[39m(store.keys())\u001b[38;5;132;01m}\u001b[39;00m\u001b[33m variables during loading. \u001b[39m\u001b[33m\"\u001b[39m\n\u001b[32m   3535\u001b[39m         \u001b[33mf\u001b[39m\u001b[33m\"\u001b[39m\u001b[33mExpected: \u001b[39m\u001b[38;5;132;01m{\u001b[39;00m[v.name\u001b[38;5;250m \u001b[39m\u001b[38;5;28;01mfor\u001b[39;00m\u001b[38;5;250m \u001b[39mv\u001b[38;5;250m \u001b[39m\u001b[38;5;129;01min\u001b[39;00m\u001b[38;5;250m \u001b[39mall_vars]\u001b[38;5;132;01m}\u001b[39;00m\u001b[33m\"\u001b[39m\n\u001b[32m   3536\u001b[39m     )\n\u001b[32m   3537\u001b[39m \u001b[38;5;28;01mfor\u001b[39;00m i, v \u001b[38;5;129;01min\u001b[39;00m \u001b[38;5;28menumerate\u001b[39m(all_vars):\n\u001b[32m   3538\u001b[39m     \u001b[38;5;66;03m# TODO(rchao): check shapes and raise errors.\u001b[39;00m\n\u001b[32m   3539\u001b[39m     v.assign(store[\u001b[33mf\u001b[39m\u001b[33m\"\u001b[39m\u001b[38;5;132;01m{\u001b[39;00mi\u001b[38;5;132;01m}\u001b[39;00m\u001b[33m\"\u001b[39m])\n",
      "\u001b[31mValueError\u001b[39m: Layer 'embedding_1' expected 1 variables, but received 0 variables during loading. Expected: ['embedding_1/embeddings:0']"
     ]
    }
   ],
   "source": [
    "model = tf.keras.models.load_model('model_LSTM.keras')"
   ]
  }
 ],
 "metadata": {
  "kernelspec": {
   "display_name": "env7",
   "language": "python",
   "name": "env7"
  },
  "language_info": {
   "codemirror_mode": {
    "name": "ipython",
    "version": 3
   },
   "file_extension": ".py",
   "mimetype": "text/x-python",
   "name": "python",
   "nbconvert_exporter": "python",
   "pygments_lexer": "ipython3",
   "version": "3.11.0"
  }
 },
 "nbformat": 4,
 "nbformat_minor": 5
}
