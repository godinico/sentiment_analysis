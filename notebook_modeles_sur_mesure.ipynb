{
 "cells": [
  {
   "cell_type": "markdown",
   "id": "0936d413-4375-4478-872f-0833f53eb913",
   "metadata": {},
   "source": [
    "<b><p style=\"text-align:center;font-size: 32px;\"> Projet n°7</p><b>\n",
    "<b><p style=\"text-align:center;font-size: 32px;\"> Réalisez une analyse de sentiments grâce au Deep Learning</p><b>\n",
    "<b><p style=\"text-align:center;font-size: 32px;\"> Implémentation des modèles</p><b>"
   ]
  },
  {
   "cell_type": "markdown",
   "id": "0111a555-e5d9-4e74-aa48-3bfedb2dfade",
   "metadata": {},
   "source": [
    "# Introduction"
   ]
  },
  {
   "cell_type": "markdown",
   "id": "7528f8e1-1ed5-4570-860d-bfe0dc012918",
   "metadata": {},
   "source": [
    "Dans ce notebook, nous implémentons et comparons plusieurs modèles de prédiction de sentiments appliqués à des tweets. Trois approches sont explorées : un modèle sur mesure simple utilisant une régression logistique, deux modèles avancés reposant sur des réseaux de neurones profonds , ainsi qu’un modèle avancé de type transformer basé sur BERT. Chaque expérimentation (entraînement et test d'un modèle) est suivie et tracée avec MLflow, permettant l’enregistrement automatique des paramètres, métriques de performance et artefacts produits à chaque étape."
   ]
  },
  {
   "cell_type": "markdown",
   "id": "f9083710-0224-4efd-9862-c8d77d0679bd",
   "metadata": {},
   "source": [
    "# Imports des librairies"
   ]
  },
  {
   "cell_type": "code",
   "execution_count": 1,
   "id": "b06d5ddc-78da-4dbe-88a9-58fdad663665",
   "metadata": {},
   "outputs": [
    {
     "name": "stderr",
     "output_type": "stream",
     "text": [
      "2025-05-05 20:59:27.722632: E external/local_xla/xla/stream_executor/cuda/cuda_dnn.cc:9261] Unable to register cuDNN factory: Attempting to register factory for plugin cuDNN when one has already been registered\n",
      "2025-05-05 20:59:27.722683: E external/local_xla/xla/stream_executor/cuda/cuda_fft.cc:607] Unable to register cuFFT factory: Attempting to register factory for plugin cuFFT when one has already been registered\n",
      "2025-05-05 20:59:27.723715: E external/local_xla/xla/stream_executor/cuda/cuda_blas.cc:1515] Unable to register cuBLAS factory: Attempting to register factory for plugin cuBLAS when one has already been registered\n",
      "2025-05-05 20:59:27.729706: I tensorflow/core/platform/cpu_feature_guard.cc:182] This TensorFlow binary is optimized to use available CPU instructions in performance-critical operations.\n",
      "To enable the following instructions: AVX2 FMA, in other operations, rebuild TensorFlow with the appropriate compiler flags.\n",
      "2025-05-05 20:59:28.651440: W tensorflow/compiler/tf2tensorrt/utils/py_utils.cc:38] TF-TRT Warning: Could not find TensorRT\n"
     ]
    }
   ],
   "source": [
    "import pandas as pd\n",
    "import numpy as np\n",
    "import matplotlib.pyplot as plt\n",
    "import gensim.downloader as api\n",
    "import seaborn as sns\n",
    "import tensorflow as tf\n",
    "import string\n",
    "import nltk\n",
    "import mlflow\n",
    "import mlflow.sklearn\n",
    "import re\n",
    "import time\n",
    "import os\n",
    "\n",
    "from mlflow.models.signature import infer_signature\n",
    "\n",
    "from nltk.stem import WordNetLemmatizer\n",
    "from nltk.tokenize import word_tokenize\n",
    "\n",
    "from sklearn.model_selection import train_test_split, GridSearchCV\n",
    "from sklearn.feature_extraction.text import TfidfVectorizer\n",
    "from sklearn.linear_model import LogisticRegression\n",
    "from sklearn.metrics import classification_report, accuracy_score, roc_auc_score\n",
    "from sklearn.metrics import roc_curve\n",
    "from sklearn.base import BaseEstimator\n",
    "\n",
    "from gensim.models import Word2Vec\n",
    "\n",
    "from tensorflow.keras.preprocessing.text import Tokenizer\n",
    "from tensorflow.keras.preprocessing.sequence import pad_sequences\n",
    "from tensorflow.keras.models import Sequential\n",
    "from tensorflow.keras.layers import Embedding, LSTM, Dense, Dropout, Bidirectional, Conv1D, GlobalMaxPooling1D\n",
    "from tensorflow.keras.callbacks import EarlyStopping, ModelCheckpoint\n",
    "from tensorflow.keras.layers import BatchNormalization\n",
    "from tensorflow.keras.metrics import AUC\n",
    "from tensorflow.keras.optimizers import Adam\n",
    "\n",
    "from transformers import DistilBertTokenizerFast, create_optimizer\n",
    "from transformers import TFDistilBertForSequenceClassification, TFPreTrainedModel"
   ]
  },
  {
   "cell_type": "markdown",
   "id": "e9b6e008-cc62-4b84-96bf-b799757ed8ff",
   "metadata": {},
   "source": [
    "# Fonctions pour le suivi des expérimentations"
   ]
  },
  {
   "cell_type": "code",
   "execution_count": 2,
   "id": "8a6ac636-99bb-44e2-872c-99ffb5916c5f",
   "metadata": {},
   "outputs": [],
   "source": [
    "def log_experiment(model, params, metrics, artifacts, input_example, times, model_name=None):\n",
    "    \"\"\"\n",
    "    Enregistre une expérimentation de modèle dans MLflow.\n",
    "\n",
    "    Cette fonction trace un run MLflow incluant :\n",
    "    - les hyperparamètres du modèle,\n",
    "    - les métriques d’évaluation,\n",
    "    - les temps de traitement,\n",
    "    - un exemple d’entrée pour signature,\n",
    "    - le modèle lui-même (Keras ou Scikit-learn),\n",
    "    - et les artefacts éventuels (fichiers supplémentaires).\n",
    "\n",
    "    Parameters\n",
    "    ----------\n",
    "    model : object\n",
    "        Modèle entraîné à enregistrer. Doit être un modèle Keras (`tf.keras.Model`) \n",
    "        ou un estimateur Scikit-learn (`BaseEstimator`).\n",
    "\n",
    "    params : dict\n",
    "        Dictionnaire des hyperparamètres et métadonnées liés à l’entraînement.\n",
    "\n",
    "    metrics : dict\n",
    "        Dictionnaire des métriques de performance à enregistrer.\n",
    "\n",
    "    artifacts : dict\n",
    "        Dictionnaire des artefacts à enregistrer (fichiers, chemins).\n",
    "\n",
    "    input_example : array-like\n",
    "        Exemple d’entrée pour générer la signature du modèle (utile pour le suivi et le déploiement).\n",
    "\n",
    "    times : dict\n",
    "        Dictionnaire des durées ou temps mesurés (par ex. temps d'entraînement, d'inférence).\n",
    "\n",
    "    model_name : str, optional\n",
    "        Nom du modèle à logguer comme paramètre dans MLflow.\n",
    "    \"\"\"\n",
    "    with mlflow.start_run() as run:\n",
    "        # Log du nom du modèle\n",
    "        if model_name:\n",
    "            params[\"model_name\"] = model_name\n",
    "\n",
    "        params[\"data_sample_size\"] = sample_size\n",
    "\n",
    "        # Log des paramètres\n",
    "        mlflow.log_params(params)\n",
    "\n",
    "        # Log des métriques\n",
    "        for metric_name, metric_value in metrics.items():\n",
    "            mlflow.log_metric(metric_name, metric_value)\n",
    "\n",
    "        # Log des temps\n",
    "        for time_name, time_value in times.items():\n",
    "            mlflow.log_metric(time_name, time_value)\n",
    "\n",
    "        # -------- Signature ----------\n",
    "        if hasattr(model, \"predict\"):\n",
    "            raw_preds = model.predict(input_example)\n",
    "        else:\n",
    "            raw_preds = model(input_example)            \n",
    "        # Si logits, extraire et convertir\n",
    "        if hasattr(raw_preds, \"logits\"):\n",
    "            raw_preds = raw_preds.logits            \n",
    "        # Convertir en numpy si possible\n",
    "        if isinstance(raw_preds, tf.Tensor):\n",
    "            raw_preds = raw_preds.numpy()\n",
    "        elif not isinstance(raw_preds, np.ndarray):\n",
    "            raw_preds = np.array(raw_preds)\n",
    "            \n",
    "        signature = infer_signature(input_example, raw_preds)\n",
    "\n",
    "        # Log du modèle selon le type\n",
    "        if isinstance(model, tf.keras.Model):\n",
    "            mlflow.tensorflow.log_model(model, \"model\", signature=signature, \n",
    "                                        pip_requirements=[\"tensorflow==2.15.0\"])\n",
    "        elif isinstance(model, BaseEstimator):\n",
    "            mlflow.sklearn.log_model(model, \"model\", signature=signature)\n",
    "        else:\n",
    "            raise ValueError(\"Type de modèle non supporté pour l'enregistrement MLflow.\")\n",
    "\n",
    "        # Artefacts éventuels\n",
    "        for artifact_name, artifact_value in artifacts.items():\n",
    "            mlflow.log_artifact(artifact_value)\n",
    "\n",
    "        print(f\"Modèle et résultats enregistrés dans MLflow sous le run ID: {run.info.run_id}\")"
   ]
  },
  {
   "cell_type": "code",
   "execution_count": 3,
   "id": "901af2db-ee66-45e3-b527-6d08a527cb82",
   "metadata": {},
   "outputs": [],
   "source": [
    "def log_model_layers(model):\n",
    "    \"\"\" Extrait et logge les détails des couches d'un modèle Keras dans MLflow \"\"\"\n",
    "    params = {}\n",
    "\n",
    "    for i, layer in enumerate(model.layers):\n",
    "        layer_type = type(layer).__name__\n",
    "        params[f'layer_{i}_type'] = layer_type\n",
    "\n",
    "        # Cas spécial pour Embedding\n",
    "        if isinstance(layer, tf.keras.layers.Embedding):\n",
    "            params[f'layer_{i}_input_dim'] = layer.input_dim\n",
    "            params[f'layer_{i}_output_dim'] = layer.output_dim\n",
    "            params[f'layer_{i}_trainable'] = layer.trainable\n",
    "\n",
    "        # Cas spécial pour Bidirectional\n",
    "        elif isinstance(layer, tf.keras.layers.Bidirectional):\n",
    "            fwd = layer.forward_layer\n",
    "            bwd = layer.backward_layer\n",
    "            params[f'layer_{i}_forward_type'] = type(fwd).__name__\n",
    "            params[f'layer_{i}_backward_type'] = type(bwd).__name__\n",
    "            params[f'layer_{i}_units'] = fwd.units\n",
    "            params[f'layer_{i}_dropout'] = fwd.dropout\n",
    "            params[f'layer_{i}_recurrent_dropout'] = fwd.recurrent_dropout\n",
    "\n",
    "        # Pour les couches Dense, LSTM, etc.\n",
    "        else:\n",
    "            if hasattr(layer, 'units'):\n",
    "                params[f'layer_{i}_units'] = layer.units\n",
    "            if hasattr(layer, 'activation'):\n",
    "                params[f'layer_{i}_activation'] = layer.activation.__name__\n",
    "            if hasattr(layer, 'dropout'):\n",
    "                params[f'layer_{i}_dropout'] = layer.dropout\n",
    "            if hasattr(layer, 'recurrent_dropout'):\n",
    "                params[f'layer_{i}_recurrent_dropout'] = layer.recurrent_dropout\n",
    "\n",
    "        # Ajouter trainable (utile pour toutes les couches)\n",
    "        params[f'layer_{i}_trainable'] = layer.trainable\n",
    "\n",
    "    return params"
   ]
  },
  {
   "cell_type": "code",
   "execution_count": 4,
   "id": "27f612f4-4653-4b28-b3d5-c734a44e68ff",
   "metadata": {},
   "outputs": [],
   "source": [
    "def plot_history(history):\n",
    "    \"\"\"\n",
    "    Affiche les courbes d'apprentissage d'un modèle entraîné avec Keras.\n",
    "\n",
    "    Cette fonction trace l'évolution de la loss, de l'accuracy et de l'AUC \n",
    "    sur les ensembles d'entraînement et de validation au fil des epoques, \n",
    "    à partir de l'objet `History` retourné par la méthode `fit()` d’un modèle Keras.\n",
    "\n",
    "    Paramètres\n",
    "    ----------\n",
    "    history : keras.callbacks.History\n",
    "        Objet retourné par la méthode `model.fit()`, contenant les historiques\n",
    "        d'entraînement et de validation pour différentes métriques.\n",
    "    \"\"\"\n",
    "\n",
    "    fig, axes = plt.subplots(1, 3, figsize=(18, 6))\n",
    " \n",
    "    # Loss\n",
    "    axes[0].plot(history.history['loss'], label='Train Loss')\n",
    "    axes[0].plot(history.history['val_loss'], label='Val Loss')\n",
    "    axes[0].set_xlabel('Epoch', fontsize=14)\n",
    "    axes[0].set_ylabel('Loss', fontsize=14)\n",
    "    axes[0].legend()\n",
    "\n",
    "     # Accuracy\n",
    "    axes[1].plot(history.history['accuracy'], label='Train Accuracy')\n",
    "    axes[1].plot(history.history['val_accuracy'], label='Val Accuracy')\n",
    "    axes[1].set_xlabel('Epoch', fontsize=14)\n",
    "    axes[1].set_ylabel('Accuracy', fontsize=14)\n",
    "    axes[1].legend()\n",
    "\n",
    "    # AUC\n",
    "    axes[2].plot(history.history['auc'], label='Train AUC')\n",
    "    axes[2].plot(history.history['val_auc'], label='Val AUC')\n",
    "    axes[2].set_xlabel('Epoch', fontsize=14)\n",
    "    axes[2].set_ylabel('AUC', fontsize=14)\n",
    "    axes[2].legend()"
   ]
  },
  {
   "cell_type": "markdown",
   "id": "02e7ebbf-d086-48dd-bee6-141cdf9f3a50",
   "metadata": {},
   "source": [
    "# Préparation des données"
   ]
  },
  {
   "cell_type": "markdown",
   "id": "8d029a30-9c27-46ca-b5a2-f158b7eb2691",
   "metadata": {},
   "source": [
    "## Fonctions pour le nettoyage des données"
   ]
  },
  {
   "cell_type": "code",
   "execution_count": 5,
   "id": "2d078559-5b60-4c3d-810c-ba5071278aa2",
   "metadata": {},
   "outputs": [],
   "source": [
    "def clean_tweet(tweet):\n",
    "    # 1. Convertir en minuscules\n",
    "    tweet = tweet.lower()\n",
    "\n",
    "    # 2. Supprimer les mentions (@user)\n",
    "    tweet = re.sub(r\"@\\w+\", \"\", tweet)\n",
    "\n",
    "    # 3. Remplacer les URLs par \"URL\"\n",
    "    tweet = re.sub(r\"http\\S+|www\\S+|https\\S+\", \"URL\", tweet, flags=re.MULTILINE)\n",
    "\n",
    "    # 4. Gérer les hashtags (#word → word)\n",
    "    tweet = re.sub(r\"#(\\w+)\", r\"\\1\", tweet)\n",
    "\n",
    "    # 5. Réduire les répétitions de lettres (ex: coooool → cool)\n",
    "    tweet = re.sub(r\"(.)\\1{2,}\", r\"\\1\\1\", tweet)\n",
    "\n",
    "    # 6. Supprimer la ponctuation excessive et les caractères spéciaux\n",
    "    tweet = re.sub(r\"[^a-zA-Z0-9\\s]\", \"\", tweet)\n",
    "\n",
    "    return tweet"
   ]
  },
  {
   "cell_type": "code",
   "execution_count": 6,
   "id": "10c650ee-2ee0-468f-bfe9-55a19695e8f4",
   "metadata": {},
   "outputs": [],
   "source": [
    "def lemmatize_text(text, lemmatizer):    \n",
    "    tokens = word_tokenize(text)  # Tokenizer le texte en mots\n",
    "    lemmatized_tokens = [lemmatizer.lemmatize(word) for word in tokens]\n",
    "    return ' '.join(lemmatized_tokens) # reassemble les tokens en phrases"
   ]
  },
  {
   "cell_type": "markdown",
   "id": "30db28fe-4913-4a7f-b1e1-22509f392c7e",
   "metadata": {},
   "source": [
    "## Import et analyse des données"
   ]
  },
  {
   "cell_type": "markdown",
   "id": "0c8304db-e4a4-4684-8150-603cf603499c",
   "metadata": {},
   "source": [
    "On commence par importer le jeu de données Sentiment140."
   ]
  },
  {
   "cell_type": "code",
   "execution_count": 7,
   "id": "fd07a698-fe90-4339-bc2f-c3770496367e",
   "metadata": {},
   "outputs": [],
   "source": [
    "col_names = ['target', 'ids', 'date', 'flag', 'user','text']\n",
    "tweets = pd.read_csv('training.1600000.processed.noemoticon.csv',\n",
    "                     encoding='latin-1',\n",
    "                     header=None,\n",
    "                     names=col_names\n",
    "                    )"
   ]
  },
  {
   "cell_type": "code",
   "execution_count": 8,
   "id": "b70f354a-f70d-468d-bc1c-c8e9dab604c1",
   "metadata": {},
   "outputs": [
    {
     "data": {
      "text/html": [
       "<div>\n",
       "<style scoped>\n",
       "    .dataframe tbody tr th:only-of-type {\n",
       "        vertical-align: middle;\n",
       "    }\n",
       "\n",
       "    .dataframe tbody tr th {\n",
       "        vertical-align: top;\n",
       "    }\n",
       "\n",
       "    .dataframe thead th {\n",
       "        text-align: right;\n",
       "    }\n",
       "</style>\n",
       "<table border=\"1\" class=\"dataframe\">\n",
       "  <thead>\n",
       "    <tr style=\"text-align: right;\">\n",
       "      <th></th>\n",
       "      <th>target</th>\n",
       "      <th>ids</th>\n",
       "      <th>date</th>\n",
       "      <th>flag</th>\n",
       "      <th>user</th>\n",
       "      <th>text</th>\n",
       "    </tr>\n",
       "  </thead>\n",
       "  <tbody>\n",
       "    <tr>\n",
       "      <th>0</th>\n",
       "      <td>0</td>\n",
       "      <td>1467810369</td>\n",
       "      <td>Mon Apr 06 22:19:45 PDT 2009</td>\n",
       "      <td>NO_QUERY</td>\n",
       "      <td>_TheSpecialOne_</td>\n",
       "      <td>@switchfoot http://twitpic.com/2y1zl - Awww, t...</td>\n",
       "    </tr>\n",
       "    <tr>\n",
       "      <th>1</th>\n",
       "      <td>0</td>\n",
       "      <td>1467810672</td>\n",
       "      <td>Mon Apr 06 22:19:49 PDT 2009</td>\n",
       "      <td>NO_QUERY</td>\n",
       "      <td>scotthamilton</td>\n",
       "      <td>is upset that he can't update his Facebook by ...</td>\n",
       "    </tr>\n",
       "    <tr>\n",
       "      <th>2</th>\n",
       "      <td>0</td>\n",
       "      <td>1467810917</td>\n",
       "      <td>Mon Apr 06 22:19:53 PDT 2009</td>\n",
       "      <td>NO_QUERY</td>\n",
       "      <td>mattycus</td>\n",
       "      <td>@Kenichan I dived many times for the ball. Man...</td>\n",
       "    </tr>\n",
       "    <tr>\n",
       "      <th>3</th>\n",
       "      <td>0</td>\n",
       "      <td>1467811184</td>\n",
       "      <td>Mon Apr 06 22:19:57 PDT 2009</td>\n",
       "      <td>NO_QUERY</td>\n",
       "      <td>ElleCTF</td>\n",
       "      <td>my whole body feels itchy and like its on fire</td>\n",
       "    </tr>\n",
       "    <tr>\n",
       "      <th>4</th>\n",
       "      <td>0</td>\n",
       "      <td>1467811193</td>\n",
       "      <td>Mon Apr 06 22:19:57 PDT 2009</td>\n",
       "      <td>NO_QUERY</td>\n",
       "      <td>Karoli</td>\n",
       "      <td>@nationwideclass no, it's not behaving at all....</td>\n",
       "    </tr>\n",
       "    <tr>\n",
       "      <th>...</th>\n",
       "      <td>...</td>\n",
       "      <td>...</td>\n",
       "      <td>...</td>\n",
       "      <td>...</td>\n",
       "      <td>...</td>\n",
       "      <td>...</td>\n",
       "    </tr>\n",
       "    <tr>\n",
       "      <th>1599995</th>\n",
       "      <td>4</td>\n",
       "      <td>2193601966</td>\n",
       "      <td>Tue Jun 16 08:40:49 PDT 2009</td>\n",
       "      <td>NO_QUERY</td>\n",
       "      <td>AmandaMarie1028</td>\n",
       "      <td>Just woke up. Having no school is the best fee...</td>\n",
       "    </tr>\n",
       "    <tr>\n",
       "      <th>1599996</th>\n",
       "      <td>4</td>\n",
       "      <td>2193601969</td>\n",
       "      <td>Tue Jun 16 08:40:49 PDT 2009</td>\n",
       "      <td>NO_QUERY</td>\n",
       "      <td>TheWDBoards</td>\n",
       "      <td>TheWDB.com - Very cool to hear old Walt interv...</td>\n",
       "    </tr>\n",
       "    <tr>\n",
       "      <th>1599997</th>\n",
       "      <td>4</td>\n",
       "      <td>2193601991</td>\n",
       "      <td>Tue Jun 16 08:40:49 PDT 2009</td>\n",
       "      <td>NO_QUERY</td>\n",
       "      <td>bpbabe</td>\n",
       "      <td>Are you ready for your MoJo Makeover? Ask me f...</td>\n",
       "    </tr>\n",
       "    <tr>\n",
       "      <th>1599998</th>\n",
       "      <td>4</td>\n",
       "      <td>2193602064</td>\n",
       "      <td>Tue Jun 16 08:40:49 PDT 2009</td>\n",
       "      <td>NO_QUERY</td>\n",
       "      <td>tinydiamondz</td>\n",
       "      <td>Happy 38th Birthday to my boo of alll time!!! ...</td>\n",
       "    </tr>\n",
       "    <tr>\n",
       "      <th>1599999</th>\n",
       "      <td>4</td>\n",
       "      <td>2193602129</td>\n",
       "      <td>Tue Jun 16 08:40:50 PDT 2009</td>\n",
       "      <td>NO_QUERY</td>\n",
       "      <td>RyanTrevMorris</td>\n",
       "      <td>happy #charitytuesday @theNSPCC @SparksCharity...</td>\n",
       "    </tr>\n",
       "  </tbody>\n",
       "</table>\n",
       "<p>1600000 rows × 6 columns</p>\n",
       "</div>"
      ],
      "text/plain": [
       "         target         ids                          date      flag  \\\n",
       "0             0  1467810369  Mon Apr 06 22:19:45 PDT 2009  NO_QUERY   \n",
       "1             0  1467810672  Mon Apr 06 22:19:49 PDT 2009  NO_QUERY   \n",
       "2             0  1467810917  Mon Apr 06 22:19:53 PDT 2009  NO_QUERY   \n",
       "3             0  1467811184  Mon Apr 06 22:19:57 PDT 2009  NO_QUERY   \n",
       "4             0  1467811193  Mon Apr 06 22:19:57 PDT 2009  NO_QUERY   \n",
       "...         ...         ...                           ...       ...   \n",
       "1599995       4  2193601966  Tue Jun 16 08:40:49 PDT 2009  NO_QUERY   \n",
       "1599996       4  2193601969  Tue Jun 16 08:40:49 PDT 2009  NO_QUERY   \n",
       "1599997       4  2193601991  Tue Jun 16 08:40:49 PDT 2009  NO_QUERY   \n",
       "1599998       4  2193602064  Tue Jun 16 08:40:49 PDT 2009  NO_QUERY   \n",
       "1599999       4  2193602129  Tue Jun 16 08:40:50 PDT 2009  NO_QUERY   \n",
       "\n",
       "                    user                                               text  \n",
       "0        _TheSpecialOne_  @switchfoot http://twitpic.com/2y1zl - Awww, t...  \n",
       "1          scotthamilton  is upset that he can't update his Facebook by ...  \n",
       "2               mattycus  @Kenichan I dived many times for the ball. Man...  \n",
       "3                ElleCTF    my whole body feels itchy and like its on fire   \n",
       "4                 Karoli  @nationwideclass no, it's not behaving at all....  \n",
       "...                  ...                                                ...  \n",
       "1599995  AmandaMarie1028  Just woke up. Having no school is the best fee...  \n",
       "1599996      TheWDBoards  TheWDB.com - Very cool to hear old Walt interv...  \n",
       "1599997           bpbabe  Are you ready for your MoJo Makeover? Ask me f...  \n",
       "1599998     tinydiamondz  Happy 38th Birthday to my boo of alll time!!! ...  \n",
       "1599999   RyanTrevMorris  happy #charitytuesday @theNSPCC @SparksCharity...  \n",
       "\n",
       "[1600000 rows x 6 columns]"
      ]
     },
     "execution_count": 8,
     "metadata": {},
     "output_type": "execute_result"
    }
   ],
   "source": [
    "tweets"
   ]
  },
  {
   "cell_type": "markdown",
   "id": "856029ec-1cc0-45a2-86cd-f2de23e31d06",
   "metadata": {},
   "source": [
    "Le jeu de données contient 1.6 millions de tweets. La target indique le sentiment associé au tweet : la valeur 0 correspond à un sentiment négatif et la valeur 4 à un sentiment positif. Les classes de sentiments sont bien équilibrées :"
   ]
  },
  {
   "cell_type": "code",
   "execution_count": 9,
   "id": "40647abe-edf1-4abd-a039-9da22ebf22e4",
   "metadata": {},
   "outputs": [
    {
     "data": {
      "image/png": "[encoded data removed]",
      "text/plain": [
       "<Figure size 640x480 with 1 Axes>"
      ]
     },
     "metadata": {},
     "output_type": "display_data"
    }
   ],
   "source": [
    "# affichage de la répartition des classes du dataset\n",
    "tweets['target'].value_counts().plot(kind='bar', color=['skyblue', 'salmon'])\n",
    "plt.title('Répartition des classes de sentiment')\n",
    "plt.xlabel('Classe (0 = négatif, 4 = positif)')\n",
    "plt.ylabel('Nombre de tweets')\n",
    "plt.xticks(rotation=0)\n",
    "plt.grid(axis='y', linestyle='--', alpha=0.7)\n",
    "plt.show()"
   ]
  },
  {
   "cell_type": "markdown",
   "id": "551e5e40-3236-4d17-b6a7-5fcb4c19ea01",
   "metadata": {},
   "source": [
    "Il n'y a pas de valeur manquante parmi les données :"
   ]
  },
  {
   "cell_type": "code",
   "execution_count": 10,
   "id": "27f725cd-adc0-44ed-8a38-48cdd1405a75",
   "metadata": {},
   "outputs": [
    {
     "data": {
      "text/plain": [
       "target    0\n",
       "ids       0\n",
       "date      0\n",
       "flag      0\n",
       "user      0\n",
       "text      0\n",
       "dtype: int64"
      ]
     },
     "execution_count": 10,
     "metadata": {},
     "output_type": "execute_result"
    }
   ],
   "source": [
    "tweets.isnull().sum()"
   ]
  },
  {
   "cell_type": "markdown",
   "id": "b4259464-6f81-471c-bc01-490b03ab4061",
   "metadata": {},
   "source": [
    "On remplace les valeurs \"4\" de la target par \"1\", et on conserve uniquement les colonnes \"target\" et \"text\""
   ]
  },
  {
   "cell_type": "code",
   "execution_count": 11,
   "id": "2240309b-8555-4050-8037-5a57d15ff8bb",
   "metadata": {},
   "outputs": [],
   "source": [
    "# changer les valeurs de la target : 4 ==> 1\n",
    "tweets['target'] = tweets['target'].map({0: 0, 4: 1})"
   ]
  },
  {
   "cell_type": "code",
   "execution_count": 12,
   "id": "929d16de-2614-4c6a-a05d-069138ead60d",
   "metadata": {},
   "outputs": [],
   "source": [
    "tweets = tweets[['target', 'text']]"
   ]
  },
  {
   "cell_type": "markdown",
   "id": "40bfda0f-4a66-4ca1-adc1-166ce30762a1",
   "metadata": {},
   "source": [
    "## Nettoyage des tweets"
   ]
  },
  {
   "cell_type": "code",
   "execution_count": 13,
   "id": "495f98a4-ee4e-434c-9895-5eb1f1b49bf9",
   "metadata": {},
   "outputs": [],
   "source": [
    "# Nettoyer les tweets\n",
    "tweets.loc[:, \"text\"] = tweets[\"text\"].apply(clean_tweet)"
   ]
  },
  {
   "cell_type": "code",
   "execution_count": 14,
   "id": "9bb9133d-30a7-4660-b65f-4d59e9096f14",
   "metadata": {},
   "outputs": [],
   "source": [
    "# Initialiser le lemmatizer\n",
    "lemmatizer = WordNetLemmatizer()\n",
    "# Appliquer la lemmatisation (à décommenter pour tester influence lemmatisation)\n",
    "# tweets['text'] = tweets['text'].apply(lambda x: lemmatize_text(x, lemmatizer))"
   ]
  },
  {
   "cell_type": "markdown",
   "id": "77dc5a58-e4f7-43d1-8d49-94b4a76539bd",
   "metadata": {},
   "source": [
    "## Sélection d'un échantillon"
   ]
  },
  {
   "cell_type": "markdown",
   "id": "17cf547a-ed8f-4636-bd8c-4ef8d8fd368b",
   "metadata": {},
   "source": [
    "En raison de la taille du jeu de données global, on en sélectionne seulement un échantillon :"
   ]
  },
  {
   "cell_type": "code",
   "execution_count": 15,
   "id": "57510412-1d99-4fc6-979d-bf806afd72f4",
   "metadata": {},
   "outputs": [
    {
     "data": {
      "text/html": [
       "<div>\n",
       "<style scoped>\n",
       "    .dataframe tbody tr th:only-of-type {\n",
       "        vertical-align: middle;\n",
       "    }\n",
       "\n",
       "    .dataframe tbody tr th {\n",
       "        vertical-align: top;\n",
       "    }\n",
       "\n",
       "    .dataframe thead th {\n",
       "        text-align: right;\n",
       "    }\n",
       "</style>\n",
       "<table border=\"1\" class=\"dataframe\">\n",
       "  <thead>\n",
       "    <tr style=\"text-align: right;\">\n",
       "      <th></th>\n",
       "      <th>target</th>\n",
       "      <th>text</th>\n",
       "    </tr>\n",
       "  </thead>\n",
       "  <tbody>\n",
       "    <tr>\n",
       "      <th>0</th>\n",
       "      <td>1</td>\n",
       "      <td>forever the sickest kids are soo ace thank you...</td>\n",
       "    </tr>\n",
       "    <tr>\n",
       "      <th>1</th>\n",
       "      <td>1</td>\n",
       "      <td>bike race preparations begin</td>\n",
       "    </tr>\n",
       "    <tr>\n",
       "      <th>2</th>\n",
       "      <td>0</td>\n",
       "      <td>bored out of my mind wheres</td>\n",
       "    </tr>\n",
       "    <tr>\n",
       "      <th>3</th>\n",
       "      <td>0</td>\n",
       "      <td>this is not good  sore throat head ache stuffy...</td>\n",
       "    </tr>\n",
       "    <tr>\n",
       "      <th>4</th>\n",
       "      <td>1</td>\n",
       "      <td>show just wrapped its called quoturban erotica...</td>\n",
       "    </tr>\n",
       "    <tr>\n",
       "      <th>...</th>\n",
       "      <td>...</td>\n",
       "      <td>...</td>\n",
       "    </tr>\n",
       "    <tr>\n",
       "      <th>159995</th>\n",
       "      <td>0</td>\n",
       "      <td>we have lots of raspberries in our yard but t...</td>\n",
       "    </tr>\n",
       "    <tr>\n",
       "      <th>159996</th>\n",
       "      <td>0</td>\n",
       "      <td>just got cupcake whats up with the ui the mus...</td>\n",
       "    </tr>\n",
       "    <tr>\n",
       "      <th>159997</th>\n",
       "      <td>0</td>\n",
       "      <td>is drown in naked in revenge</td>\n",
       "    </tr>\n",
       "    <tr>\n",
       "      <th>159998</th>\n",
       "      <td>1</td>\n",
       "      <td>fixing to practice</td>\n",
       "    </tr>\n",
       "    <tr>\n",
       "      <th>159999</th>\n",
       "      <td>1</td>\n",
       "      <td>you are so right its boring</td>\n",
       "    </tr>\n",
       "  </tbody>\n",
       "</table>\n",
       "<p>160000 rows × 2 columns</p>\n",
       "</div>"
      ],
      "text/plain": [
       "        target                                               text\n",
       "0            1  forever the sickest kids are soo ace thank you...\n",
       "1            1                      bike race preparations begin \n",
       "2            0                      bored out of my mind wheres  \n",
       "3            0  this is not good  sore throat head ache stuffy...\n",
       "4            1  show just wrapped its called quoturban erotica...\n",
       "...        ...                                                ...\n",
       "159995       0   we have lots of raspberries in our yard but t...\n",
       "159996       0   just got cupcake whats up with the ui the mus...\n",
       "159997       0                      is drown in naked in revenge \n",
       "159998       1                                fixing to practice \n",
       "159999       1                       you are so right its boring \n",
       "\n",
       "[160000 rows x 2 columns]"
      ]
     },
     "execution_count": 15,
     "metadata": {},
     "output_type": "execute_result"
    }
   ],
   "source": [
    "sample_size = 0.1 # échantillon de 10%, cette taille peut être modifiée\n",
    "tweets_sample, _ = train_test_split(\n",
    "    tweets,\n",
    "    test_size=(1-sample_size),\n",
    "    stratify=tweets['target'], # pour respecter équilibre des classes\n",
    "    random_state=42\n",
    ")\n",
    "tweets_sample.reset_index(drop=True, inplace=True)\n",
    "tweets_sample"
   ]
  },
  {
   "cell_type": "markdown",
   "id": "c0cba32e-0c53-4a21-9e6f-4fdbaf16def6",
   "metadata": {},
   "source": [
    "## Séparation en données d'entraînement et de test"
   ]
  },
  {
   "cell_type": "markdown",
   "id": "288aa709-d7b3-4a57-94e4-a6d130529d0d",
   "metadata": {},
   "source": [
    "On sépare avec 80 % des données de l'échantillon pour l'entraîment et 20 % pour le test :"
   ]
  },
  {
   "cell_type": "code",
   "execution_count": 16,
   "id": "c51ee879-ec2b-4c3f-b8f0-34c4b461dd3a",
   "metadata": {},
   "outputs": [],
   "source": [
    "X_train, X_test, y_train, y_test = train_test_split(\n",
    "    tweets_sample['text'],\n",
    "    tweets_sample['target'],\n",
    "    test_size=0.2,\n",
    "    random_state=42,\n",
    "    stratify=tweets_sample['target'] # pour respecter équilibre des classes\n",
    ")"
   ]
  },
  {
   "cell_type": "markdown",
   "id": "cfc5021b-ef9b-4f7e-8399-6357844b9e89",
   "metadata": {},
   "source": [
    "# Modèle sur mesure simple"
   ]
  },
  {
   "cell_type": "markdown",
   "id": "f28d31ec-f5bc-439d-965f-6fab5363ce68",
   "metadata": {},
   "source": [
    "Pour le modèle sur mesure simple, on entraîne une regression logisitique. La transformation des tweets en données numérique est effectuée avec une vectorisation TF-IDF."
   ]
  },
  {
   "cell_type": "markdown",
   "id": "127a60ea-c27e-4557-bac6-3216c280d470",
   "metadata": {},
   "source": [
    "## Vectorisation"
   ]
  },
  {
   "cell_type": "code",
   "execution_count": 17,
   "id": "13539fe8-c14d-4d1b-a99d-fece2cf73e25",
   "metadata": {},
   "outputs": [],
   "source": [
    "# Vectorisation TF-IDF\n",
    "vectorizer = TfidfVectorizer()\n",
    "X_train_tfidf = vectorizer.fit_transform(X_train)\n",
    "X_test_tfidf = vectorizer.transform(X_test)"
   ]
  },
  {
   "cell_type": "markdown",
   "id": "f7dbc94a-e1bf-4895-90c3-73bd6c50ea97",
   "metadata": {},
   "source": [
    "## Entraînement avec validation croisée"
   ]
  },
  {
   "cell_type": "code",
   "execution_count": 18,
   "id": "58927653-73b7-41b7-85d8-e8fbc5fbf913",
   "metadata": {},
   "outputs": [],
   "source": [
    "# Initialisation du modèle\n",
    "model_log_reg = LogisticRegression(max_iter=1000, random_state=42)"
   ]
  },
  {
   "cell_type": "markdown",
   "id": "3bcfef36-ffb5-4868-a0e5-0ec8af29e5e7",
   "metadata": {},
   "source": [
    "On entraîne le modèle avec une validation croisée et une optimisation du coefficient de régularisation par recherche sur grille."
   ]
  },
  {
   "cell_type": "code",
   "execution_count": 19,
   "id": "96818c21-2786-44aa-8e16-a7d481be3c9a",
   "metadata": {},
   "outputs": [],
   "source": [
    "param_grid = {\n",
    "    'C': [0.001, 0.01, 0.1, 1.0, 10.0]\n",
    "}"
   ]
  },
  {
   "cell_type": "code",
   "execution_count": 20,
   "id": "9b5e511a-a7a3-4ae9-ad92-aeb0bfc4b13d",
   "metadata": {},
   "outputs": [],
   "source": [
    "# Choix des métriques\n",
    "scorers = {\n",
    "    'AUC':'roc_auc',\n",
    "    'Accuracy': 'accuracy',\n",
    "}"
   ]
  },
  {
   "cell_type": "code",
   "execution_count": 21,
   "id": "39b57200-2b5c-4d4e-87bd-1f08f866a282",
   "metadata": {},
   "outputs": [],
   "source": [
    "# Entrainement du modèle par validation croisée + gridsearch\n",
    "grid_search_log_reg = GridSearchCV(   \n",
    "    model_log_reg, \n",
    "    param_grid=param_grid, \n",
    "    scoring=scorers,          \n",
    "    cv=5,                     # 5-fold cross-validation\n",
    "    refit='Accuracy',         # Refit le meilleur modèle après optimisation\n",
    "    return_train_score=True,\n",
    "    n_jobs=1,\n",
    "    verbose=3\n",
    ")"
   ]
  },
  {
   "cell_type": "code",
   "execution_count": 22,
   "id": "d9c78717-d58a-401d-b6e2-dcd59c6cb018",
   "metadata": {},
   "outputs": [
    {
     "name": "stdout",
     "output_type": "stream",
     "text": [
      "Fitting 5 folds for each of 5 candidates, totalling 25 fits\n",
      "[CV 1/5] END C=0.001; AUC: (train=0.789, test=0.786) Accuracy: (train=0.718, test=0.717) total time=   0.3s\n",
      "[CV 2/5] END C=0.001; AUC: (train=0.790, test=0.785) Accuracy: (train=0.719, test=0.714) total time=   0.2s\n",
      "[CV 3/5] END C=0.001; AUC: (train=0.790, test=0.785) Accuracy: (train=0.719, test=0.714) total time=   0.2s\n",
      "[CV 4/5] END C=0.001; AUC: (train=0.790, test=0.786) Accuracy: (train=0.720, test=0.715) total time=   0.2s\n",
      "[CV 5/5] END C=0.001; AUC: (train=0.790, test=0.786) Accuracy: (train=0.718, test=0.717) total time=   0.2s\n",
      "[CV 1/5] END C=0.01; AUC: (train=0.817, test=0.813) Accuracy: (train=0.742, test=0.739) total time=   0.3s\n",
      "[CV 2/5] END C=0.01; AUC: (train=0.818, test=0.811) Accuracy: (train=0.743, test=0.737) total time=   0.3s\n",
      "[CV 3/5] END C=0.01; AUC: (train=0.818, test=0.811) Accuracy: (train=0.744, test=0.737) total time=   0.2s\n",
      "[CV 4/5] END C=0.01; AUC: (train=0.818, test=0.813) Accuracy: (train=0.744, test=0.738) total time=   0.3s\n",
      "[CV 5/5] END C=0.01; AUC: (train=0.818, test=0.813) Accuracy: (train=0.743, test=0.737) total time=   0.4s\n",
      "[CV 1/5] END C=0.1; AUC: (train=0.862, test=0.850) Accuracy: (train=0.783, test=0.772) total time=   0.7s\n",
      "[CV 2/5] END C=0.1; AUC: (train=0.862, test=0.848) Accuracy: (train=0.784, test=0.769) total time=   1.0s\n",
      "[CV 3/5] END C=0.1; AUC: (train=0.863, test=0.847) Accuracy: (train=0.783, test=0.767) total time=   0.9s\n",
      "[CV 4/5] END C=0.1; AUC: (train=0.862, test=0.849) Accuracy: (train=0.784, test=0.770) total time=   3.8s\n",
      "[CV 5/5] END C=0.1; AUC: (train=0.862, test=0.850) Accuracy: (train=0.783, test=0.772) total time=   0.6s\n",
      "[CV 1/5] END C=1.0; AUC: (train=0.905, test=0.866) Accuracy: (train=0.830, test=0.784) total time=   2.9s\n",
      "[CV 2/5] END C=1.0; AUC: (train=0.905, test=0.866) Accuracy: (train=0.831, test=0.783) total time=   1.8s\n",
      "[CV 3/5] END C=1.0; AUC: (train=0.906, test=0.862) Accuracy: (train=0.830, test=0.782) total time=   2.3s\n",
      "[CV 4/5] END C=1.0; AUC: (train=0.905, test=0.864) Accuracy: (train=0.829, test=0.783) total time=   4.6s\n",
      "[CV 5/5] END C=1.0; AUC: (train=0.905, test=0.867) Accuracy: (train=0.829, test=0.788) total time=   2.2s\n",
      "[CV 1/5] END C=10.0; AUC: (train=0.951, test=0.857) Accuracy: (train=0.892, test=0.773) total time=   8.3s\n",
      "[CV 2/5] END C=10.0; AUC: (train=0.949, test=0.857) Accuracy: (train=0.890, test=0.774) total time=   6.0s\n",
      "[CV 3/5] END C=10.0; AUC: (train=0.948, test=0.854) Accuracy: (train=0.888, test=0.774) total time=   8.6s\n",
      "[CV 4/5] END C=10.0; AUC: (train=0.951, test=0.856) Accuracy: (train=0.893, test=0.774) total time=   8.1s\n",
      "[CV 5/5] END C=10.0; AUC: (train=0.953, test=0.858) Accuracy: (train=0.895, test=0.778) total time=  11.3s\n"
     ]
    },
    {
     "data": {
      "text/html": [
       "<style>#sk-container-id-1 {\n",
       "  /* Definition of color scheme common for light and dark mode */\n",
       "  --sklearn-color-text: #000;\n",
       "  --sklearn-color-text-muted: #666;\n",
       "  --sklearn-color-line: gray;\n",
       "  /* Definition of color scheme for unfitted estimators */\n",
       "  --sklearn-color-unfitted-level-0: #fff5e6;\n",
       "  --sklearn-color-unfitted-level-1: #f6e4d2;\n",
       "  --sklearn-color-unfitted-level-2: #ffe0b3;\n",
       "  --sklearn-color-unfitted-level-3: chocolate;\n",
       "  /* Definition of color scheme for fitted estimators */\n",
       "  --sklearn-color-fitted-level-0: #f0f8ff;\n",
       "  --sklearn-color-fitted-level-1: #d4ebff;\n",
       "  --sklearn-color-fitted-level-2: #b3dbfd;\n",
       "  --sklearn-color-fitted-level-3: cornflowerblue;\n",
       "\n",
       "  /* Specific color for light theme */\n",
       "  --sklearn-color-text-on-default-background: var(--sg-text-color, var(--theme-code-foreground, var(--jp-content-font-color1, black)));\n",
       "  --sklearn-color-background: var(--sg-background-color, var(--theme-background, var(--jp-layout-color0, white)));\n",
       "  --sklearn-color-border-box: var(--sg-text-color, var(--theme-code-foreground, var(--jp-content-font-color1, black)));\n",
       "  --sklearn-color-icon: #696969;\n",
       "\n",
       "  @media (prefers-color-scheme: dark) {\n",
       "    /* Redefinition of color scheme for dark theme */\n",
       "    --sklearn-color-text-on-default-background: var(--sg-text-color, var(--theme-code-foreground, var(--jp-content-font-color1, white)));\n",
       "    --sklearn-color-background: var(--sg-background-color, var(--theme-background, var(--jp-layout-color0, #111)));\n",
       "    --sklearn-color-border-box: var(--sg-text-color, var(--theme-code-foreground, var(--jp-content-font-color1, white)));\n",
       "    --sklearn-color-icon: #878787;\n",
       "  }\n",
       "}\n",
       "\n",
       "#sk-container-id-1 {\n",
       "  color: var(--sklearn-color-text);\n",
       "}\n",
       "\n",
       "#sk-container-id-1 pre {\n",
       "  padding: 0;\n",
       "}\n",
       "\n",
       "#sk-container-id-1 input.sk-hidden--visually {\n",
       "  border: 0;\n",
       "  clip: rect(1px 1px 1px 1px);\n",
       "  clip: rect(1px, 1px, 1px, 1px);\n",
       "  height: 1px;\n",
       "  margin: -1px;\n",
       "  overflow: hidden;\n",
       "  padding: 0;\n",
       "  position: absolute;\n",
       "  width: 1px;\n",
       "}\n",
       "\n",
       "#sk-container-id-1 div.sk-dashed-wrapped {\n",
       "  border: 1px dashed var(--sklearn-color-line);\n",
       "  margin: 0 0.4em 0.5em 0.4em;\n",
       "  box-sizing: border-box;\n",
       "  padding-bottom: 0.4em;\n",
       "  background-color: var(--sklearn-color-background);\n",
       "}\n",
       "\n",
       "#sk-container-id-1 div.sk-container {\n",
       "  /* jupyter's `normalize.less` sets `[hidden] { display: none; }`\n",
       "     but bootstrap.min.css set `[hidden] { display: none !important; }`\n",
       "     so we also need the `!important` here to be able to override the\n",
       "     default hidden behavior on the sphinx rendered scikit-learn.org.\n",
       "     See: https://github.com/scikit-learn/scikit-learn/issues/21755 */\n",
       "  display: inline-block !important;\n",
       "  position: relative;\n",
       "}\n",
       "\n",
       "#sk-container-id-1 div.sk-text-repr-fallback {\n",
       "  display: none;\n",
       "}\n",
       "\n",
       "div.sk-parallel-item,\n",
       "div.sk-serial,\n",
       "div.sk-item {\n",
       "  /* draw centered vertical line to link estimators */\n",
       "  background-image: linear-gradient(var(--sklearn-color-text-on-default-background), var(--sklearn-color-text-on-default-background));\n",
       "  background-size: 2px 100%;\n",
       "  background-repeat: no-repeat;\n",
       "  background-position: center center;\n",
       "}\n",
       "\n",
       "/* Parallel-specific style estimator block */\n",
       "\n",
       "#sk-container-id-1 div.sk-parallel-item::after {\n",
       "  content: \"\";\n",
       "  width: 100%;\n",
       "  border-bottom: 2px solid var(--sklearn-color-text-on-default-background);\n",
       "  flex-grow: 1;\n",
       "}\n",
       "\n",
       "#sk-container-id-1 div.sk-parallel {\n",
       "  display: flex;\n",
       "  align-items: stretch;\n",
       "  justify-content: center;\n",
       "  background-color: var(--sklearn-color-background);\n",
       "  position: relative;\n",
       "}\n",
       "\n",
       "#sk-container-id-1 div.sk-parallel-item {\n",
       "  display: flex;\n",
       "  flex-direction: column;\n",
       "}\n",
       "\n",
       "#sk-container-id-1 div.sk-parallel-item:first-child::after {\n",
       "  align-self: flex-end;\n",
       "  width: 50%;\n",
       "}\n",
       "\n",
       "#sk-container-id-1 div.sk-parallel-item:last-child::after {\n",
       "  align-self: flex-start;\n",
       "  width: 50%;\n",
       "}\n",
       "\n",
       "#sk-container-id-1 div.sk-parallel-item:only-child::after {\n",
       "  width: 0;\n",
       "}\n",
       "\n",
       "/* Serial-specific style estimator block */\n",
       "\n",
       "#sk-container-id-1 div.sk-serial {\n",
       "  display: flex;\n",
       "  flex-direction: column;\n",
       "  align-items: center;\n",
       "  background-color: var(--sklearn-color-background);\n",
       "  padding-right: 1em;\n",
       "  padding-left: 1em;\n",
       "}\n",
       "\n",
       "\n",
       "/* Toggleable style: style used for estimator/Pipeline/ColumnTransformer box that is\n",
       "clickable and can be expanded/collapsed.\n",
       "- Pipeline and ColumnTransformer use this feature and define the default style\n",
       "- Estimators will overwrite some part of the style using the `sk-estimator` class\n",
       "*/\n",
       "\n",
       "/* Pipeline and ColumnTransformer style (default) */\n",
       "\n",
       "#sk-container-id-1 div.sk-toggleable {\n",
       "  /* Default theme specific background. It is overwritten whether we have a\n",
       "  specific estimator or a Pipeline/ColumnTransformer */\n",
       "  background-color: var(--sklearn-color-background);\n",
       "}\n",
       "\n",
       "/* Toggleable label */\n",
       "#sk-container-id-1 label.sk-toggleable__label {\n",
       "  cursor: pointer;\n",
       "  display: flex;\n",
       "  width: 100%;\n",
       "  margin-bottom: 0;\n",
       "  padding: 0.5em;\n",
       "  box-sizing: border-box;\n",
       "  text-align: center;\n",
       "  align-items: start;\n",
       "  justify-content: space-between;\n",
       "  gap: 0.5em;\n",
       "}\n",
       "\n",
       "#sk-container-id-1 label.sk-toggleable__label .caption {\n",
       "  font-size: 0.6rem;\n",
       "  font-weight: lighter;\n",
       "  color: var(--sklearn-color-text-muted);\n",
       "}\n",
       "\n",
       "#sk-container-id-1 label.sk-toggleable__label-arrow:before {\n",
       "  /* Arrow on the left of the label */\n",
       "  content: \"▸\";\n",
       "  float: left;\n",
       "  margin-right: 0.25em;\n",
       "  color: var(--sklearn-color-icon);\n",
       "}\n",
       "\n",
       "#sk-container-id-1 label.sk-toggleable__label-arrow:hover:before {\n",
       "  color: var(--sklearn-color-text);\n",
       "}\n",
       "\n",
       "/* Toggleable content - dropdown */\n",
       "\n",
       "#sk-container-id-1 div.sk-toggleable__content {\n",
       "  max-height: 0;\n",
       "  max-width: 0;\n",
       "  overflow: hidden;\n",
       "  text-align: left;\n",
       "  /* unfitted */\n",
       "  background-color: var(--sklearn-color-unfitted-level-0);\n",
       "}\n",
       "\n",
       "#sk-container-id-1 div.sk-toggleable__content.fitted {\n",
       "  /* fitted */\n",
       "  background-color: var(--sklearn-color-fitted-level-0);\n",
       "}\n",
       "\n",
       "#sk-container-id-1 div.sk-toggleable__content pre {\n",
       "  margin: 0.2em;\n",
       "  border-radius: 0.25em;\n",
       "  color: var(--sklearn-color-text);\n",
       "  /* unfitted */\n",
       "  background-color: var(--sklearn-color-unfitted-level-0);\n",
       "}\n",
       "\n",
       "#sk-container-id-1 div.sk-toggleable__content.fitted pre {\n",
       "  /* unfitted */\n",
       "  background-color: var(--sklearn-color-fitted-level-0);\n",
       "}\n",
       "\n",
       "#sk-container-id-1 input.sk-toggleable__control:checked~div.sk-toggleable__content {\n",
       "  /* Expand drop-down */\n",
       "  max-height: 200px;\n",
       "  max-width: 100%;\n",
       "  overflow: auto;\n",
       "}\n",
       "\n",
       "#sk-container-id-1 input.sk-toggleable__control:checked~label.sk-toggleable__label-arrow:before {\n",
       "  content: \"▾\";\n",
       "}\n",
       "\n",
       "/* Pipeline/ColumnTransformer-specific style */\n",
       "\n",
       "#sk-container-id-1 div.sk-label input.sk-toggleable__control:checked~label.sk-toggleable__label {\n",
       "  color: var(--sklearn-color-text);\n",
       "  background-color: var(--sklearn-color-unfitted-level-2);\n",
       "}\n",
       "\n",
       "#sk-container-id-1 div.sk-label.fitted input.sk-toggleable__control:checked~label.sk-toggleable__label {\n",
       "  background-color: var(--sklearn-color-fitted-level-2);\n",
       "}\n",
       "\n",
       "/* Estimator-specific style */\n",
       "\n",
       "/* Colorize estimator box */\n",
       "#sk-container-id-1 div.sk-estimator input.sk-toggleable__control:checked~label.sk-toggleable__label {\n",
       "  /* unfitted */\n",
       "  background-color: var(--sklearn-color-unfitted-level-2);\n",
       "}\n",
       "\n",
       "#sk-container-id-1 div.sk-estimator.fitted input.sk-toggleable__control:checked~label.sk-toggleable__label {\n",
       "  /* fitted */\n",
       "  background-color: var(--sklearn-color-fitted-level-2);\n",
       "}\n",
       "\n",
       "#sk-container-id-1 div.sk-label label.sk-toggleable__label,\n",
       "#sk-container-id-1 div.sk-label label {\n",
       "  /* The background is the default theme color */\n",
       "  color: var(--sklearn-color-text-on-default-background);\n",
       "}\n",
       "\n",
       "/* On hover, darken the color of the background */\n",
       "#sk-container-id-1 div.sk-label:hover label.sk-toggleable__label {\n",
       "  color: var(--sklearn-color-text);\n",
       "  background-color: var(--sklearn-color-unfitted-level-2);\n",
       "}\n",
       "\n",
       "/* Label box, darken color on hover, fitted */\n",
       "#sk-container-id-1 div.sk-label.fitted:hover label.sk-toggleable__label.fitted {\n",
       "  color: var(--sklearn-color-text);\n",
       "  background-color: var(--sklearn-color-fitted-level-2);\n",
       "}\n",
       "\n",
       "/* Estimator label */\n",
       "\n",
       "#sk-container-id-1 div.sk-label label {\n",
       "  font-family: monospace;\n",
       "  font-weight: bold;\n",
       "  display: inline-block;\n",
       "  line-height: 1.2em;\n",
       "}\n",
       "\n",
       "#sk-container-id-1 div.sk-label-container {\n",
       "  text-align: center;\n",
       "}\n",
       "\n",
       "/* Estimator-specific */\n",
       "#sk-container-id-1 div.sk-estimator {\n",
       "  font-family: monospace;\n",
       "  border: 1px dotted var(--sklearn-color-border-box);\n",
       "  border-radius: 0.25em;\n",
       "  box-sizing: border-box;\n",
       "  margin-bottom: 0.5em;\n",
       "  /* unfitted */\n",
       "  background-color: var(--sklearn-color-unfitted-level-0);\n",
       "}\n",
       "\n",
       "#sk-container-id-1 div.sk-estimator.fitted {\n",
       "  /* fitted */\n",
       "  background-color: var(--sklearn-color-fitted-level-0);\n",
       "}\n",
       "\n",
       "/* on hover */\n",
       "#sk-container-id-1 div.sk-estimator:hover {\n",
       "  /* unfitted */\n",
       "  background-color: var(--sklearn-color-unfitted-level-2);\n",
       "}\n",
       "\n",
       "#sk-container-id-1 div.sk-estimator.fitted:hover {\n",
       "  /* fitted */\n",
       "  background-color: var(--sklearn-color-fitted-level-2);\n",
       "}\n",
       "\n",
       "/* Specification for estimator info (e.g. \"i\" and \"?\") */\n",
       "\n",
       "/* Common style for \"i\" and \"?\" */\n",
       "\n",
       ".sk-estimator-doc-link,\n",
       "a:link.sk-estimator-doc-link,\n",
       "a:visited.sk-estimator-doc-link {\n",
       "  float: right;\n",
       "  font-size: smaller;\n",
       "  line-height: 1em;\n",
       "  font-family: monospace;\n",
       "  background-color: var(--sklearn-color-background);\n",
       "  border-radius: 1em;\n",
       "  height: 1em;\n",
       "  width: 1em;\n",
       "  text-decoration: none !important;\n",
       "  margin-left: 0.5em;\n",
       "  text-align: center;\n",
       "  /* unfitted */\n",
       "  border: var(--sklearn-color-unfitted-level-1) 1pt solid;\n",
       "  color: var(--sklearn-color-unfitted-level-1);\n",
       "}\n",
       "\n",
       ".sk-estimator-doc-link.fitted,\n",
       "a:link.sk-estimator-doc-link.fitted,\n",
       "a:visited.sk-estimator-doc-link.fitted {\n",
       "  /* fitted */\n",
       "  border: var(--sklearn-color-fitted-level-1) 1pt solid;\n",
       "  color: var(--sklearn-color-fitted-level-1);\n",
       "}\n",
       "\n",
       "/* On hover */\n",
       "div.sk-estimator:hover .sk-estimator-doc-link:hover,\n",
       ".sk-estimator-doc-link:hover,\n",
       "div.sk-label-container:hover .sk-estimator-doc-link:hover,\n",
       ".sk-estimator-doc-link:hover {\n",
       "  /* unfitted */\n",
       "  background-color: var(--sklearn-color-unfitted-level-3);\n",
       "  color: var(--sklearn-color-background);\n",
       "  text-decoration: none;\n",
       "}\n",
       "\n",
       "div.sk-estimator.fitted:hover .sk-estimator-doc-link.fitted:hover,\n",
       ".sk-estimator-doc-link.fitted:hover,\n",
       "div.sk-label-container:hover .sk-estimator-doc-link.fitted:hover,\n",
       ".sk-estimator-doc-link.fitted:hover {\n",
       "  /* fitted */\n",
       "  background-color: var(--sklearn-color-fitted-level-3);\n",
       "  color: var(--sklearn-color-background);\n",
       "  text-decoration: none;\n",
       "}\n",
       "\n",
       "/* Span, style for the box shown on hovering the info icon */\n",
       ".sk-estimator-doc-link span {\n",
       "  display: none;\n",
       "  z-index: 9999;\n",
       "  position: relative;\n",
       "  font-weight: normal;\n",
       "  right: .2ex;\n",
       "  padding: .5ex;\n",
       "  margin: .5ex;\n",
       "  width: min-content;\n",
       "  min-width: 20ex;\n",
       "  max-width: 50ex;\n",
       "  color: var(--sklearn-color-text);\n",
       "  box-shadow: 2pt 2pt 4pt #999;\n",
       "  /* unfitted */\n",
       "  background: var(--sklearn-color-unfitted-level-0);\n",
       "  border: .5pt solid var(--sklearn-color-unfitted-level-3);\n",
       "}\n",
       "\n",
       ".sk-estimator-doc-link.fitted span {\n",
       "  /* fitted */\n",
       "  background: var(--sklearn-color-fitted-level-0);\n",
       "  border: var(--sklearn-color-fitted-level-3);\n",
       "}\n",
       "\n",
       ".sk-estimator-doc-link:hover span {\n",
       "  display: block;\n",
       "}\n",
       "\n",
       "/* \"?\"-specific style due to the `<a>` HTML tag */\n",
       "\n",
       "#sk-container-id-1 a.estimator_doc_link {\n",
       "  float: right;\n",
       "  font-size: 1rem;\n",
       "  line-height: 1em;\n",
       "  font-family: monospace;\n",
       "  background-color: var(--sklearn-color-background);\n",
       "  border-radius: 1rem;\n",
       "  height: 1rem;\n",
       "  width: 1rem;\n",
       "  text-decoration: none;\n",
       "  /* unfitted */\n",
       "  color: var(--sklearn-color-unfitted-level-1);\n",
       "  border: var(--sklearn-color-unfitted-level-1) 1pt solid;\n",
       "}\n",
       "\n",
       "#sk-container-id-1 a.estimator_doc_link.fitted {\n",
       "  /* fitted */\n",
       "  border: var(--sklearn-color-fitted-level-1) 1pt solid;\n",
       "  color: var(--sklearn-color-fitted-level-1);\n",
       "}\n",
       "\n",
       "/* On hover */\n",
       "#sk-container-id-1 a.estimator_doc_link:hover {\n",
       "  /* unfitted */\n",
       "  background-color: var(--sklearn-color-unfitted-level-3);\n",
       "  color: var(--sklearn-color-background);\n",
       "  text-decoration: none;\n",
       "}\n",
       "\n",
       "#sk-container-id-1 a.estimator_doc_link.fitted:hover {\n",
       "  /* fitted */\n",
       "  background-color: var(--sklearn-color-fitted-level-3);\n",
       "}\n",
       "</style><div id=\"sk-container-id-1\" class=\"sk-top-container\"><div class=\"sk-text-repr-fallback\"><pre>GridSearchCV(cv=5, estimator=LogisticRegression(max_iter=1000, random_state=42),\n",
       "             n_jobs=1, param_grid={&#x27;C&#x27;: [0.001, 0.01, 0.1, 1.0, 10.0]},\n",
       "             refit=&#x27;Accuracy&#x27;, return_train_score=True,\n",
       "             scoring={&#x27;AUC&#x27;: &#x27;roc_auc&#x27;, &#x27;Accuracy&#x27;: &#x27;accuracy&#x27;}, verbose=3)</pre><b>In a Jupyter environment, please rerun this cell to show the HTML representation or trust the notebook. <br />On GitHub, the HTML representation is unable to render, please try loading this page with nbviewer.org.</b></div><div class=\"sk-container\" hidden><div class=\"sk-item sk-dashed-wrapped\"><div class=\"sk-label-container\"><div class=\"sk-label fitted sk-toggleable\"><input class=\"sk-toggleable__control sk-hidden--visually\" id=\"sk-estimator-id-1\" type=\"checkbox\" ><label for=\"sk-estimator-id-1\" class=\"sk-toggleable__label fitted sk-toggleable__label-arrow\"><div><div>GridSearchCV</div></div><div><a class=\"sk-estimator-doc-link fitted\" rel=\"noreferrer\" target=\"_blank\" href=\"https://scikit-learn.org/1.6/modules/generated/sklearn.model_selection.GridSearchCV.html\">?<span>Documentation for GridSearchCV</span></a><span class=\"sk-estimator-doc-link fitted\">i<span>Fitted</span></span></div></label><div class=\"sk-toggleable__content fitted\"><pre>GridSearchCV(cv=5, estimator=LogisticRegression(max_iter=1000, random_state=42),\n",
       "             n_jobs=1, param_grid={&#x27;C&#x27;: [0.001, 0.01, 0.1, 1.0, 10.0]},\n",
       "             refit=&#x27;Accuracy&#x27;, return_train_score=True,\n",
       "             scoring={&#x27;AUC&#x27;: &#x27;roc_auc&#x27;, &#x27;Accuracy&#x27;: &#x27;accuracy&#x27;}, verbose=3)</pre></div> </div></div><div class=\"sk-parallel\"><div class=\"sk-parallel-item\"><div class=\"sk-item\"><div class=\"sk-label-container\"><div class=\"sk-label fitted sk-toggleable\"><input class=\"sk-toggleable__control sk-hidden--visually\" id=\"sk-estimator-id-2\" type=\"checkbox\" ><label for=\"sk-estimator-id-2\" class=\"sk-toggleable__label fitted sk-toggleable__label-arrow\"><div><div>best_estimator_: LogisticRegression</div></div></label><div class=\"sk-toggleable__content fitted\"><pre>LogisticRegression(max_iter=1000, random_state=42)</pre></div> </div></div><div class=\"sk-serial\"><div class=\"sk-item\"><div class=\"sk-estimator fitted sk-toggleable\"><input class=\"sk-toggleable__control sk-hidden--visually\" id=\"sk-estimator-id-3\" type=\"checkbox\" ><label for=\"sk-estimator-id-3\" class=\"sk-toggleable__label fitted sk-toggleable__label-arrow\"><div><div>LogisticRegression</div></div><div><a class=\"sk-estimator-doc-link fitted\" rel=\"noreferrer\" target=\"_blank\" href=\"https://scikit-learn.org/1.6/modules/generated/sklearn.linear_model.LogisticRegression.html\">?<span>Documentation for LogisticRegression</span></a></div></label><div class=\"sk-toggleable__content fitted\"><pre>LogisticRegression(max_iter=1000, random_state=42)</pre></div> </div></div></div></div></div></div></div></div></div>"
      ],
      "text/plain": [
       "GridSearchCV(cv=5, estimator=LogisticRegression(max_iter=1000, random_state=42),\n",
       "             n_jobs=1, param_grid={'C': [0.001, 0.01, 0.1, 1.0, 10.0]},\n",
       "             refit='Accuracy', return_train_score=True,\n",
       "             scoring={'AUC': 'roc_auc', 'Accuracy': 'accuracy'}, verbose=3)"
      ]
     },
     "execution_count": 22,
     "metadata": {},
     "output_type": "execute_result"
    }
   ],
   "source": [
    "# Entraînement du modèle\n",
    "grid_search_log_reg.fit(X_train_tfidf, y_train)"
   ]
  },
  {
   "cell_type": "markdown",
   "id": "a79d12af-8c36-415a-8372-72a02b26154c",
   "metadata": {},
   "source": [
    "## Résultats de validation croisée"
   ]
  },
  {
   "cell_type": "code",
   "execution_count": 23,
   "id": "8a15bae0-9c68-42da-9bc6-300b0caed5a2",
   "metadata": {},
   "outputs": [
    {
     "name": "stdout",
     "output_type": "stream",
     "text": [
      "Meilleur score : 0.784\n",
      "Meilleurs paramètres : {'C': 1.0}\n"
     ]
    }
   ],
   "source": [
    "# Récupérer l'accuracy et les paramètres du meilleur modèle\n",
    "print('Meilleur score :', grid_search_log_reg.best_score_.round(3))\n",
    "print('Meilleurs paramètres :', grid_search_log_reg.best_params_)"
   ]
  },
  {
   "cell_type": "markdown",
   "id": "9c646bc8-72ea-413e-a9c6-ce18c6c85724",
   "metadata": {},
   "source": [
    "Résultats de la recherche par grille :"
   ]
  },
  {
   "cell_type": "code",
   "execution_count": 24,
   "id": "4b9e9fc2-d3c0-4b47-b276-6833ad4a411e",
   "metadata": {},
   "outputs": [
    {
     "data": {
      "text/html": [
       "<div>\n",
       "<style scoped>\n",
       "    .dataframe tbody tr th:only-of-type {\n",
       "        vertical-align: middle;\n",
       "    }\n",
       "\n",
       "    .dataframe tbody tr th {\n",
       "        vertical-align: top;\n",
       "    }\n",
       "\n",
       "    .dataframe thead th {\n",
       "        text-align: right;\n",
       "    }\n",
       "</style>\n",
       "<table border=\"1\" class=\"dataframe\">\n",
       "  <thead>\n",
       "    <tr style=\"text-align: right;\">\n",
       "      <th></th>\n",
       "      <th>rank_test_Accuracy</th>\n",
       "      <th>params</th>\n",
       "      <th>mean_test_Accuracy</th>\n",
       "      <th>mean_test_AUC</th>\n",
       "      <th>mean_fit_time</th>\n",
       "      <th>mean_score_time</th>\n",
       "    </tr>\n",
       "  </thead>\n",
       "  <tbody>\n",
       "    <tr>\n",
       "      <th>3</th>\n",
       "      <td>1</td>\n",
       "      <td>{'C': 1.0}</td>\n",
       "      <td>0.784047</td>\n",
       "      <td>0.864889</td>\n",
       "      <td>2.734610</td>\n",
       "      <td>0.024723</td>\n",
       "    </tr>\n",
       "    <tr>\n",
       "      <th>4</th>\n",
       "      <td>2</td>\n",
       "      <td>{'C': 10.0}</td>\n",
       "      <td>0.774570</td>\n",
       "      <td>0.856354</td>\n",
       "      <td>8.460350</td>\n",
       "      <td>0.019728</td>\n",
       "    </tr>\n",
       "    <tr>\n",
       "      <th>2</th>\n",
       "      <td>3</td>\n",
       "      <td>{'C': 0.1}</td>\n",
       "      <td>0.770102</td>\n",
       "      <td>0.848895</td>\n",
       "      <td>1.389800</td>\n",
       "      <td>0.014289</td>\n",
       "    </tr>\n",
       "    <tr>\n",
       "      <th>1</th>\n",
       "      <td>4</td>\n",
       "      <td>{'C': 0.01}</td>\n",
       "      <td>0.737547</td>\n",
       "      <td>0.812238</td>\n",
       "      <td>0.280864</td>\n",
       "      <td>0.014218</td>\n",
       "    </tr>\n",
       "    <tr>\n",
       "      <th>0</th>\n",
       "      <td>5</td>\n",
       "      <td>{'C': 0.001}</td>\n",
       "      <td>0.715094</td>\n",
       "      <td>0.785836</td>\n",
       "      <td>0.224189</td>\n",
       "      <td>0.013649</td>\n",
       "    </tr>\n",
       "  </tbody>\n",
       "</table>\n",
       "</div>"
      ],
      "text/plain": [
       "   rank_test_Accuracy        params  mean_test_Accuracy  mean_test_AUC  \\\n",
       "3                   1    {'C': 1.0}            0.784047       0.864889   \n",
       "4                   2   {'C': 10.0}            0.774570       0.856354   \n",
       "2                   3    {'C': 0.1}            0.770102       0.848895   \n",
       "1                   4   {'C': 0.01}            0.737547       0.812238   \n",
       "0                   5  {'C': 0.001}            0.715094       0.785836   \n",
       "\n",
       "   mean_fit_time  mean_score_time  \n",
       "3       2.734610         0.024723  \n",
       "4       8.460350         0.019728  \n",
       "2       1.389800         0.014289  \n",
       "1       0.280864         0.014218  \n",
       "0       0.224189         0.013649  "
      ]
     },
     "metadata": {},
     "output_type": "display_data"
    }
   ],
   "source": [
    "results_df = pd.DataFrame(grid_search_log_reg.cv_results_)\n",
    "\n",
    "# Trier les résultats par accuracy décroissante \n",
    "results_df = results_df.sort_values(by='rank_test_Accuracy')\n",
    "\n",
    "# Sélection des colonnes \n",
    "columns_of_interest = ['rank_test_Accuracy', 'params', 'mean_test_Accuracy',\n",
    "                           'mean_test_AUC', 'mean_fit_time', 'mean_score_time'\n",
    "                          ]\n",
    "\n",
    "display(results_df[columns_of_interest])"
   ]
  },
  {
   "cell_type": "markdown",
   "id": "cb1393a6-416b-4802-9d9c-7b1ca6772929",
   "metadata": {},
   "source": [
    "## Prédiction sur les données de test"
   ]
  },
  {
   "cell_type": "markdown",
   "id": "e7a6e1dc-20e6-4068-a148-c50385a4cc09",
   "metadata": {},
   "source": [
    "On utilise le meilleur modèle pour effectuer les prédictions sur les données de test :"
   ]
  },
  {
   "cell_type": "code",
   "execution_count": 25,
   "id": "3fecc112-7f3e-4ebb-b1ac-de00464432ac",
   "metadata": {},
   "outputs": [],
   "source": [
    "# prédictions sur le jeu de test\n",
    "start_pred_time = time.time() \n",
    "y_pred_test = grid_search_log_reg.best_estimator_.predict(X_test_tfidf)\n",
    "test_pred_time = time.time() - start_pred_time\n",
    "\n",
    "y_proba_test = grid_search_log_reg.best_estimator_.predict_proba(X_test_tfidf)[:, 1]"
   ]
  },
  {
   "cell_type": "markdown",
   "id": "e67c2f8b-12c4-4345-8cdd-b59844fc6fcf",
   "metadata": {},
   "source": [
    "## Calcul des métriques"
   ]
  },
  {
   "cell_type": "markdown",
   "id": "12084b92-a853-48bb-9311-b25229c6993e",
   "metadata": {},
   "source": [
    "On calcule les différentes métriques :"
   ]
  },
  {
   "cell_type": "code",
   "execution_count": 26,
   "id": "a8053e4a-5411-471c-9252-5840ad379ad9",
   "metadata": {},
   "outputs": [
    {
     "name": "stdout",
     "output_type": "stream",
     "text": [
      "Train Accuracy: 0.830\n",
      "Train AUC: 0.905\n",
      "Test Accuracy: 0.789\n",
      "Test AUC: 0.868\n"
     ]
    }
   ],
   "source": [
    "# Récupère les scores obtenus sur le jeu d'entraînement\n",
    "train_accuracy = results_df['mean_train_Accuracy'].iloc[0]\n",
    "train_AUC = results_df['mean_train_AUC'].iloc[0]\n",
    "\n",
    "# Calcul des métriques sur le jeu de test\n",
    "test_accuracy = accuracy_score(y_test, y_pred_test)\n",
    "test_AUC = roc_auc_score(y_test, y_proba_test)\n",
    "\n",
    "print(f'Train Accuracy: {train_accuracy:.3f}')\n",
    "print(f'Train AUC: {train_AUC:.3f}')\n",
    "print(f'Test Accuracy: {test_accuracy:.3f}')\n",
    "print(f'Test AUC: {test_AUC:.3f}')"
   ]
  },
  {
   "cell_type": "markdown",
   "id": "4de70a8a-4bb9-4457-b0f9-1de71c8d7ff5",
   "metadata": {},
   "source": [
    "## Enregistrements avec MLflow"
   ]
  },
  {
   "cell_type": "markdown",
   "id": "5ce55423-6701-413b-a7b3-9f33e15e70a8",
   "metadata": {},
   "source": [
    "On rassemble les éléments à enregistrer dans des dictionnaires :"
   ]
  },
  {
   "cell_type": "code",
   "execution_count": 27,
   "id": "68971fc7-ea33-4c1e-89b8-db8aa44197d4",
   "metadata": {},
   "outputs": [],
   "source": [
    "# Dictionnaire des métriques\n",
    "metrics = {\n",
    "    'Train Accuracy': train_accuracy,\n",
    "    'Test Accuracy': test_accuracy,\n",
    "    'Train AUC': train_AUC,\n",
    "    'Test AUC': test_AUC,\n",
    "}"
   ]
  },
  {
   "cell_type": "code",
   "execution_count": 28,
   "id": "b06caf8e-a8f6-4a1a-b3ff-3ebe512c09dd",
   "metadata": {},
   "outputs": [],
   "source": [
    "# Tracé de la courbe ROC\n",
    "fpr, tpr, _ = roc_curve(y_test, y_proba_test)\n",
    "sns.set()\n",
    "plt.figure()\n",
    "plt.plot(fpr, tpr, label='ROC curve')\n",
    "plt.xlabel('False Positive Rate', fontsize=12)\n",
    "plt.ylabel('True Positive Rate', fontsize=12)\n",
    "plt.title(f'ROC Curve (Test Data) - Régression Logistique - AUC = {test_AUC:.3f}',\n",
    "          fontweight='bold', fontsize=14)\n",
    "plt.savefig('roc_curve_log_reg.png')\n",
    "plt.close()"
   ]
  },
  {
   "cell_type": "code",
   "execution_count": 29,
   "id": "0b9212dd-4c22-480e-a50e-9562b93e152a",
   "metadata": {},
   "outputs": [],
   "source": [
    "# Dictionnaire des artefacts\n",
    "artifacts = {\n",
    "    'roc_curve': 'roc_curve_log_reg.png',\n",
    "}"
   ]
  },
  {
   "cell_type": "code",
   "execution_count": 30,
   "id": "1fe77c9a-3daa-4095-a023-82fd45b9b241",
   "metadata": {},
   "outputs": [],
   "source": [
    "fit_time = results_df['mean_fit_time'].iloc[0]"
   ]
  },
  {
   "cell_type": "code",
   "execution_count": 31,
   "id": "9026ad95-de9a-4e54-ac51-ab26d1cc647e",
   "metadata": {},
   "outputs": [],
   "source": [
    "# Dictionnaire des temps de calcul\n",
    "times = {\n",
    "    'fit_time': fit_time, \n",
    "    'test_predict_time': test_pred_time\n",
    "}"
   ]
  },
  {
   "cell_type": "code",
   "execution_count": 32,
   "id": "e1bcef73-a7ad-46da-bb98-a53c61caf961",
   "metadata": {},
   "outputs": [],
   "source": [
    "# Exemple de donnée d'entrée du modèle\n",
    "input_example = vectorizer.transform(['Exemple de texte pour signature modèle.'])"
   ]
  },
  {
   "cell_type": "code",
   "execution_count": 33,
   "id": "1650bb7a-4be3-4c01-a8ba-07fba9136e64",
   "metadata": {},
   "outputs": [],
   "source": [
    "# Défini le dossier où sont enregistrées les expérimentations\n",
    "mlflow.set_tracking_uri(\"../mlruns/\")"
   ]
  },
  {
   "cell_type": "code",
   "execution_count": 34,
   "id": "c6effcee-3154-4510-a112-c8a954a966ca",
   "metadata": {},
   "outputs": [
    {
     "name": "stdout",
     "output_type": "stream",
     "text": [
      "Modèle et résultats enregistrés dans MLflow sous le run ID: 39e7c3ecced940ccb39e4fc2001a684c\n"
     ]
    }
   ],
   "source": [
    "# Appel de la fonction de log MLflow\n",
    "log_experiment(\n",
    "    grid_search_log_reg.best_estimator_,\n",
    "    grid_search_log_reg.best_params_,\n",
    "    metrics,\n",
    "    artifacts,\n",
    "    input_example,\n",
    "    times,\n",
    "    \"Logistic_regression\"\n",
    ")"
   ]
  },
  {
   "cell_type": "markdown",
   "id": "1be8aa9c-136d-4099-beaa-d0d2c6fcb04d",
   "metadata": {},
   "source": [
    "# Modèles sur mesure avancés"
   ]
  },
  {
   "cell_type": "markdown",
   "id": "d576ec75-5053-472a-8368-1659730e94e5",
   "metadata": {},
   "source": [
    "On teste deux types de modèles utilisant des réseaux de neurones profonds : un modèle LSTM Bi-directionnel (réseau de neurones récurrent) et un réseau de convolution (CNN)."
   ]
  },
  {
   "cell_type": "markdown",
   "id": "d17e37cc-4b2d-4904-842e-af8014404eb3",
   "metadata": {},
   "source": [
    "## Fonctions de construction des modèles"
   ]
  },
  {
   "cell_type": "code",
   "execution_count": 35,
   "id": "8604c0da-2ed5-4457-bfa4-172ba2fb4e1c",
   "metadata": {},
   "outputs": [],
   "source": [
    "def build_LSTM_model(embedding_matrix):\n",
    "    \"\"\"\n",
    "    Construit un modèle de classification binaire basé sur un réseau BiLSTM avec\n",
    "    embeddings pré-entraînés.\n",
    "\n",
    "    Parameters\n",
    "    ----------\n",
    "    embedding_matrix : np.ndarray\n",
    "        Matrice d'embedding pré-entraînée (par ex. GloVe), de forme (vocab_size, embedding_dim).\n",
    "        Elle est utilisée pour initialiser la couche d’embedding et reste figée pendant l’entraînement.\n",
    "\n",
    "    Returns\n",
    "    -------\n",
    "    model : tf.keras.Model\n",
    "        Modèle Keras compilé, prêt à être entraîné.\n",
    "    \"\"\"\n",
    "    max_words = embedding_matrix.shape[0]\n",
    "    embedding_dim = embedding_matrix.shape[1]\n",
    "    model = Sequential([\n",
    "    Embedding(input_dim=max_words,\n",
    "              output_dim=embedding_dim,\n",
    "              weights=[embedding_matrix],\n",
    "              trainable=False),\n",
    "    Bidirectional(LSTM(128, dropout=0.4)),\n",
    "    Dense(1, activation='sigmoid')\n",
    "    ])\n",
    "\n",
    "    model.compile(optimizer=Adam(learning_rate=0.0005),\n",
    "                   loss='binary_crossentropy',\n",
    "                   metrics=['accuracy', AUC(name=\"auc\")])\n",
    "\n",
    "    return model"
   ]
  },
  {
   "cell_type": "code",
   "execution_count": 36,
   "id": "a5b71f29-393d-4eb8-8740-8aa41f103900",
   "metadata": {},
   "outputs": [],
   "source": [
    "def build_CNN_model(embedding_matrix):\n",
    "    \"\"\"\n",
    "    Construit un modèle de classification binaire basé sur un réseau CNN avec\n",
    "    embeddings pré-entraînés.\n",
    "\n",
    "    Parameters\n",
    "    ----------\n",
    "    embedding_matrix : np.ndarray\n",
    "        Matrice d'embedding pré-entraînée (par ex. GloVe), de forme (vocab_size, embedding_dim).\n",
    "        Elle est utilisée pour initialiser la couche d’embedding et reste figée pendant l’entraînement.\n",
    "\n",
    "    Returns\n",
    "    -------\n",
    "    model : tf.keras.Model\n",
    "        Modèle Keras compilé, prêt à être entraîné.\n",
    "    \"\"\"\n",
    "    max_words = embedding_matrix.shape[0]\n",
    "    embedding_dim = embedding_matrix.shape[1]\n",
    "    model = Sequential([\n",
    "    Embedding(input_dim=max_words,\n",
    "              output_dim=embedding_dim,\n",
    "              weights=[embedding_matrix],\n",
    "              input_length=max_len,\n",
    "              trainable=False),\n",
    "    Conv1D(filters=128, kernel_size=3, activation='relu', padding='valid'),\n",
    "    GlobalMaxPooling1D(),\n",
    "    Dropout(0.5),\n",
    "    Dense(1, activation='sigmoid')\n",
    "    ])\n",
    "\n",
    "    model.compile(optimizer=Adam(learning_rate=0.0005),\n",
    "                   loss='binary_crossentropy',\n",
    "                   metrics=['accuracy', AUC(name=\"auc\")])\n",
    "\n",
    "    return model"
   ]
  },
  {
   "cell_type": "markdown",
   "id": "5bf6db03-f89c-4800-834f-08276a6851bf",
   "metadata": {},
   "source": [
    "## Fonction de prétraitement"
   ]
  },
  {
   "cell_type": "code",
   "execution_count": 37,
   "id": "98473994-9d03-4e63-aed7-cfc5ef057373",
   "metadata": {},
   "outputs": [],
   "source": [
    "def tokenize_and_pad(corpus, X_train, X_test, max_words=10000, max_len=100):\n",
    "    \"\"\"\n",
    "    Transforme les textes d'entraînement et de test en séquences d'entiers paddées,\n",
    "    en utilisant un tokenizer entraîné sur l'ensemble complet des textes.\n",
    "\n",
    "    Parameters\n",
    "    ----------\n",
    "    corpus: Liste ou série de tous les textes disponibles pour entraîner le tokenizer.\n",
    "    X_train: Liste ou série de textes d'entraînement.\n",
    "    X_test: Liste ou série de textes de test.\n",
    "    max_words: Nombre maximum de mots à garder dans le vocabulaire.\n",
    "    max_len: Longueur maximale des séquences (avec padding).\n",
    "\n",
    "    Returns\n",
    "    ----------\n",
    "    Tuple (X_train_padded, X_test_padded, tokenizer)\n",
    "        - X_train_padded : tableau numpy de séquences d'entiers pour l'entraînement\n",
    "        - X_test_padded : tableau numpy de séquences d'entiers pour le test\n",
    "        - tokenizer : objet Tokenizer entraîné sur tous les textes\n",
    "    \"\"\"\n",
    "    # Entraîner le tokenizer sur tous les textes disponibles\n",
    "    tokenizer = Tokenizer(num_words=max_words, lower=True, split=' ')\n",
    "    tokenizer.fit_on_texts(corpus)\n",
    "\n",
    "    # Transformer les textes d'entraînement et de test en séquences d'entiers\n",
    "    sequences_train = tokenizer.texts_to_sequences(X_train)\n",
    "    sequences_test = tokenizer.texts_to_sequences(X_test)\n",
    "\n",
    "    # Appliquer le padding\n",
    "    X_train_padded = pad_sequences(sequences_train, maxlen=max_len)\n",
    "    X_test_padded = pad_sequences(sequences_test, maxlen=max_len)\n",
    "\n",
    "    return X_train_padded, X_test_padded, tokenizer"
   ]
  },
  {
   "cell_type": "code",
   "execution_count": 38,
   "id": "b2902716-75f2-4200-ba7e-abc22fe72d1a",
   "metadata": {},
   "outputs": [],
   "source": [
    "max_words = 10000\n",
    "max_len = 100\n",
    "X_train_padded, X_test_padded, tokenizer = tokenize_and_pad(\n",
    "    tweets['text'],\n",
    "    X_train,\n",
    "    X_test,\n",
    "    max_words,\n",
    "    max_len\n",
    ")"
   ]
  },
  {
   "cell_type": "markdown",
   "id": "c3bd26bd-e656-4121-9dbd-6ca2c237eb17",
   "metadata": {},
   "source": [
    "## Matrices d'embeddings"
   ]
  },
  {
   "cell_type": "markdown",
   "id": "2b0950c1-ed44-4e3c-9359-ccf416ecbba6",
   "metadata": {},
   "source": [
    "Dans le cas du modèle LSTM, deux types de word embeddings ont été comparés : un embedding word2vec que l'on a entrainé sur l'ensemble des tweets de Sentiment140 et un embedding GloVe pré-entraîné sur un total de 2 milliards de tweets."
   ]
  },
  {
   "cell_type": "code",
   "execution_count": 39,
   "id": "a3256c90-9a16-4553-ab48-4379190ca5b8",
   "metadata": {},
   "outputs": [],
   "source": [
    "def w2v_embedding_matrix(tokenizer, word2vec_model, max_words, embedding_dim):\n",
    "    \"\"\"\n",
    "    Crée une matrice d'embedding à partir d'un modèle Word2Vec entraîné.\n",
    "\n",
    "    :param tokenizer: Tokenizer ajusté sur le texte.\n",
    "    :param word2vec_model: Modèle Word2Vec entraîné.\n",
    "    :param max_words: Nombre de mots dans le vocabulaire.\n",
    "    :param embedding_dim: Dimension des embeddings.\n",
    "    :return: Matrice d'embedding.\n",
    "    \"\"\"\n",
    "    # Créer une matrice d'embedding\n",
    "    embedding_matrix = np.zeros((max_words, embedding_dim))\n",
    "\n",
    "    for word, i in tokenizer.word_index.items():\n",
    "        if i < max_words:\n",
    "            if word in word2vec_model.wv:\n",
    "                embedding_matrix[i] = word2vec_model.wv[word]\n",
    "\n",
    "    return embedding_matrix"
   ]
  },
  {
   "cell_type": "code",
   "execution_count": 40,
   "id": "34fe33a0-30ab-44f9-b709-046d23a629a2",
   "metadata": {},
   "outputs": [],
   "source": [
    "def glove_embedding_matrix(tokenizer, max_words, embedding_dim=100):\n",
    "    \"\"\"\n",
    "    Crée une matrice d'embedding à partir des embeddings GloVe chargés via Gensim.\n",
    "\n",
    "    :param tokenizer: Tokenizer ajusté sur le texte.\n",
    "    :param max_words: Nombre de mots dans le vocabulaire.\n",
    "    :param embedding_dim: Dimension des embeddings GloVe.\n",
    "    :return: Matrice d'embedding.\n",
    "    \"\"\"\n",
    "    # Charger les embeddings GloVe via Gensim\n",
    "    glove_model = api.load('glove-twitter-100')\n",
    "\n",
    "    # Créer une matrice d'embedding\n",
    "    embedding_matrix = np.zeros((max_words, embedding_dim))\n",
    "\n",
    "    for word, i in tokenizer.word_index.items():\n",
    "        if i < max_words:\n",
    "            if word in glove_model:\n",
    "                embedding_matrix[i] = glove_model[word]\n",
    "\n",
    "    return embedding_matrix"
   ]
  },
  {
   "cell_type": "markdown",
   "id": "1bfcfc91-f362-4763-92b5-a5f315a6e066",
   "metadata": {},
   "source": [
    "## LSTM avec embeddings Word2Vec"
   ]
  },
  {
   "cell_type": "markdown",
   "id": "edd1aa38-e4af-4c5a-bb71-ef4f4a8c03e2",
   "metadata": {},
   "source": [
    "Entraînement de l'embedding word2vec sur l'ensemble des tweets de Sentiment140 (pas que sur l'échantillon) :"
   ]
  },
  {
   "cell_type": "code",
   "execution_count": 41,
   "id": "981a6299-759a-4976-bc6c-24de20395675",
   "metadata": {},
   "outputs": [
    {
     "name": "stdout",
     "output_type": "stream",
     "text": [
      "Chargement du modèle Word2Vec existant...\n"
     ]
    }
   ],
   "source": [
    "w2v_path = \"twitter_word2vec.model\"\n",
    "\n",
    "# vérifier si le model a déjà été entrainé et enregistré\n",
    "if os.path.exists(w2v_path):\n",
    "    print(\"Chargement du modèle Word2Vec existant...\")\n",
    "    word2vec_model = Word2Vec.load(w2v_path)\n",
    "else:\n",
    "    print(\"Entraînement d'un nouveau modèle Word2Vec...\")\n",
    "    tokenized_text = tweets['text'].apply(word_tokenize)\n",
    "    word2vec_model = Word2Vec(\n",
    "        sentences=tokenized_text,\n",
    "        vector_size=100,\n",
    "        window=4,\n",
    "        min_count=2\n",
    "    )    \n",
    "    word2vec_model.save(w2v_path)\n",
    "    print(\"Modèle entraîné et sauvegardé.\")"
   ]
  },
  {
   "cell_type": "code",
   "execution_count": 42,
   "id": "11963b39-0c34-4b29-81a9-4e45fe64dfb7",
   "metadata": {},
   "outputs": [],
   "source": [
    "# construction de la matrice d'embeddings\n",
    "embedding_matrix = w2v_embedding_matrix(tokenizer, word2vec_model, max_words,\n",
    "                                        embedding_dim=100)"
   ]
  },
  {
   "cell_type": "code",
   "execution_count": 43,
   "id": "45a4573b-0124-4511-9456-3276d6863a20",
   "metadata": {},
   "outputs": [
    {
     "name": "stderr",
     "output_type": "stream",
     "text": [
      "2025-05-05 21:01:26.583021: I external/local_xla/xla/stream_executor/cuda/cuda_executor.cc:887] could not open file to read NUMA node: /sys/bus/pci/devices/0000:0b:00.0/numa_node\n",
      "Your kernel may have been built without NUMA support.\n",
      "2025-05-05 21:01:26.639475: I external/local_xla/xla/stream_executor/cuda/cuda_executor.cc:887] could not open file to read NUMA node: /sys/bus/pci/devices/0000:0b:00.0/numa_node\n",
      "Your kernel may have been built without NUMA support.\n",
      "2025-05-05 21:01:26.639537: I external/local_xla/xla/stream_executor/cuda/cuda_executor.cc:887] could not open file to read NUMA node: /sys/bus/pci/devices/0000:0b:00.0/numa_node\n",
      "Your kernel may have been built without NUMA support.\n",
      "2025-05-05 21:01:26.643788: I external/local_xla/xla/stream_executor/cuda/cuda_executor.cc:887] could not open file to read NUMA node: /sys/bus/pci/devices/0000:0b:00.0/numa_node\n",
      "Your kernel may have been built without NUMA support.\n",
      "2025-05-05 21:01:26.643866: I external/local_xla/xla/stream_executor/cuda/cuda_executor.cc:887] could not open file to read NUMA node: /sys/bus/pci/devices/0000:0b:00.0/numa_node\n",
      "Your kernel may have been built without NUMA support.\n",
      "2025-05-05 21:01:26.643916: I external/local_xla/xla/stream_executor/cuda/cuda_executor.cc:887] could not open file to read NUMA node: /sys/bus/pci/devices/0000:0b:00.0/numa_node\n",
      "Your kernel may have been built without NUMA support.\n",
      "2025-05-05 21:01:26.829132: I external/local_xla/xla/stream_executor/cuda/cuda_executor.cc:887] could not open file to read NUMA node: /sys/bus/pci/devices/0000:0b:00.0/numa_node\n",
      "Your kernel may have been built without NUMA support.\n",
      "2025-05-05 21:01:26.829202: I external/local_xla/xla/stream_executor/cuda/cuda_executor.cc:887] could not open file to read NUMA node: /sys/bus/pci/devices/0000:0b:00.0/numa_node\n",
      "Your kernel may have been built without NUMA support.\n",
      "2025-05-05 21:01:26.829210: I tensorflow/core/common_runtime/gpu/gpu_device.cc:2022] Could not identify NUMA node of platform GPU id 0, defaulting to 0.  Your kernel may not have been built with NUMA support.\n",
      "2025-05-05 21:01:26.829261: I external/local_xla/xla/stream_executor/cuda/cuda_executor.cc:887] could not open file to read NUMA node: /sys/bus/pci/devices/0000:0b:00.0/numa_node\n",
      "Your kernel may have been built without NUMA support.\n",
      "2025-05-05 21:01:26.829278: I tensorflow/core/common_runtime/gpu/gpu_device.cc:1929] Created device /job:localhost/replica:0/task:0/device:GPU:0 with 6073 MB memory:  -> device: 0, name: NVIDIA GeForce RTX 2070 SUPER, pci bus id: 0000:0b:00.0, compute capability: 7.5\n"
     ]
    },
    {
     "name": "stdout",
     "output_type": "stream",
     "text": [
      "Model: \"sequential\"\n",
      "_________________________________________________________________\n",
      " Layer (type)                Output Shape              Param #   \n",
      "=================================================================\n",
      " embedding (Embedding)       (None, None, 100)         1000000   \n",
      "                                                                 \n",
      " bidirectional (Bidirection  (None, 256)               234496    \n",
      " al)                                                             \n",
      "                                                                 \n",
      " dense (Dense)               (None, 1)                 257       \n",
      "                                                                 \n",
      "=================================================================\n",
      "Total params: 1234753 (4.71 MB)\n",
      "Trainable params: 234753 (917.00 KB)\n",
      "Non-trainable params: 1000000 (3.81 MB)\n",
      "_________________________________________________________________\n"
     ]
    }
   ],
   "source": [
    "# construction du modèle LSTM\n",
    "model_LSTM_w2v = build_LSTM_model(embedding_matrix)\n",
    "model_LSTM_w2v.summary()"
   ]
  },
  {
   "cell_type": "code",
   "execution_count": 44,
   "id": "a9396956-187e-4f88-9a57-35ded6ab12d4",
   "metadata": {},
   "outputs": [],
   "source": [
    "def create_callbacks(model_name, patience):\n",
    "    \"\"\"\n",
    "    Crée une liste de callbacks Keras pour le suivi et l'optimisation de l'entraînement.\n",
    "\n",
    "    Cette fonction configure deux callbacks :\n",
    "    - `ModelCheckpoint` : enregistre automatiquement le meilleur modèle\n",
    "                          (basé sur la validation loss).\n",
    "    - `EarlyStopping` : arrête l'entraînement si la validation loss ne s'améliore\n",
    "                        plus après un certain nombre d'époques.\n",
    "\n",
    "    Parameters\n",
    "    ----------\n",
    "    model_name : str\n",
    "        Nom du modèle\n",
    "    \n",
    "    patience : int\n",
    "        Nombre d’époques sans amélioration de la validation loss avant arrêt anticipé.\n",
    "\n",
    "    Returns\n",
    "    -------\n",
    "    callbacks : list\n",
    "        Liste contenant les callbacks `ModelCheckpoint` et `EarlyStopping`.\n",
    "    \"\"\"\n",
    "    # Définir le callback ModelCheckpoint\n",
    "    checkpoint_path = './checkpoints/' + model_name + '.keras'\n",
    "    checkpoint_callback = ModelCheckpoint(\n",
    "    filepath=checkpoint_path,\n",
    "    save_weights_only=False,  # Sauvegarder le modèle entier\n",
    "    monitor='val_loss',  # Surveiller la loss sur le jeu de validation\n",
    "    mode='min',  # Sauvegarder le modèle lorsque la loss diminue\n",
    "    save_best_only=True,  # Sauvegarder uniquement le meilleur modèle\n",
    "    verbose=1\n",
    "    )\n",
    "\n",
    "    # Définir le callback EarlyStopping\n",
    "    es = EarlyStopping(monitor='val_loss', mode='min', verbose=1,\n",
    "                       patience=patience, restore_best_weights=True)\n",
    "    \n",
    "    return [checkpoint_callback, es]"
   ]
  },
  {
   "cell_type": "code",
   "execution_count": 45,
   "id": "5b91698c-dc00-4cff-a7b5-928ca5265a55",
   "metadata": {},
   "outputs": [],
   "source": [
    "callbacks_LSTM_w2v = create_callbacks(model_name=\"model_LSTM_w2v\", patience=5)"
   ]
  },
  {
   "cell_type": "code",
   "execution_count": 46,
   "id": "4d24f8d3-628b-4b61-a854-ad96ef540db5",
   "metadata": {},
   "outputs": [
    {
     "name": "stdout",
     "output_type": "stream",
     "text": [
      "Epoch 1/20\n"
     ]
    },
    {
     "name": "stderr",
     "output_type": "stream",
     "text": [
      "2025-05-05 21:01:29.603305: I external/local_xla/xla/stream_executor/cuda/cuda_dnn.cc:454] Loaded cuDNN version 8907\n",
      "2025-05-05 21:01:30.575275: I external/local_xla/xla/service/service.cc:168] XLA service 0x7fd1495c5ea0 initialized for platform CUDA (this does not guarantee that XLA will be used). Devices:\n",
      "2025-05-05 21:01:30.575319: I external/local_xla/xla/service/service.cc:176]   StreamExecutor device (0): NVIDIA GeForce RTX 2070 SUPER, Compute Capability 7.5\n",
      "2025-05-05 21:01:30.580350: I tensorflow/compiler/mlir/tensorflow/utils/dump_mlir_util.cc:269] disabling MLIR crash reproducer, set env var `MLIR_CRASH_REPRODUCER_DIRECTORY` to enable.\n",
      "WARNING: All log messages before absl::InitializeLog() is called are written to STDERR\n",
      "I0000 00:00:1746471690.667711    7298 device_compiler.h:186] Compiled cluster using XLA!  This line is logged at most once for the lifetime of the process.\n"
     ]
    },
    {
     "name": "stdout",
     "output_type": "stream",
     "text": [
      "3200/3200 [==============================] - ETA: 0s - loss: 0.5323 - accuracy: 0.7316 - auc: 0.8087\n",
      "Epoch 1: val_loss improved from inf to 0.46550, saving model to ./checkpoints/model_LSTM_w2v.keras\n",
      "3200/3200 [==============================] - 80s 24ms/step - loss: 0.5323 - accuracy: 0.7316 - auc: 0.8087 - val_loss: 0.4655 - val_accuracy: 0.7766 - val_auc: 0.8645\n",
      "Epoch 2/20\n",
      "3198/3200 [============================>.] - ETA: 0s - loss: 0.4800 - accuracy: 0.7691 - auc: 0.8501\n",
      "Epoch 2: val_loss improved from 0.46550 to 0.44017, saving model to ./checkpoints/model_LSTM_w2v.keras\n",
      "3200/3200 [==============================] - 79s 25ms/step - loss: 0.4800 - accuracy: 0.7691 - auc: 0.8502 - val_loss: 0.4402 - val_accuracy: 0.7908 - val_auc: 0.8762\n",
      "Epoch 3/20\n",
      "3199/3200 [============================>.] - ETA: 0s - loss: 0.4667 - accuracy: 0.7767 - auc: 0.8592\n",
      "Epoch 3: val_loss improved from 0.44017 to 0.43256, saving model to ./checkpoints/model_LSTM_w2v.keras\n",
      "3200/3200 [==============================] - 74s 23ms/step - loss: 0.4667 - accuracy: 0.7767 - auc: 0.8592 - val_loss: 0.4326 - val_accuracy: 0.7956 - val_auc: 0.8808\n",
      "Epoch 4/20\n",
      "3198/3200 [============================>.] - ETA: 0s - loss: 0.4519 - accuracy: 0.7847 - auc: 0.8688\n",
      "Epoch 4: val_loss improved from 0.43256 to 0.43007, saving model to ./checkpoints/model_LSTM_w2v.keras\n",
      "3200/3200 [==============================] - 71s 22ms/step - loss: 0.4521 - accuracy: 0.7846 - auc: 0.8687 - val_loss: 0.4301 - val_accuracy: 0.7988 - val_auc: 0.8845\n",
      "Epoch 5/20\n",
      "3200/3200 [==============================] - ETA: 0s - loss: 0.4472 - accuracy: 0.7874 - auc: 0.8717\n",
      "Epoch 5: val_loss improved from 0.43007 to 0.42379, saving model to ./checkpoints/model_LSTM_w2v.keras\n",
      "3200/3200 [==============================] - 74s 23ms/step - loss: 0.4472 - accuracy: 0.7874 - auc: 0.8717 - val_loss: 0.4238 - val_accuracy: 0.8030 - val_auc: 0.8870\n",
      "Epoch 6/20\n",
      "3200/3200 [==============================] - ETA: 0s - loss: 0.4395 - accuracy: 0.7925 - auc: 0.8766\n",
      "Epoch 6: val_loss improved from 0.42379 to 0.42345, saving model to ./checkpoints/model_LSTM_w2v.keras\n",
      "3200/3200 [==============================] - 90s 28ms/step - loss: 0.4395 - accuracy: 0.7925 - auc: 0.8766 - val_loss: 0.4234 - val_accuracy: 0.8040 - val_auc: 0.8887\n",
      "Epoch 7/20\n",
      "3198/3200 [============================>.] - ETA: 0s - loss: 0.4406 - accuracy: 0.7924 - auc: 0.8760\n",
      "Epoch 7: val_loss improved from 0.42345 to 0.42157, saving model to ./checkpoints/model_LSTM_w2v.keras\n",
      "3200/3200 [==============================] - 76s 24ms/step - loss: 0.4405 - accuracy: 0.7924 - auc: 0.8760 - val_loss: 0.4216 - val_accuracy: 0.8055 - val_auc: 0.8895\n",
      "Epoch 8/20\n",
      "3200/3200 [==============================] - ETA: 0s - loss: 0.4310 - accuracy: 0.7971 - auc: 0.8818\n",
      "Epoch 8: val_loss improved from 0.42157 to 0.41757, saving model to ./checkpoints/model_LSTM_w2v.keras\n",
      "3200/3200 [==============================] - 77s 24ms/step - loss: 0.4310 - accuracy: 0.7971 - auc: 0.8818 - val_loss: 0.4176 - val_accuracy: 0.8079 - val_auc: 0.8914\n",
      "Epoch 9/20\n",
      "3199/3200 [============================>.] - ETA: 0s - loss: 0.4257 - accuracy: 0.8013 - auc: 0.8848\n",
      "Epoch 9: val_loss did not improve from 0.41757\n",
      "3200/3200 [==============================] - 77s 24ms/step - loss: 0.4257 - accuracy: 0.8014 - auc: 0.8849 - val_loss: 0.4202 - val_accuracy: 0.8064 - val_auc: 0.8912\n",
      "Epoch 10/20\n",
      "3198/3200 [============================>.] - ETA: 0s - loss: 0.4222 - accuracy: 0.8021 - auc: 0.8869\n",
      "Epoch 10: val_loss did not improve from 0.41757\n",
      "3200/3200 [==============================] - 77s 24ms/step - loss: 0.4222 - accuracy: 0.8021 - auc: 0.8869 - val_loss: 0.4183 - val_accuracy: 0.8079 - val_auc: 0.8923\n",
      "Epoch 11/20\n",
      "3198/3200 [============================>.] - ETA: 0s - loss: 0.4216 - accuracy: 0.8027 - auc: 0.8874\n",
      "Epoch 11: val_loss did not improve from 0.41757\n",
      "3200/3200 [==============================] - 80s 25ms/step - loss: 0.4216 - accuracy: 0.8027 - auc: 0.8874 - val_loss: 0.4206 - val_accuracy: 0.8077 - val_auc: 0.8922\n",
      "Epoch 12/20\n",
      "3199/3200 [============================>.] - ETA: 0s - loss: 0.4160 - accuracy: 0.8070 - auc: 0.8906\n",
      "Epoch 12: val_loss did not improve from 0.41757\n",
      "3200/3200 [==============================] - 76s 24ms/step - loss: 0.4161 - accuracy: 0.8069 - auc: 0.8906 - val_loss: 0.4186 - val_accuracy: 0.8089 - val_auc: 0.8929\n",
      "Epoch 13/20\n",
      "3200/3200 [==============================] - ETA: 0s - loss: 0.4153 - accuracy: 0.8077 - auc: 0.8909\n",
      "Epoch 13: val_loss did not improve from 0.41757\n",
      "Restoring model weights from the end of the best epoch: 8.\n",
      "3200/3200 [==============================] - 75s 24ms/step - loss: 0.4153 - accuracy: 0.8077 - auc: 0.8909 - val_loss: 0.4176 - val_accuracy: 0.8088 - val_auc: 0.8928\n",
      "Epoch 13: early stopping\n"
     ]
    }
   ],
   "source": [
    "# Entrainement du modèle LSTM\n",
    "start_fit_time = time.time() \n",
    "history_LSTM_w2v = model_LSTM_w2v.fit(\n",
    "    X_train_padded, y_train,\n",
    "    epochs=20,\n",
    "    batch_size=32,\n",
    "    validation_split=0.2,\n",
    "    callbacks=callbacks_LSTM_w2v,\n",
    "    verbose=1\n",
    ")\n",
    "fit_time = time.time() - start_fit_time"
   ]
  },
  {
   "cell_type": "code",
   "execution_count": 47,
   "id": "1c3df03d-0dff-43ef-8920-b41fa743685d",
   "metadata": {},
   "outputs": [
    {
     "data": {
      "image/png": "[encoded data removed]",
      "text/plain": [
       "<Figure size 1800x600 with 3 Axes>"
      ]
     },
     "metadata": {},
     "output_type": "display_data"
    }
   ],
   "source": [
    "# Affichage des métriques au cours des époques\n",
    "plot_history(history_LSTM_w2v)\n",
    "plt.tight_layout()\n",
    "plt.savefig('conv_history_LSTM_w2v.png')\n",
    "plt.show()"
   ]
  },
  {
   "cell_type": "code",
   "execution_count": 48,
   "id": "afa8c502-7e15-4cf9-ad88-eca31ae89929",
   "metadata": {},
   "outputs": [],
   "source": [
    "def evaluate_model(model, train_data, test_data, y_train=None, y_test=None):\n",
    "    \"\"\"\n",
    "    Évalue un modèle Keras sur les ensembles d'entraînement et de test, et mesure le temps d'inférence.\n",
    "\n",
    "    Elle retourne les métriques de performance (accuracy et AUC) sur les deux ensembles, \n",
    "    ainsi que le temps d'inférence sur le jeu de test.\n",
    "\n",
    "    Parameters\n",
    "    ----------\n",
    "    model : tf.keras.Model\n",
    "        Modèle Keras compilé à évaluer.\n",
    "\n",
    "    train_data : tf.data.Dataset ou array-like\n",
    "        Données d'entraînement (dataset ou features).\n",
    "\n",
    "    test_data : tf.data.Dataset ou array-like\n",
    "        Données de test (dataset ou features).\n",
    "\n",
    "    y_train : array-like, optional\n",
    "        Labels d'entraînement (à fournir si `train_data` n'est pas un dataset).\n",
    "\n",
    "    y_test : array-like, optional\n",
    "        Labels de test (à fournir si `test_data` n'est pas un dataset).\n",
    "\n",
    "    Returns\n",
    "    -------\n",
    "    train_accuracy : float\n",
    "        Accuracy sur l’ensemble d'entraînement.\n",
    "\n",
    "    train_AUC : float\n",
    "        AUC sur l’ensemble d'entraînement.\n",
    "\n",
    "    test_accuracy : float\n",
    "        Accuracy sur l’ensemble de test.\n",
    "\n",
    "    test_AUC : float\n",
    "        AUC sur l’ensemble de test.\n",
    "\n",
    "    test_pred_time : float\n",
    "        Temps d’inférence (en secondes) sur le jeu de test.\n",
    "    \"\"\"\n",
    "    # Vérifier si on utilise des datasets ou des paires X/y\n",
    "    using_datasets = y_train is None and y_test is None\n",
    "    \n",
    "    # Évaluer le modèle sur les données d'entraînement\n",
    "    if using_datasets:\n",
    "        train_loss, train_accuracy, train_AUC = model.evaluate(train_data, verbose=0)\n",
    "    else:\n",
    "        train_loss, train_accuracy, train_AUC = model.evaluate(train_data, y_train, verbose=0)\n",
    "    \n",
    "    # Évaluer le modèle sur les données de test\n",
    "    start_pred_time = time.time()\n",
    "    if using_datasets:\n",
    "        test_loss, test_accuracy, test_AUC = model.evaluate(test_data, verbose=0)\n",
    "    else:\n",
    "        test_loss, test_accuracy, test_AUC = model.evaluate(test_data, y_test, verbose=0)\n",
    "    test_pred_time = time.time() - start_pred_time\n",
    "    \n",
    "    # Afficher les résultats\n",
    "    print(f'Train Accuracy: {train_accuracy:.3f}')\n",
    "    print(f'Train AUC: {train_AUC:.3f}')\n",
    "    print(f'Test Accuracy: {test_accuracy:.3f}')\n",
    "    print(f'Test AUC: {test_AUC:.3f}')\n",
    "    \n",
    "    return train_accuracy, train_AUC, test_accuracy, test_AUC, test_pred_time"
   ]
  },
  {
   "cell_type": "code",
   "execution_count": 49,
   "id": "4ca9a231-474b-436b-bb8d-5f39afc48d61",
   "metadata": {},
   "outputs": [
    {
     "name": "stdout",
     "output_type": "stream",
     "text": [
      "Train Accuracy: 0.825\n",
      "Train AUC: 0.908\n",
      "Test Accuracy: 0.806\n",
      "Test AUC: 0.889\n"
     ]
    }
   ],
   "source": [
    "# evalutation du modèle sur données de test et d'entraînement\n",
    "train_accu, train_AUC, test_accu, test_AUC, test_pred_time = evaluate_model(\n",
    "    model_LSTM_w2v,\n",
    "    X_train_padded,\n",
    "    X_test_padded,\n",
    "    y_train,    \n",
    "    y_test\n",
    ")"
   ]
  },
  {
   "cell_type": "markdown",
   "id": "e76bd70a-7d9a-41af-8573-7bf98c5bf3c1",
   "metadata": {},
   "source": [
    "Enregistrements avec MLflow :"
   ]
  },
  {
   "cell_type": "code",
   "execution_count": 50,
   "id": "3bf39539-265b-48c4-b351-005c860e9c28",
   "metadata": {},
   "outputs": [],
   "source": [
    "metrics = {\n",
    "    'Train Accuracy': train_accu,\n",
    "    'Test Accuracy': test_accu,\n",
    "    'Train AUC': train_AUC,\n",
    "    'Test AUC': test_AUC,\n",
    "}"
   ]
  },
  {
   "cell_type": "code",
   "execution_count": 51,
   "id": "60901c4f-2672-4ee4-8ce5-8f7900229cf5",
   "metadata": {},
   "outputs": [],
   "source": [
    "times = {\n",
    "    'fit_time': fit_time, \n",
    "    'test_predict_time': test_pred_time\n",
    "}"
   ]
  },
  {
   "cell_type": "code",
   "execution_count": 52,
   "id": "c427e29e-b2a6-41d5-b266-d053c2663a4a",
   "metadata": {},
   "outputs": [],
   "source": [
    "# Tracé courbe ROC\n",
    "y_proba_test = model_LSTM_w2v.predict(X_test_padded, batch_size=32, verbose=0)\n",
    "fpr, tpr, _ = roc_curve(y_test, y_proba_test)\n",
    "sns.set()\n",
    "plt.figure()\n",
    "plt.plot(fpr, tpr, label='ROC curve')\n",
    "plt.xlabel('False Positive Rate', fontsize=12)\n",
    "plt.ylabel('True Positive Rate', fontsize=12)\n",
    "plt.title(f'ROC Curve (Test Data) - Modèle LSTM - AUC = {test_AUC:.3f}',\n",
    "          fontweight='bold', fontsize=14)\n",
    "plt.savefig('roc_curve_LSTM_w2v.png')\n",
    "plt.close()"
   ]
  },
  {
   "cell_type": "code",
   "execution_count": 53,
   "id": "d92a383b-7682-4afd-8d62-37b331f4ffb3",
   "metadata": {},
   "outputs": [],
   "source": [
    "artifacts = {\n",
    "    'roc_curve': 'roc_curve_LSTM_w2v.png',\n",
    "    'conv_history': 'conv_history_LSTM_w2v.png'\n",
    "}"
   ]
  },
  {
   "cell_type": "code",
   "execution_count": 54,
   "id": "42564eb8-f364-4fa1-9a83-cc6ff164b8c7",
   "metadata": {},
   "outputs": [],
   "source": [
    "# récupère les paramètres des différentes couches de neurones\n",
    "params = log_model_layers(model_LSTM_w2v)"
   ]
  },
  {
   "cell_type": "code",
   "execution_count": 55,
   "id": "d8a60146-9bc0-4dfe-a6b1-ad0f664d9cc3",
   "metadata": {},
   "outputs": [],
   "source": [
    "example_text = \"This is an example tweet for input serialization.\"\n",
    "\n",
    "# Tokeniser l'exemple avec le tokenizer utilisé pour l'entraînement\n",
    "example_sequence = tokenizer.texts_to_sequences([example_text])\n",
    "\n",
    "# Appliquer le padding pour garantir que l'exemple a la bonne longueur\n",
    "input_example = pad_sequences(example_sequence, maxlen=max_len)"
   ]
  },
  {
   "cell_type": "code",
   "execution_count": 56,
   "id": "98484148-eb3c-444d-9505-a674c5612385",
   "metadata": {},
   "outputs": [
    {
     "name": "stdout",
     "output_type": "stream",
     "text": [
      "1/1 [==============================] - 0s 362ms/step\n",
      "INFO:tensorflow:Assets written to: /tmp/tmp8nnv8eij/model/data/model/assets\n"
     ]
    },
    {
     "name": "stderr",
     "output_type": "stream",
     "text": [
      "INFO:tensorflow:Assets written to: /tmp/tmp8nnv8eij/model/data/model/assets\n"
     ]
    },
    {
     "name": "stdout",
     "output_type": "stream",
     "text": [
      "Modèle et résultats enregistrés dans MLflow sous le run ID: 8d906a69713a44d783089c0a4eb213d6\n"
     ]
    }
   ],
   "source": [
    "# Appel de la fonction de log\n",
    "log_experiment(\n",
    "    model_LSTM_w2v,\n",
    "    params,\n",
    "    metrics,\n",
    "    artifacts,\n",
    "    input_example,\n",
    "    times,\n",
    "    \"LSTM_w2v\"\n",
    ")"
   ]
  },
  {
   "cell_type": "markdown",
   "id": "75ea11f1-111b-43e7-8d2d-36db53cfa1b6",
   "metadata": {},
   "source": [
    "## LSTM avec embeddings Glove"
   ]
  },
  {
   "cell_type": "code",
   "execution_count": 57,
   "id": "f0ef60ec-eaee-4e2b-bae8-80be2bd3d2d6",
   "metadata": {},
   "outputs": [],
   "source": [
    "# construction de la matrice d'embeddings\n",
    "embedding_matrix = glove_embedding_matrix(tokenizer, max_words, \n",
    "                                          embedding_dim=100)"
   ]
  },
  {
   "cell_type": "code",
   "execution_count": 58,
   "id": "cdd04fd8-4161-4977-b219-7c27d985f2e6",
   "metadata": {},
   "outputs": [
    {
     "name": "stdout",
     "output_type": "stream",
     "text": [
      "Model: \"sequential_1\"\n",
      "_________________________________________________________________\n",
      " Layer (type)                Output Shape              Param #   \n",
      "=================================================================\n",
      " embedding_1 (Embedding)     (None, None, 100)         1000000   \n",
      "                                                                 \n",
      " bidirectional_1 (Bidirecti  (None, 256)               234496    \n",
      " onal)                                                           \n",
      "                                                                 \n",
      " dense_1 (Dense)             (None, 1)                 257       \n",
      "                                                                 \n",
      "=================================================================\n",
      "Total params: 1234753 (4.71 MB)\n",
      "Trainable params: 234753 (917.00 KB)\n",
      "Non-trainable params: 1000000 (3.81 MB)\n",
      "_________________________________________________________________\n"
     ]
    }
   ],
   "source": [
    "# construction du modèle LSTM\n",
    "model_LSTM_glove = build_LSTM_model(embedding_matrix)\n",
    "model_LSTM_glove.summary()"
   ]
  },
  {
   "cell_type": "code",
   "execution_count": 59,
   "id": "5e45ef3c-7bd1-4067-be38-46f33dd8d6e1",
   "metadata": {},
   "outputs": [],
   "source": [
    "callbacks_LSTM_glove = create_callbacks(model_name=\"model_LSTM_glove\",\n",
    "                                        patience=5)"
   ]
  },
  {
   "cell_type": "code",
   "execution_count": 60,
   "id": "77d9b8a0-432d-4785-9ed1-944b12869c4b",
   "metadata": {},
   "outputs": [
    {
     "name": "stdout",
     "output_type": "stream",
     "text": [
      "Epoch 1/20\n",
      "3199/3200 [============================>.] - ETA: 0s - loss: 0.5372 - accuracy: 0.7257 - auc: 0.8035\n",
      "Epoch 1: val_loss improved from inf to 0.47832, saving model to ./checkpoints/model_LSTM_glove.keras\n",
      "3200/3200 [==============================] - 79s 24ms/step - loss: 0.5373 - accuracy: 0.7257 - auc: 0.8035 - val_loss: 0.4783 - val_accuracy: 0.7662 - val_auc: 0.8501\n",
      "Epoch 2/20\n",
      "3198/3200 [============================>.] - ETA: 0s - loss: 0.4967 - accuracy: 0.7561 - auc: 0.8372\n",
      "Epoch 2: val_loss improved from 0.47832 to 0.45542, saving model to ./checkpoints/model_LSTM_glove.keras\n",
      "3200/3200 [==============================] - 77s 24ms/step - loss: 0.4967 - accuracy: 0.7561 - auc: 0.8372 - val_loss: 0.4554 - val_accuracy: 0.7822 - val_auc: 0.8673\n",
      "Epoch 3/20\n",
      "3198/3200 [============================>.] - ETA: 0s - loss: 0.4775 - accuracy: 0.7681 - auc: 0.8513\n",
      "Epoch 3: val_loss improved from 0.45542 to 0.44723, saving model to ./checkpoints/model_LSTM_glove.keras\n",
      "3200/3200 [==============================] - 76s 24ms/step - loss: 0.4775 - accuracy: 0.7681 - auc: 0.8513 - val_loss: 0.4472 - val_accuracy: 0.7902 - val_auc: 0.8753\n",
      "Epoch 4/20\n",
      "3200/3200 [==============================] - ETA: 0s - loss: 0.4669 - accuracy: 0.7754 - auc: 0.8587\n",
      "Epoch 4: val_loss improved from 0.44723 to 0.44145, saving model to ./checkpoints/model_LSTM_glove.keras\n",
      "3200/3200 [==============================] - 80s 25ms/step - loss: 0.4669 - accuracy: 0.7754 - auc: 0.8587 - val_loss: 0.4414 - val_accuracy: 0.7923 - val_auc: 0.8780\n",
      "Epoch 5/20\n",
      "3198/3200 [============================>.] - ETA: 0s - loss: 0.4586 - accuracy: 0.7801 - auc: 0.8641\n",
      "Epoch 5: val_loss improved from 0.44145 to 0.43316, saving model to ./checkpoints/model_LSTM_glove.keras\n",
      "3200/3200 [==============================] - 76s 24ms/step - loss: 0.4585 - accuracy: 0.7802 - auc: 0.8641 - val_loss: 0.4332 - val_accuracy: 0.7980 - val_auc: 0.8806\n",
      "Epoch 6/20\n",
      "3200/3200 [==============================] - ETA: 0s - loss: 0.4511 - accuracy: 0.7841 - auc: 0.8690\n",
      "Epoch 6: val_loss improved from 0.43316 to 0.42957, saving model to ./checkpoints/model_LSTM_glove.keras\n",
      "3200/3200 [==============================] - 76s 24ms/step - loss: 0.4511 - accuracy: 0.7841 - auc: 0.8690 - val_loss: 0.4296 - val_accuracy: 0.7986 - val_auc: 0.8831\n",
      "Epoch 7/20\n",
      "3199/3200 [============================>.] - ETA: 0s - loss: 0.4449 - accuracy: 0.7888 - auc: 0.8730\n",
      "Epoch 7: val_loss improved from 0.42957 to 0.42833, saving model to ./checkpoints/model_LSTM_glove.keras\n",
      "3200/3200 [==============================] - 77s 24ms/step - loss: 0.4449 - accuracy: 0.7888 - auc: 0.8731 - val_loss: 0.4283 - val_accuracy: 0.7989 - val_auc: 0.8838\n",
      "Epoch 8/20\n",
      "3199/3200 [============================>.] - ETA: 0s - loss: 0.4370 - accuracy: 0.7926 - auc: 0.8778\n",
      "Epoch 8: val_loss did not improve from 0.42833\n",
      "3200/3200 [==============================] - 76s 24ms/step - loss: 0.4370 - accuracy: 0.7926 - auc: 0.8778 - val_loss: 0.4299 - val_accuracy: 0.7996 - val_auc: 0.8845\n",
      "Epoch 9/20\n",
      "3199/3200 [============================>.] - ETA: 0s - loss: 0.4307 - accuracy: 0.7981 - auc: 0.8817\n",
      "Epoch 9: val_loss improved from 0.42833 to 0.42642, saving model to ./checkpoints/model_LSTM_glove.keras\n",
      "3200/3200 [==============================] - 79s 25ms/step - loss: 0.4307 - accuracy: 0.7981 - auc: 0.8816 - val_loss: 0.4264 - val_accuracy: 0.8019 - val_auc: 0.8860\n",
      "Epoch 10/20\n",
      "3199/3200 [============================>.] - ETA: 0s - loss: 0.4260 - accuracy: 0.7998 - auc: 0.8844\n",
      "Epoch 10: val_loss improved from 0.42642 to 0.42414, saving model to ./checkpoints/model_LSTM_glove.keras\n",
      "3200/3200 [==============================] - 76s 24ms/step - loss: 0.4260 - accuracy: 0.7998 - auc: 0.8844 - val_loss: 0.4241 - val_accuracy: 0.8045 - val_auc: 0.8871\n",
      "Epoch 11/20\n",
      "3198/3200 [============================>.] - ETA: 0s - loss: 0.4207 - accuracy: 0.8028 - auc: 0.8876\n",
      "Epoch 11: val_loss improved from 0.42414 to 0.42354, saving model to ./checkpoints/model_LSTM_glove.keras\n",
      "3200/3200 [==============================] - 76s 24ms/step - loss: 0.4208 - accuracy: 0.8027 - auc: 0.8876 - val_loss: 0.4235 - val_accuracy: 0.8036 - val_auc: 0.8876\n",
      "Epoch 12/20\n",
      "3199/3200 [============================>.] - ETA: 0s - loss: 0.4166 - accuracy: 0.8048 - auc: 0.8900\n",
      "Epoch 12: val_loss improved from 0.42354 to 0.42020, saving model to ./checkpoints/model_LSTM_glove.keras\n",
      "3200/3200 [==============================] - 76s 24ms/step - loss: 0.4166 - accuracy: 0.8048 - auc: 0.8900 - val_loss: 0.4202 - val_accuracy: 0.8062 - val_auc: 0.8891\n",
      "Epoch 13/20\n",
      "3200/3200 [==============================] - ETA: 0s - loss: 0.4128 - accuracy: 0.8066 - auc: 0.8920\n",
      "Epoch 13: val_loss did not improve from 0.42020\n",
      "3200/3200 [==============================] - 73s 23ms/step - loss: 0.4128 - accuracy: 0.8066 - auc: 0.8920 - val_loss: 0.4222 - val_accuracy: 0.8056 - val_auc: 0.8885\n",
      "Epoch 14/20\n",
      "3200/3200 [==============================] - ETA: 0s - loss: 0.4063 - accuracy: 0.8094 - auc: 0.8954\n",
      "Epoch 14: val_loss did not improve from 0.42020\n",
      "3200/3200 [==============================] - 71s 22ms/step - loss: 0.4063 - accuracy: 0.8094 - auc: 0.8954 - val_loss: 0.4240 - val_accuracy: 0.8034 - val_auc: 0.8888\n",
      "Epoch 15/20\n",
      "3198/3200 [============================>.] - ETA: 0s - loss: 0.4028 - accuracy: 0.8121 - auc: 0.8975\n",
      "Epoch 15: val_loss did not improve from 0.42020\n",
      "3200/3200 [==============================] - 86s 27ms/step - loss: 0.4028 - accuracy: 0.8122 - auc: 0.8975 - val_loss: 0.4245 - val_accuracy: 0.8053 - val_auc: 0.8885\n",
      "Epoch 16/20\n",
      "3200/3200 [==============================] - ETA: 0s - loss: 0.3991 - accuracy: 0.8133 - auc: 0.8995\n",
      "Epoch 16: val_loss did not improve from 0.42020\n",
      "3200/3200 [==============================] - 76s 24ms/step - loss: 0.3991 - accuracy: 0.8133 - auc: 0.8995 - val_loss: 0.4256 - val_accuracy: 0.8055 - val_auc: 0.8882\n",
      "Epoch 17/20\n",
      "3199/3200 [============================>.] - ETA: 0s - loss: 0.3966 - accuracy: 0.8162 - auc: 0.9008\n",
      "Epoch 17: val_loss did not improve from 0.42020\n",
      "Restoring model weights from the end of the best epoch: 12.\n",
      "3200/3200 [==============================] - 70s 22ms/step - loss: 0.3966 - accuracy: 0.8162 - auc: 0.9008 - val_loss: 0.4240 - val_accuracy: 0.8060 - val_auc: 0.8883\n",
      "Epoch 17: early stopping\n"
     ]
    }
   ],
   "source": [
    "# Entrainement du modèle\n",
    "start_fit_time = time.time() \n",
    "history_LSTM_glove = model_LSTM_glove.fit(\n",
    "    X_train_padded, y_train,\n",
    "    epochs=20,\n",
    "    batch_size=32,\n",
    "    validation_split=0.2,\n",
    "    callbacks=callbacks_LSTM_glove,\n",
    "    verbose=1\n",
    ")\n",
    "fit_time = time.time() - start_fit_time"
   ]
  },
  {
   "cell_type": "code",
   "execution_count": 61,
   "id": "0693970e-f55c-43a0-ae07-f5e3d7f50aaf",
   "metadata": {},
   "outputs": [
    {
     "data": {
      "image/png": "[encoded data removed]",
      "text/plain": [
       "<Figure size 1800x600 with 3 Axes>"
      ]
     },
     "metadata": {},
     "output_type": "display_data"
    }
   ],
   "source": [
    "# Affichage des métriques au cours de époques\n",
    "plot_history(history_LSTM_glove)\n",
    "plt.tight_layout()\n",
    "plt.savefig('conv_history_LSTM_glove.png')\n",
    "plt.show()"
   ]
  },
  {
   "cell_type": "code",
   "execution_count": 62,
   "id": "25688090-a530-4e9a-a852-cd6662ddcd80",
   "metadata": {},
   "outputs": [
    {
     "name": "stdout",
     "output_type": "stream",
     "text": [
      "Train Accuracy: 0.829\n",
      "Train AUC: 0.914\n",
      "Test Accuracy: 0.803\n",
      "Test AUC: 0.888\n"
     ]
    }
   ],
   "source": [
    "# évaluation du modèle sur les données d'entrainement et de test\n",
    "train_accu, train_AUC, test_accu, test_AUC, test_pred_time = evaluate_model(\n",
    "    model_LSTM_glove,\n",
    "    X_train_padded,\n",
    "    X_test_padded,\n",
    "    y_train,    \n",
    "    y_test\n",
    ")"
   ]
  },
  {
   "cell_type": "markdown",
   "id": "2c4540ad-3c55-46b6-979b-5026bdda0feb",
   "metadata": {},
   "source": [
    "Enregistrements avec MLflow :"
   ]
  },
  {
   "cell_type": "code",
   "execution_count": 63,
   "id": "db688c53-98fc-44d2-9846-7703176e668b",
   "metadata": {},
   "outputs": [],
   "source": [
    "metrics = {\n",
    "    'Train Accuracy': train_accu,\n",
    "    'Test Accuracy': test_accu,\n",
    "    'Train AUC': train_AUC,\n",
    "    'Test AUC': test_AUC,\n",
    "}\n",
    "\n",
    "times = {\n",
    "    'fit_time': fit_time, \n",
    "    'test_predict_time': test_pred_time\n",
    "}\n",
    "\n",
    "# tracé de la courbe ROC\n",
    "y_proba_test = model_LSTM_glove.predict(X_test_padded, batch_size=32, verbose=0)\n",
    "fpr, tpr, _ = roc_curve(y_test, y_proba_test)\n",
    "sns.set()\n",
    "plt.figure()\n",
    "plt.plot(fpr, tpr, label='ROC curve')\n",
    "plt.xlabel('False Positive Rate', fontsize=12)\n",
    "plt.ylabel('True Positive Rate', fontsize=12)\n",
    "plt.title(f'ROC Curve (Test Data) - Modèle LSTM - AUC = {test_AUC:.3f}',\n",
    "          fontweight='bold', fontsize=14)\n",
    "plt.savefig('roc_curve_LSTM_glove.png')\n",
    "plt.close()\n",
    "\n",
    "artifacts = {\n",
    "    'roc_curve': 'roc_curve_LSTM_glove.png',\n",
    "    'conv_history': 'conv_history_LSTM_glove.png'\n",
    "}\n",
    "\n",
    "# récupère les paramètres des couches de neurones\n",
    "params = log_model_layers(model_LSTM_glove)"
   ]
  },
  {
   "cell_type": "code",
   "execution_count": 64,
   "id": "6b2f778a-34b6-451e-8dd9-f813ab44049a",
   "metadata": {},
   "outputs": [
    {
     "name": "stdout",
     "output_type": "stream",
     "text": [
      "1/1 [==============================] - 0s 397ms/step\n",
      "INFO:tensorflow:Assets written to: /tmp/tmp6_m_tq24/model/data/model/assets\n"
     ]
    },
    {
     "name": "stderr",
     "output_type": "stream",
     "text": [
      "INFO:tensorflow:Assets written to: /tmp/tmp6_m_tq24/model/data/model/assets\n"
     ]
    },
    {
     "name": "stdout",
     "output_type": "stream",
     "text": [
      "Modèle et résultats enregistrés dans MLflow sous le run ID: ddea05a6cb2146d0b9be961a9d83a96f\n"
     ]
    }
   ],
   "source": [
    "# appel de la fonction de log\n",
    "log_experiment(\n",
    "    model_LSTM_glove,\n",
    "    params,\n",
    "    metrics,\n",
    "    artifacts,\n",
    "    input_example,\n",
    "    times,\n",
    "    \"LSTM_glove\"\n",
    ")"
   ]
  },
  {
   "cell_type": "markdown",
   "id": "50424a92-3774-4a79-9b38-8817aa3a44a8",
   "metadata": {},
   "source": [
    "## CNN"
   ]
  },
  {
   "cell_type": "markdown",
   "id": "b4c71180-ebf7-446b-bd79-66dedd8c71f3",
   "metadata": {},
   "source": [
    "Construction d'un réseau de neurones convolutif, avec embeddings GloVe :"
   ]
  },
  {
   "cell_type": "code",
   "execution_count": 65,
   "id": "8234fce7-ccda-44f1-9c74-3769479f1899",
   "metadata": {},
   "outputs": [
    {
     "name": "stdout",
     "output_type": "stream",
     "text": [
      "Model: \"sequential_2\"\n",
      "_________________________________________________________________\n",
      " Layer (type)                Output Shape              Param #   \n",
      "=================================================================\n",
      " embedding_2 (Embedding)     (None, 100, 100)          1000000   \n",
      "                                                                 \n",
      " conv1d (Conv1D)             (None, 98, 128)           38528     \n",
      "                                                                 \n",
      " global_max_pooling1d (Glob  (None, 128)               0         \n",
      " alMaxPooling1D)                                                 \n",
      "                                                                 \n",
      " dropout (Dropout)           (None, 128)               0         \n",
      "                                                                 \n",
      " dense_2 (Dense)             (None, 1)                 129       \n",
      "                                                                 \n",
      "=================================================================\n",
      "Total params: 1038657 (3.96 MB)\n",
      "Trainable params: 38657 (151.00 KB)\n",
      "Non-trainable params: 1000000 (3.81 MB)\n",
      "_________________________________________________________________\n"
     ]
    }
   ],
   "source": [
    "model_CNN = build_CNN_model(embedding_matrix)\n",
    "model_CNN.summary()"
   ]
  },
  {
   "cell_type": "code",
   "execution_count": 66,
   "id": "852bada3-38ac-4e3e-91e4-4267a853727f",
   "metadata": {},
   "outputs": [],
   "source": [
    "callbacks_CNN = create_callbacks(model_name=\"model_CNN\",\n",
    "                                        patience=5)"
   ]
  },
  {
   "cell_type": "code",
   "execution_count": 67,
   "id": "60adb914-9cab-45be-b6aa-5871852e71da",
   "metadata": {},
   "outputs": [
    {
     "name": "stdout",
     "output_type": "stream",
     "text": [
      "Epoch 1/20\n",
      "3198/3200 [============================>.] - ETA: 0s - loss: 0.5359 - accuracy: 0.7328 - auc: 0.8074\n",
      "Epoch 1: val_loss improved from inf to 0.47355, saving model to ./checkpoints/model_CNN.keras\n",
      "3200/3200 [==============================] - 17s 5ms/step - loss: 0.5359 - accuracy: 0.7329 - auc: 0.8074 - val_loss: 0.4736 - val_accuracy: 0.7775 - val_auc: 0.8574\n",
      "Epoch 2/20\n",
      "3196/3200 [============================>.] - ETA: 0s - loss: 0.4865 - accuracy: 0.7685 - auc: 0.8474\n",
      "Epoch 2: val_loss improved from 0.47355 to 0.46213, saving model to ./checkpoints/model_CNN.keras\n",
      "3200/3200 [==============================] - 16s 5ms/step - loss: 0.4865 - accuracy: 0.7685 - auc: 0.8474 - val_loss: 0.4621 - val_accuracy: 0.7834 - val_auc: 0.8644\n",
      "Epoch 3/20\n",
      "3199/3200 [============================>.] - ETA: 0s - loss: 0.4720 - accuracy: 0.7784 - auc: 0.8575\n",
      "Epoch 3: val_loss improved from 0.46213 to 0.45804, saving model to ./checkpoints/model_CNN.keras\n",
      "3200/3200 [==============================] - 16s 5ms/step - loss: 0.4721 - accuracy: 0.7783 - auc: 0.8575 - val_loss: 0.4580 - val_accuracy: 0.7873 - val_auc: 0.8672\n",
      "Epoch 4/20\n",
      "3193/3200 [============================>.] - ETA: 0s - loss: 0.4622 - accuracy: 0.7842 - auc: 0.8639\n",
      "Epoch 4: val_loss improved from 0.45804 to 0.45281, saving model to ./checkpoints/model_CNN.keras\n",
      "3200/3200 [==============================] - 21s 7ms/step - loss: 0.4624 - accuracy: 0.7840 - auc: 0.8638 - val_loss: 0.4528 - val_accuracy: 0.7908 - val_auc: 0.8704\n",
      "Epoch 5/20\n",
      "3200/3200 [==============================] - ETA: 0s - loss: 0.4561 - accuracy: 0.7881 - auc: 0.8681\n",
      "Epoch 5: val_loss improved from 0.45281 to 0.44887, saving model to ./checkpoints/model_CNN.keras\n",
      "3200/3200 [==============================] - 16s 5ms/step - loss: 0.4561 - accuracy: 0.7881 - auc: 0.8681 - val_loss: 0.4489 - val_accuracy: 0.7933 - val_auc: 0.8728\n",
      "Epoch 6/20\n",
      "3191/3200 [============================>.] - ETA: 0s - loss: 0.4513 - accuracy: 0.7902 - auc: 0.8710\n",
      "Epoch 6: val_loss did not improve from 0.44887\n",
      "3200/3200 [==============================] - 16s 5ms/step - loss: 0.4513 - accuracy: 0.7902 - auc: 0.8710 - val_loss: 0.4498 - val_accuracy: 0.7925 - val_auc: 0.8717\n",
      "Epoch 7/20\n",
      "3187/3200 [============================>.] - ETA: 0s - loss: 0.4477 - accuracy: 0.7932 - auc: 0.8733\n",
      "Epoch 7: val_loss did not improve from 0.44887\n",
      "3200/3200 [==============================] - 15s 5ms/step - loss: 0.4478 - accuracy: 0.7932 - auc: 0.8733 - val_loss: 0.4493 - val_accuracy: 0.7932 - val_auc: 0.8725\n",
      "Epoch 8/20\n",
      "3192/3200 [============================>.] - ETA: 0s - loss: 0.4430 - accuracy: 0.7966 - auc: 0.8763\n",
      "Epoch 8: val_loss did not improve from 0.44887\n",
      "3200/3200 [==============================] - 16s 5ms/step - loss: 0.4430 - accuracy: 0.7966 - auc: 0.8764 - val_loss: 0.4495 - val_accuracy: 0.7936 - val_auc: 0.8726\n",
      "Epoch 9/20\n",
      "3193/3200 [============================>.] - ETA: 0s - loss: 0.4375 - accuracy: 0.7993 - auc: 0.8798\n",
      "Epoch 9: val_loss improved from 0.44887 to 0.44852, saving model to ./checkpoints/model_CNN.keras\n",
      "3200/3200 [==============================] - 24s 7ms/step - loss: 0.4377 - accuracy: 0.7992 - auc: 0.8796 - val_loss: 0.4485 - val_accuracy: 0.7924 - val_auc: 0.8727\n",
      "Epoch 10/20\n",
      "3197/3200 [============================>.] - ETA: 0s - loss: 0.4363 - accuracy: 0.8000 - auc: 0.8805\n",
      "Epoch 10: val_loss improved from 0.44852 to 0.44800, saving model to ./checkpoints/model_CNN.keras\n",
      "3200/3200 [==============================] - 16s 5ms/step - loss: 0.4363 - accuracy: 0.8000 - auc: 0.8805 - val_loss: 0.4480 - val_accuracy: 0.7922 - val_auc: 0.8730\n",
      "Epoch 11/20\n",
      "3193/3200 [============================>.] - ETA: 0s - loss: 0.4337 - accuracy: 0.8014 - auc: 0.8819\n",
      "Epoch 11: val_loss improved from 0.44800 to 0.44750, saving model to ./checkpoints/model_CNN.keras\n",
      "3200/3200 [==============================] - 18s 6ms/step - loss: 0.4337 - accuracy: 0.8014 - auc: 0.8820 - val_loss: 0.4475 - val_accuracy: 0.7932 - val_auc: 0.8734\n",
      "Epoch 12/20\n",
      "3197/3200 [============================>.] - ETA: 0s - loss: 0.4295 - accuracy: 0.8038 - auc: 0.8845\n",
      "Epoch 12: val_loss did not improve from 0.44750\n",
      "3200/3200 [==============================] - 16s 5ms/step - loss: 0.4296 - accuracy: 0.8038 - auc: 0.8845 - val_loss: 0.4494 - val_accuracy: 0.7940 - val_auc: 0.8733\n",
      "Epoch 13/20\n",
      "3195/3200 [============================>.] - ETA: 0s - loss: 0.4288 - accuracy: 0.8052 - auc: 0.8853\n",
      "Epoch 13: val_loss did not improve from 0.44750\n",
      "3200/3200 [==============================] - 19s 6ms/step - loss: 0.4288 - accuracy: 0.8052 - auc: 0.8853 - val_loss: 0.4500 - val_accuracy: 0.7919 - val_auc: 0.8733\n",
      "Epoch 14/20\n",
      "3198/3200 [============================>.] - ETA: 0s - loss: 0.4268 - accuracy: 0.8062 - auc: 0.8861\n",
      "Epoch 14: val_loss did not improve from 0.44750\n",
      "3200/3200 [==============================] - 15s 5ms/step - loss: 0.4268 - accuracy: 0.8062 - auc: 0.8861 - val_loss: 0.4478 - val_accuracy: 0.7943 - val_auc: 0.8739\n",
      "Epoch 15/20\n",
      "3197/3200 [============================>.] - ETA: 0s - loss: 0.4232 - accuracy: 0.8075 - auc: 0.8882\n",
      "Epoch 15: val_loss did not improve from 0.44750\n",
      "3200/3200 [==============================] - 19s 6ms/step - loss: 0.4231 - accuracy: 0.8075 - auc: 0.8883 - val_loss: 0.4510 - val_accuracy: 0.7934 - val_auc: 0.8731\n",
      "Epoch 16/20\n",
      "3189/3200 [============================>.] - ETA: 0s - loss: 0.4202 - accuracy: 0.8099 - auc: 0.8900\n",
      "Epoch 16: val_loss did not improve from 0.44750\n",
      "Restoring model weights from the end of the best epoch: 11.\n",
      "3200/3200 [==============================] - 17s 5ms/step - loss: 0.4202 - accuracy: 0.8099 - auc: 0.8900 - val_loss: 0.4487 - val_accuracy: 0.7953 - val_auc: 0.8733\n",
      "Epoch 16: early stopping\n"
     ]
    }
   ],
   "source": [
    "# Entrainement du CNN\n",
    "start_fit_time = time.time() \n",
    "history_CNN = model_CNN.fit(\n",
    "    X_train_padded, y_train,\n",
    "    epochs=20,\n",
    "    batch_size=32,\n",
    "    validation_split=0.2,\n",
    "    callbacks=callbacks_CNN,\n",
    "    verbose=1\n",
    ")\n",
    "fit_time = time.time() - start_fit_time"
   ]
  },
  {
   "cell_type": "code",
   "execution_count": 68,
   "id": "f01e90f6-4e1d-4582-b079-664d1b7b7cc0",
   "metadata": {},
   "outputs": [
    {
     "data": {
      "image/png": "[encoded data removed]",
      "text/plain": [
       "<Figure size 1800x600 with 3 Axes>"
      ]
     },
     "metadata": {},
     "output_type": "display_data"
    }
   ],
   "source": [
    "# Affichage des métriques au cours des époques\n",
    "plot_history(history_CNN)\n",
    "plt.tight_layout()\n",
    "plt.savefig('conv_history_CNN.png')\n",
    "plt.show()"
   ]
  },
  {
   "cell_type": "code",
   "execution_count": 69,
   "id": "a9005042-36ca-43e9-9cc4-06f858c650f7",
   "metadata": {},
   "outputs": [
    {
     "name": "stdout",
     "output_type": "stream",
     "text": [
      "Train Accuracy: 0.824\n",
      "Train AUC: 0.904\n",
      "Test Accuracy: 0.797\n",
      "Test AUC: 0.877\n"
     ]
    }
   ],
   "source": [
    "# Évaluation du modèle\n",
    "train_accu, train_AUC, test_accu, test_AUC, test_pred_time = evaluate_model(\n",
    "    model_CNN,\n",
    "    X_train_padded,\n",
    "    X_test_padded,\n",
    "    y_train,    \n",
    "    y_test\n",
    ")"
   ]
  },
  {
   "cell_type": "markdown",
   "id": "ac89348b-02fa-44bc-a8af-ec7551d683a2",
   "metadata": {},
   "source": [
    "Enregistrements avec MLflow :"
   ]
  },
  {
   "cell_type": "code",
   "execution_count": 70,
   "id": "aaba56a3-d535-4c28-9849-af7a13213b97",
   "metadata": {},
   "outputs": [],
   "source": [
    "metrics = {\n",
    "    'Train Accuracy': train_accu,\n",
    "    'Test Accuracy': test_accu,\n",
    "    'Train AUC': train_AUC,\n",
    "    'Test AUC': test_AUC,\n",
    "}\n",
    "\n",
    "times = {\n",
    "    'fit_time': fit_time, \n",
    "    'test_predict_time': test_pred_time\n",
    "}"
   ]
  },
  {
   "cell_type": "code",
   "execution_count": 71,
   "id": "17a86527-827f-40bd-8466-cff762916b62",
   "metadata": {},
   "outputs": [],
   "source": [
    "y_proba_test = model_CNN.predict(X_test_padded, batch_size=32, verbose=0)\n",
    "fpr, tpr, _ = roc_curve(y_test, y_proba_test)\n",
    "sns.set()\n",
    "plt.figure()\n",
    "plt.plot(fpr, tpr, label='ROC curve')\n",
    "plt.xlabel('False Positive Rate', fontsize=12)\n",
    "plt.ylabel('True Positive Rate', fontsize=12)\n",
    "plt.title(f'ROC Curve (Test Data) - Modèle LSTM - AUC = {test_AUC:.3f}',\n",
    "          fontweight='bold', fontsize=14)\n",
    "plt.savefig('roc_curve_CNN.png')\n",
    "plt.close()\n",
    "\n",
    "artifacts = {\n",
    "    'roc_curve': 'roc_curve_CNN.png',\n",
    "    'conv_history': 'conv_history_CNN.png'\n",
    "}"
   ]
  },
  {
   "cell_type": "code",
   "execution_count": 72,
   "id": "2f0a1b93-81e6-407b-a9ad-fd76986338b0",
   "metadata": {},
   "outputs": [],
   "source": [
    "# récupère les paramètres des couches de neurones\n",
    "params = log_model_layers(model_CNN)"
   ]
  },
  {
   "cell_type": "code",
   "execution_count": 73,
   "id": "1da09c91-1fa1-4e05-9bcc-69bed419d105",
   "metadata": {},
   "outputs": [
    {
     "name": "stdout",
     "output_type": "stream",
     "text": [
      "1/1 [==============================] - 0s 154ms/step\n",
      "INFO:tensorflow:Assets written to: /tmp/tmpxfr3nzek/model/data/model/assets\n"
     ]
    },
    {
     "name": "stderr",
     "output_type": "stream",
     "text": [
      "INFO:tensorflow:Assets written to: /tmp/tmpxfr3nzek/model/data/model/assets\n"
     ]
    },
    {
     "name": "stdout",
     "output_type": "stream",
     "text": [
      "Modèle et résultats enregistrés dans MLflow sous le run ID: 34aea745d7a34a5a8f6237dee9c68a98\n"
     ]
    }
   ],
   "source": [
    "# appel de la fonction de log\n",
    "log_experiment(\n",
    "    model_CNN,\n",
    "    params,\n",
    "    metrics,\n",
    "    artifacts,\n",
    "    input_example,\n",
    "    times,\n",
    "    \"CNN\"\n",
    ")"
   ]
  },
  {
   "cell_type": "markdown",
   "id": "72dd3e48-c0fd-4ed0-9302-f0a86123631c",
   "metadata": {},
   "source": [
    "# Modèle avancé BERT"
   ]
  },
  {
   "cell_type": "markdown",
   "id": "bf74ee17-819a-4656-8b35-91e4d2ffd69e",
   "metadata": {},
   "source": [
    "Pour ce modèle avancé, nous avons utilisé DistilBERT, une version allégée de BERT conçue pour offrir des performances proches tout en étant plus rapide et moins coûteuse en ressources. Nous l'avons alors fine-tuné sur notre tâche de classification de sentiments."
   ]
  },
  {
   "cell_type": "markdown",
   "id": "e6d1c458-4eaa-4bd4-ad2e-26bebd0aaf4c",
   "metadata": {},
   "source": [
    "## Prétraitement des données"
   ]
  },
  {
   "cell_type": "code",
   "execution_count": 74,
   "id": "319394a5-5d10-40c9-8eac-b0545203b4a7",
   "metadata": {},
   "outputs": [],
   "source": [
    "def prepare_BERT_datasets(X_train, X_test, y_train, y_test, max_len, batch_size,\n",
    "                                          val_split=0.2):\n",
    "    \"\"\"\n",
    "    Prépare les datasets TensorFlow pour l'entraînement avec un modèle BERT,\n",
    "    en utilisant directement X_train et X_test.\n",
    "\n",
    "    :param X_train: Liste ou array de textes d'entraînement.\n",
    "    :param X_test: Liste ou array de textes de test.\n",
    "    :param y_train: Labels associés aux textes d'entraînement.\n",
    "    :param y_test: Labels associés aux textes de test.\n",
    "    :param max_len: Longueur maximale des séquences BERT.\n",
    "    :param batch_size: Taille des batchs.\n",
    "    :param val_split: Proportion des données d'entraînement réservée à la validation.\n",
    "    :param tokenizer: (Optionnel) Tokenizer BERT préchargé. Si None, charge 'distilbert-base-uncased'.\n",
    "\n",
    "    :return: Tuple `(train_dataset, val_dataset, test_dataset, tokenizer, train_size)`\n",
    "    \"\"\"\n",
    "   \n",
    "    tokenizer = DistilBertTokenizerFast.from_pretrained('distilbert-base-uncased')\n",
    "\n",
    "    # Tokenisation des textes d'entraînement et de test\n",
    "    train_inputs = tokenizer(list(X_train), max_length=max_len, padding=True, truncation=True, return_tensors=\"np\")\n",
    "    test_inputs = tokenizer(list(X_test), max_length=max_len, padding=True, truncation=True, return_tensors=\"np\")\n",
    "\n",
    "    train_input_ids = train_inputs['input_ids']\n",
    "    train_attention_mask = train_inputs['attention_mask']\n",
    "    test_input_ids = test_inputs['input_ids']\n",
    "    test_attention_mask = test_inputs['attention_mask']\n",
    "\n",
    "    # Taille d'entraînement pour le split val\n",
    "    full_train_size = len(train_input_ids)\n",
    "    val_size = int(full_train_size * val_split)\n",
    "    train_size = full_train_size - val_size\n",
    "\n",
    "    # Créer le dataset complet d'entraînement\n",
    "    full_train_dataset = tf.data.Dataset.from_tensor_slices((\n",
    "        {'input_ids': tf.constant(train_input_ids), 'attention_mask': tf.constant(train_attention_mask)},\n",
    "        tf.constant(y_train)\n",
    "    ))\n",
    "\n",
    "    # Split en train/val\n",
    "    train_dataset = full_train_dataset.take(train_size)\n",
    "    val_dataset = full_train_dataset.skip(train_size)\n",
    "\n",
    "    # Préparer le dataset test\n",
    "    test_dataset = tf.data.Dataset.from_tensor_slices((\n",
    "        {'input_ids': tf.constant(test_input_ids), 'attention_mask': tf.constant(test_attention_mask)},\n",
    "        tf.constant(y_test)\n",
    "    ))\n",
    "\n",
    "    # Shuffle, batch, prefetch\n",
    "    train_dataset = train_dataset.shuffle(train_size).batch(batch_size).prefetch(tf.data.AUTOTUNE)\n",
    "    val_dataset = val_dataset.batch(batch_size).prefetch(tf.data.AUTOTUNE)\n",
    "    test_dataset = test_dataset.batch(batch_size).prefetch(tf.data.AUTOTUNE)\n",
    "\n",
    "    return train_dataset, val_dataset, test_dataset, tokenizer, train_size"
   ]
  },
  {
   "cell_type": "code",
   "execution_count": 75,
   "id": "4232fbf8-9ed3-4ece-9a79-0ef25d340d7b",
   "metadata": {},
   "outputs": [],
   "source": [
    "max_len = 128\n",
    "batch_size = 32\n",
    "learning_rate = 2e-5\n",
    "weight_decay_rate = 0.01\n",
    "epochs = 6"
   ]
  },
  {
   "cell_type": "code",
   "execution_count": 76,
   "id": "79e2ab91-7490-472e-b203-e5be6d956e21",
   "metadata": {},
   "outputs": [],
   "source": [
    "train_dataset, val_dataset, test_dataset, bert_tokenizer, train_data_size = prepare_BERT_datasets(\n",
    "    X_train, X_test, y_train, y_test, max_len=128, batch_size=32, val_split=0.2\n",
    ")"
   ]
  },
  {
   "cell_type": "markdown",
   "id": "fa4b7cec-c5b1-4029-88f2-453f54161152",
   "metadata": {},
   "source": [
    "## Construction du modèle"
   ]
  },
  {
   "cell_type": "code",
   "execution_count": 77,
   "id": "954fb0ce-dd0b-447d-aadb-efda08c3d60b",
   "metadata": {},
   "outputs": [],
   "source": [
    "def build_BERT_model(learning_rate, weight_decay_rate, train_data_size, epochs):\n",
    "    \"\"\"\n",
    "    Construit et compile un modèle DistilBERT pour la classification binaire, adapté au fine-tuning.\n",
    "\n",
    "    Le modèle est basé sur `TFDistilBertForSequenceClassification` avec une seule\n",
    "    unité de sortie (logits). \n",
    "\n",
    "    Parameters\n",
    "    ----------\n",
    "    learning_rate : float\n",
    "        Taux d’apprentissage initial pour l’optimiseur.\n",
    "\n",
    "    weight_decay_rate : float\n",
    "        Taux de régularisation L2 (weight decay) appliqué pendant l'entraînement.\n",
    "\n",
    "    train_data_size : int\n",
    "        Taille du jeu d’entraînement, utilisé pour calculer le nombre de pas d’entraînement.\n",
    "\n",
    "    epochs : int\n",
    "        Nombre total d’époques prévues, utilisé pour calculer les steps totaux et le warmup.\n",
    "\n",
    "    Returns\n",
    "    -------\n",
    "    model : tf.keras.Model\n",
    "        Modèle DistilBERT compilé, prêt pour l’entraînement.\n",
    "    \"\"\"\n",
    "\n",
    "    # Charger un modèle DistilBERT pré-entraîné pour classification binaire\n",
    "    model = TFDistilBertForSequenceClassification.from_pretrained(\n",
    "        'distilbert-base-uncased',\n",
    "        num_labels=1,        # Classification binaire (logits)\n",
    "        dropout=0.5          # Dropout pour régularisation\n",
    "    )\n",
    "\n",
    "    # Calcul du nombre total de pas d'entraînement\n",
    "    num_train_steps = (train_data_size // batch_size) * epochs\n",
    "    # 10% des steps en phase de warm-up\n",
    "    num_warmup_steps = int(0.1 * num_train_steps)\n",
    "\n",
    "    # Création de l'optimiseur avec warm-up et weight decay\n",
    "    optimizer, _ = create_optimizer(\n",
    "        init_lr=learning_rate,\n",
    "        num_train_steps=num_train_steps,\n",
    "        num_warmup_steps=num_warmup_steps,\n",
    "        weight_decay_rate=weight_decay_rate\n",
    "    )\n",
    "\n",
    "    # Définir la fonction de perte (cross-entropie binaire avec logits)\n",
    "    loss = tf.keras.losses.BinaryCrossentropy(from_logits=True)\n",
    "\n",
    "    # Définir les métriques de suivi\n",
    "    metrics = [\n",
    "        tf.keras.metrics.BinaryAccuracy(name='accuracy'),\n",
    "        tf.keras.metrics.AUC(name='auc')\n",
    "    ]\n",
    "\n",
    "    # Compiler le modèle\n",
    "    model.compile(loss=loss, optimizer=optimizer, metrics=metrics)\n",
    "\n",
    "    return model"
   ]
  },
  {
   "cell_type": "code",
   "execution_count": 78,
   "id": "d529b75c-3510-49d9-a8d8-677427a1ac05",
   "metadata": {},
   "outputs": [
    {
     "name": "stderr",
     "output_type": "stream",
     "text": [
      "Some weights of the PyTorch model were not used when initializing the TF 2.0 model TFDistilBertForSequenceClassification: ['vocab_layer_norm.weight', 'vocab_transform.bias', 'vocab_transform.weight', 'vocab_projector.bias', 'vocab_layer_norm.bias']\n",
      "- This IS expected if you are initializing TFDistilBertForSequenceClassification from a PyTorch model trained on another task or with another architecture (e.g. initializing a TFBertForSequenceClassification model from a BertForPreTraining model).\n",
      "- This IS NOT expected if you are initializing TFDistilBertForSequenceClassification from a PyTorch model that you expect to be exactly identical (e.g. initializing a TFBertForSequenceClassification model from a BertForSequenceClassification model).\n",
      "Some weights or buffers of the TF 2.0 model TFDistilBertForSequenceClassification were not initialized from the PyTorch model and are newly initialized: ['pre_classifier.weight', 'pre_classifier.bias', 'classifier.weight', 'classifier.bias']\n",
      "You should probably TRAIN this model on a down-stream task to be able to use it for predictions and inference.\n"
     ]
    },
    {
     "name": "stdout",
     "output_type": "stream",
     "text": [
      "Model: \"tf_distil_bert_for_sequence_classification\"\n",
      "_________________________________________________________________\n",
      " Layer (type)                Output Shape              Param #   \n",
      "=================================================================\n",
      " distilbert (TFDistilBertMa  multiple                  66362880  \n",
      " inLayer)                                                        \n",
      "                                                                 \n",
      " pre_classifier (Dense)      multiple                  590592    \n",
      "                                                                 \n",
      " classifier (Dense)          multiple                  769       \n",
      "                                                                 \n",
      " dropout_20 (Dropout)        multiple                  0 (unused)\n",
      "                                                                 \n",
      "=================================================================\n",
      "Total params: 66954241 (255.41 MB)\n",
      "Trainable params: 66954241 (255.41 MB)\n",
      "Non-trainable params: 0 (0.00 Byte)\n",
      "_________________________________________________________________\n"
     ]
    }
   ],
   "source": [
    "model_BERT = build_BERT_model(learning_rate, weight_decay_rate, train_data_size,\n",
    "                             epochs)\n",
    "model_BERT.summary()"
   ]
  },
  {
   "cell_type": "markdown",
   "id": "59f18598-450a-4d66-9b65-402dca79c564",
   "metadata": {},
   "source": [
    "## Entraînement et évaluation du modèle"
   ]
  },
  {
   "cell_type": "code",
   "execution_count": 79,
   "id": "c1e7f952-ee36-4eda-b3ef-01ce07ce46c3",
   "metadata": {},
   "outputs": [],
   "source": [
    "callbacks_BERT = create_callbacks(model_name=\"model_BERT\",\n",
    "                                        patience=3)"
   ]
  },
  {
   "cell_type": "code",
   "execution_count": 80,
   "id": "a765857b-f9bc-46f5-b5b2-34955fb508fb",
   "metadata": {},
   "outputs": [
    {
     "name": "stdout",
     "output_type": "stream",
     "text": [
      "Epoch 1/6\n",
      "3200/3200 [==============================] - ETA: 0s - loss: 0.5079 - accuracy: 0.7265 - auc: 0.7819\n",
      "Epoch 1: val_loss improved from inf to 0.42949, saving model to ./checkpoints/model_BERT.keras\n"
     ]
    },
    {
     "name": "stderr",
     "output_type": "stream",
     "text": [
      "/home/ngod/tensorflow/tf_venv/lib/python3.10/site-packages/transformers/generation/tf_utils.py:465: UserWarning: `seed_generator` is deprecated and will be removed in a future version.\n",
      "  warnings.warn(\"`seed_generator` is deprecated and will be removed in a future version.\", UserWarning)\n"
     ]
    },
    {
     "name": "stdout",
     "output_type": "stream",
     "text": [
      "3200/3200 [==============================] - 537s 165ms/step - loss: 0.5079 - accuracy: 0.7265 - auc: 0.7819 - val_loss: 0.4295 - val_accuracy: 0.7866 - val_auc: 0.8205\n",
      "Epoch 2/6\n",
      "3200/3200 [==============================] - ETA: 0s - loss: 0.4240 - accuracy: 0.7942 - auc: 0.8354\n",
      "Epoch 2: val_loss improved from 0.42949 to 0.39815, saving model to ./checkpoints/model_BERT.keras\n",
      "3200/3200 [==============================] - 552s 172ms/step - loss: 0.4240 - accuracy: 0.7942 - auc: 0.8354 - val_loss: 0.3982 - val_accuracy: 0.8150 - val_auc: 0.8433\n",
      "Epoch 3/6\n",
      "3200/3200 [==============================] - ETA: 0s - loss: 0.3991 - accuracy: 0.8107 - auc: 0.8480\n",
      "Epoch 3: val_loss did not improve from 0.39815\n",
      "3200/3200 [==============================] - 537s 168ms/step - loss: 0.3991 - accuracy: 0.8107 - auc: 0.8480 - val_loss: 0.4142 - val_accuracy: 0.8047 - val_auc: 0.8352\n",
      "Epoch 4/6\n",
      "3200/3200 [==============================] - ETA: 0s - loss: 0.3782 - accuracy: 0.8211 - auc: 0.8578\n",
      "Epoch 4: val_loss improved from 0.39815 to 0.39238, saving model to ./checkpoints/model_BERT.keras\n",
      "3200/3200 [==============================] - 539s 168ms/step - loss: 0.3782 - accuracy: 0.8211 - auc: 0.8578 - val_loss: 0.3924 - val_accuracy: 0.8188 - val_auc: 0.8478\n",
      "Epoch 5/6\n",
      "3200/3200 [==============================] - ETA: 0s - loss: 0.3649 - accuracy: 0.8282 - auc: 0.8646\n",
      "Epoch 5: val_loss did not improve from 0.39238\n",
      "3200/3200 [==============================] - 528s 165ms/step - loss: 0.3649 - accuracy: 0.8282 - auc: 0.8646 - val_loss: 0.3959 - val_accuracy: 0.8234 - val_auc: 0.8503\n",
      "Epoch 6/6\n",
      "3200/3200 [==============================] - ETA: 0s - loss: 0.3558 - accuracy: 0.8333 - auc: 0.8691\n",
      "Epoch 6: val_loss did not improve from 0.39238\n",
      "3200/3200 [==============================] - 550s 172ms/step - loss: 0.3558 - accuracy: 0.8333 - auc: 0.8691 - val_loss: 0.4037 - val_accuracy: 0.8202 - val_auc: 0.8465\n"
     ]
    }
   ],
   "source": [
    "# Entrainement\n",
    "start_fit_time = time.time() \n",
    "history_BERT = model_BERT.fit(\n",
    "    train_dataset,\n",
    "    validation_data=val_dataset,\n",
    "    epochs=epochs,\n",
    "    callbacks=callbacks_BERT,\n",
    "    verbose=1\n",
    ")\n",
    "fit_time = time.time() - start_fit_time"
   ]
  },
  {
   "cell_type": "code",
   "execution_count": 81,
   "id": "a8418b4a-9a80-4745-b528-1b4b1537cb24",
   "metadata": {},
   "outputs": [
    {
     "data": {
      "image/png": "[encoded data removed]",
      "text/plain": [
       "<Figure size 1800x600 with 3 Axes>"
      ]
     },
     "metadata": {},
     "output_type": "display_data"
    }
   ],
   "source": [
    "# Affichage des métriques au cours des époques\n",
    "plot_history(history_BERT)\n",
    "plt.tight_layout()\n",
    "plt.savefig('conv_history_BERT.png')\n",
    "plt.show()"
   ]
  },
  {
   "cell_type": "code",
   "execution_count": 82,
   "id": "38283ffb-080b-4b1e-bdb8-7422cfa494f8",
   "metadata": {},
   "outputs": [
    {
     "name": "stdout",
     "output_type": "stream",
     "text": [
      "Train Accuracy: 0.847\n",
      "Train AUC: 0.875\n",
      "Test Accuracy: 0.815\n",
      "Test AUC: 0.842\n"
     ]
    }
   ],
   "source": [
    "# évalutation du modèle\n",
    "train_accu, train_AUC, test_accu, test_AUC, test_pred_time = evaluate_model(\n",
    "    model_BERT,\n",
    "    train_dataset,\n",
    "    test_dataset\n",
    ")"
   ]
  },
  {
   "cell_type": "markdown",
   "id": "d05cfe67-5c15-43c5-adfc-3fbe1860ef0c",
   "metadata": {},
   "source": [
    "## Enregistrements avec MLflow"
   ]
  },
  {
   "cell_type": "code",
   "execution_count": 83,
   "id": "aa09ab61-efd7-4c3f-af07-2f7f8fbef0ef",
   "metadata": {},
   "outputs": [],
   "source": [
    "metrics = {\n",
    "    'Train Accuracy': train_accu,\n",
    "    'Test Accuracy': test_accu,\n",
    "    'Train AUC': train_AUC,\n",
    "    'Test AUC': test_AUC,\n",
    "}\n",
    "\n",
    "times = {\n",
    "    'fit_time': fit_time, \n",
    "    'test_predict_time': test_pred_time\n",
    "}\n",
    "\n",
    "artifacts = {\n",
    "    'conv_history': 'conv_history_BERT.png'\n",
    "}"
   ]
  },
  {
   "cell_type": "code",
   "execution_count": 84,
   "id": "fc85e3e1-37f2-4010-bd5f-18f92e84d1bf",
   "metadata": {},
   "outputs": [],
   "source": [
    "params = log_model_layers(model_BERT)"
   ]
  },
  {
   "cell_type": "code",
   "execution_count": 85,
   "id": "0f88c6eb-57fa-4cd1-9f3c-902d9082719e",
   "metadata": {},
   "outputs": [],
   "source": [
    "# Exemple de texte\n",
    "text = \"This is a test sentence.\"\n",
    "\n",
    "# Encode une seule phrase\n",
    "example_encoded = bert_tokenizer(\n",
    "    text,\n",
    "    max_length=max_len,\n",
    "    padding='max_length',\n",
    "    truncation=True,\n",
    "    return_tensors=\"np\"\n",
    ")\n",
    "\n",
    "input_example = {\n",
    "    \"input_ids\": example_encoded[\"input_ids\"],\n",
    "    \"attention_mask\": example_encoded[\"attention_mask\"]\n",
    "}"
   ]
  },
  {
   "cell_type": "code",
   "execution_count": 86,
   "id": "ed8f0756-196b-4468-a5cb-48a0085555af",
   "metadata": {},
   "outputs": [
    {
     "name": "stdout",
     "output_type": "stream",
     "text": [
      "1/1 [==============================] - 1s 825ms/step\n",
      "WARNING:tensorflow:Skipping full serialization of Keras layer <keras.src.layers.regularization.dropout.Dropout object at 0x7fd1f97cc550>, because it is not built.\n"
     ]
    },
    {
     "name": "stderr",
     "output_type": "stream",
     "text": [
      "WARNING:tensorflow:Skipping full serialization of Keras layer <keras.src.layers.regularization.dropout.Dropout object at 0x7fd1f97cc550>, because it is not built.\n"
     ]
    },
    {
     "name": "stdout",
     "output_type": "stream",
     "text": [
      "WARNING:tensorflow:Skipping full serialization of Keras layer <keras.src.layers.regularization.dropout.Dropout object at 0x7fd1f934b220>, because it is not built.\n"
     ]
    },
    {
     "name": "stderr",
     "output_type": "stream",
     "text": [
      "WARNING:tensorflow:Skipping full serialization of Keras layer <keras.src.layers.regularization.dropout.Dropout object at 0x7fd1f934b220>, because it is not built.\n"
     ]
    },
    {
     "name": "stdout",
     "output_type": "stream",
     "text": [
      "WARNING:tensorflow:Skipping full serialization of Keras layer <keras.src.layers.regularization.dropout.Dropout object at 0x7fd1f976a0b0>, because it is not built.\n"
     ]
    },
    {
     "name": "stderr",
     "output_type": "stream",
     "text": [
      "WARNING:tensorflow:Skipping full serialization of Keras layer <keras.src.layers.regularization.dropout.Dropout object at 0x7fd1f976a0b0>, because it is not built.\n"
     ]
    },
    {
     "name": "stdout",
     "output_type": "stream",
     "text": [
      "WARNING:tensorflow:Skipping full serialization of Keras layer <keras.src.layers.regularization.dropout.Dropout object at 0x7fd1f82dc790>, because it is not built.\n"
     ]
    },
    {
     "name": "stderr",
     "output_type": "stream",
     "text": [
      "WARNING:tensorflow:Skipping full serialization of Keras layer <keras.src.layers.regularization.dropout.Dropout object at 0x7fd1f82dc790>, because it is not built.\n"
     ]
    },
    {
     "name": "stdout",
     "output_type": "stream",
     "text": [
      "WARNING:tensorflow:Skipping full serialization of Keras layer <keras.src.layers.regularization.dropout.Dropout object at 0x7fd1f86f1210>, because it is not built.\n"
     ]
    },
    {
     "name": "stderr",
     "output_type": "stream",
     "text": [
      "WARNING:tensorflow:Skipping full serialization of Keras layer <keras.src.layers.regularization.dropout.Dropout object at 0x7fd1f86f1210>, because it is not built.\n"
     ]
    },
    {
     "name": "stdout",
     "output_type": "stream",
     "text": [
      "WARNING:tensorflow:Skipping full serialization of Keras layer <keras.src.layers.regularization.dropout.Dropout object at 0x7fd1f86f0e20>, because it is not built.\n"
     ]
    },
    {
     "name": "stderr",
     "output_type": "stream",
     "text": [
      "WARNING:tensorflow:Skipping full serialization of Keras layer <keras.src.layers.regularization.dropout.Dropout object at 0x7fd1f86f0e20>, because it is not built.\n"
     ]
    },
    {
     "name": "stdout",
     "output_type": "stream",
     "text": [
      "INFO:tensorflow:Assets written to: /tmp/tmp71mkveic/model/data/model/assets\n"
     ]
    },
    {
     "name": "stderr",
     "output_type": "stream",
     "text": [
      "INFO:tensorflow:Assets written to: /tmp/tmp71mkveic/model/data/model/assets\n"
     ]
    },
    {
     "name": "stdout",
     "output_type": "stream",
     "text": [
      "Modèle et résultats enregistrés dans MLflow sous le run ID: d779a297fcb043708af1e997b68021b2\n"
     ]
    }
   ],
   "source": [
    "# appel à la fonction de log\n",
    "log_experiment(\n",
    "    model_BERT,\n",
    "    params,\n",
    "    metrics,\n",
    "    artifacts,\n",
    "    input_example,\n",
    "    times,\n",
    "    \"BERT\"\n",
    ")"
   ]
  },
  {
   "cell_type": "markdown",
   "id": "2c204124-c8da-41fb-b83c-00d4c0c42141",
   "metadata": {},
   "source": [
    "# Enregistrement du modèle à déployer"
   ]
  },
  {
   "cell_type": "markdown",
   "id": "ee615bbe-1ae1-4e9a-a4f1-acf9175e5aac",
   "metadata": {},
   "source": [
    "Lorsqu’un modèle optimal est identifié parmi les runs sauvegardés avec MLflow, il est enregistré en vue de son déploiement sous forme d’API."
   ]
  },
  {
   "cell_type": "code",
   "execution_count": 87,
   "id": "c68c6abe-cfe4-4a35-ad2b-242b9ac0d8a6",
   "metadata": {},
   "outputs": [],
   "source": [
    "# chargement via mlflow du modèle à déployer \n",
    "deployed_model = mlflow.keras.load_model('runs:/826af6b6b6664f2f9c695772c629d71e/model')\n",
    "\n",
    "# enregistrement du modèle au format .h5\n",
    "deployed_model.save('model_LSTM.h5')"
   ]
  }
 ],
 "metadata": {
  "kernelspec": {
   "display_name": "env7",
   "language": "python",
   "name": "env7"
  },
  "language_info": {
   "codemirror_mode": {
    "name": "ipython",
    "version": 3
   },
   "file_extension": ".py",
   "mimetype": "text/x-python",
   "name": "python",
   "nbconvert_exporter": "python",
   "pygments_lexer": "ipython3",
   "version": "3.11.0"
  }
 },
 "nbformat": 4,
 "nbformat_minor": 5
}
